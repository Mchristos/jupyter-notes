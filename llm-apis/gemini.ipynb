{
 "cells": [
  {
   "cell_type": "code",
   "execution_count": 1,
   "id": "958dd2bb-b4cd-4afc-98c5-be240d78197f",
   "metadata": {
    "scrolled": true
   },
   "outputs": [
    {
     "name": "stdout",
     "output_type": "stream",
     "text": [
      "Requirement already satisfied: google-genai in /Users/mchristos/.asdf/installs/python/3.12.8/lib/python3.12/site-packages (1.39.1)\n",
      "Requirement already satisfied: anyio<5.0.0,>=4.8.0 in /Users/mchristos/.asdf/installs/python/3.12.8/lib/python3.12/site-packages (from google-genai) (4.11.0)\n",
      "Requirement already satisfied: google-auth<3.0.0,>=2.14.1 in /Users/mchristos/.asdf/installs/python/3.12.8/lib/python3.12/site-packages (from google-genai) (2.40.3)\n",
      "Requirement already satisfied: httpx<1.0.0,>=0.28.1 in /Users/mchristos/.asdf/installs/python/3.12.8/lib/python3.12/site-packages (from google-genai) (0.28.1)\n",
      "Requirement already satisfied: pydantic<3.0.0,>=2.0.0 in /Users/mchristos/.asdf/installs/python/3.12.8/lib/python3.12/site-packages (from google-genai) (2.10.3)\n",
      "Requirement already satisfied: requests<3.0.0,>=2.28.1 in /Users/mchristos/.asdf/installs/python/3.12.8/lib/python3.12/site-packages (from google-genai) (2.32.3)\n",
      "Requirement already satisfied: tenacity<9.2.0,>=8.2.3 in /Users/mchristos/.asdf/installs/python/3.12.8/lib/python3.12/site-packages (from google-genai) (9.0.0)\n",
      "Requirement already satisfied: websockets<15.1.0,>=13.0.0 in /Users/mchristos/.asdf/installs/python/3.12.8/lib/python3.12/site-packages (from google-genai) (15.0.1)\n",
      "Requirement already satisfied: typing-extensions<5.0.0,>=4.11.0 in /Users/mchristos/.asdf/installs/python/3.12.8/lib/python3.12/site-packages (from google-genai) (4.12.2)\n",
      "Requirement already satisfied: idna>=2.8 in /Users/mchristos/.asdf/installs/python/3.12.8/lib/python3.12/site-packages (from anyio<5.0.0,>=4.8.0->google-genai) (3.10)\n",
      "Requirement already satisfied: sniffio>=1.1 in /Users/mchristos/.asdf/installs/python/3.12.8/lib/python3.12/site-packages (from anyio<5.0.0,>=4.8.0->google-genai) (1.3.1)\n",
      "Requirement already satisfied: cachetools<6.0,>=2.0.0 in /Users/mchristos/.asdf/installs/python/3.12.8/lib/python3.12/site-packages (from google-auth<3.0.0,>=2.14.1->google-genai) (5.5.2)\n",
      "Requirement already satisfied: pyasn1-modules>=0.2.1 in /Users/mchristos/.asdf/installs/python/3.12.8/lib/python3.12/site-packages (from google-auth<3.0.0,>=2.14.1->google-genai) (0.4.2)\n",
      "Requirement already satisfied: rsa<5,>=3.1.4 in /Users/mchristos/.asdf/installs/python/3.12.8/lib/python3.12/site-packages (from google-auth<3.0.0,>=2.14.1->google-genai) (4.9.1)\n",
      "Requirement already satisfied: certifi in /Users/mchristos/.asdf/installs/python/3.12.8/lib/python3.12/site-packages (from httpx<1.0.0,>=0.28.1->google-genai) (2024.8.30)\n",
      "Requirement already satisfied: httpcore==1.* in /Users/mchristos/.asdf/installs/python/3.12.8/lib/python3.12/site-packages (from httpx<1.0.0,>=0.28.1->google-genai) (1.0.7)\n",
      "Requirement already satisfied: h11<0.15,>=0.13 in /Users/mchristos/.asdf/installs/python/3.12.8/lib/python3.12/site-packages (from httpcore==1.*->httpx<1.0.0,>=0.28.1->google-genai) (0.14.0)\n",
      "Requirement already satisfied: annotated-types>=0.6.0 in /Users/mchristos/.asdf/installs/python/3.12.8/lib/python3.12/site-packages (from pydantic<3.0.0,>=2.0.0->google-genai) (0.7.0)\n",
      "Requirement already satisfied: pydantic-core==2.27.1 in /Users/mchristos/.asdf/installs/python/3.12.8/lib/python3.12/site-packages (from pydantic<3.0.0,>=2.0.0->google-genai) (2.27.1)\n",
      "Requirement already satisfied: charset-normalizer<4,>=2 in /Users/mchristos/.asdf/installs/python/3.12.8/lib/python3.12/site-packages (from requests<3.0.0,>=2.28.1->google-genai) (3.4.0)\n",
      "Requirement already satisfied: urllib3<3,>=1.21.1 in /Users/mchristos/.asdf/installs/python/3.12.8/lib/python3.12/site-packages (from requests<3.0.0,>=2.28.1->google-genai) (2.2.3)\n",
      "Requirement already satisfied: pyasn1>=0.1.3 in /Users/mchristos/.asdf/installs/python/3.12.8/lib/python3.12/site-packages (from rsa<5,>=3.1.4->google-auth<3.0.0,>=2.14.1->google-genai) (0.6.1)\n"
     ]
    }
   ],
   "source": [
    "!pip install google-genai"
   ]
  },
  {
   "cell_type": "code",
   "execution_count": 2,
   "id": "bfc6de62-3651-4632-9d44-b2a6128cac0b",
   "metadata": {},
   "outputs": [
    {
     "name": "stdout",
     "output_type": "stream",
     "text": [
      "Requirement already satisfied: python-dotenv in /Users/mchristos/.asdf/installs/python/3.12.8/lib/python3.12/site-packages (1.0.1)\n"
     ]
    }
   ],
   "source": [
    "!pip install python-dotenv"
   ]
  },
  {
   "cell_type": "code",
   "execution_count": 3,
   "id": "2862190e-7a07-458c-89d7-2703011370b8",
   "metadata": {},
   "outputs": [
    {
     "name": "stdout",
     "output_type": "stream",
     "text": [
      "Key loaded\n",
      "GEMINI_API_KEY: ...PGF0\n"
     ]
    }
   ],
   "source": [
    "import os\n",
    "from dotenv import load_dotenv\n",
    "\n",
    "load_dotenv()\n",
    "api_key = os.getenv(\"GEMINI_API_KEY\")\n",
    "print(f\"{'Key loaded' if api_key else 'Key not loaded!'}\")\n",
    "print(f\"GEMINI_API_KEY: {'...' + api_key[-4:] if api_key else 'N/A'}\")"
   ]
  },
  {
   "cell_type": "code",
   "execution_count": null,
   "id": "bd28d522-e07b-4e0a-b083-89207776bc24",
   "metadata": {},
   "outputs": [],
   "source": [
    "from google import genai\n",
    "\n",
    "model = 'gemini-2.5-flash'\n",
    "client = genai.Client()\n",
    "\n",
    "prompt = \"Write a short, encouraging 5-word motto about learning Python.\"\n",
    "response = client.models.generate_content(\n",
    "    model=model,\n",
    "    contents=prompt\n",
    ")"
   ]
  },
  {
   "cell_type": "code",
   "execution_count": null,
   "id": "59ef20f7-5488-41ca-b060-ef1626ffd78d",
   "metadata": {},
   "outputs": [],
   "source": [
    "print(response.text)"
   ]
  },
  {
   "cell_type": "code",
   "execution_count": null,
   "id": "746c88d5-2629-4a8e-9895-6b2b401d4122",
   "metadata": {},
   "outputs": [],
   "source": [
    "chat = client.chats.create(model=model)"
   ]
  },
  {
   "cell_type": "code",
   "execution_count": null,
   "id": "c08b4645-591e-4092-b208-12af6e3a331a",
   "metadata": {},
   "outputs": [],
   "source": [
    "r = chat.send_message(\"hi, my favourite drink is coffee!\")"
   ]
  },
  {
   "cell_type": "code",
   "execution_count": null,
   "id": "c04e4195-a524-4cd9-b810-646620a2f1e5",
   "metadata": {},
   "outputs": [],
   "source": [
    "print(r.text)"
   ]
  },
  {
   "cell_type": "code",
   "execution_count": null,
   "id": "de67491a-7bc7-4481-aee6-64c868efb555",
   "metadata": {},
   "outputs": [],
   "source": [
    "r = chat.send_message(\"What's my fav drink again? I'm forgetful\")\n",
    "print(r.text)"
   ]
  },
  {
   "cell_type": "code",
   "execution_count": null,
   "id": "e2fafe60-5dbd-45d2-9a78-6180bda05550",
   "metadata": {},
   "outputs": [],
   "source": [
    "from IPython.display import display, Markdown\n",
    "def show(response):\n",
    "    display(Markdown(response.text))\n",
    "show(r)"
   ]
  },
  {
   "cell_type": "code",
   "execution_count": null,
   "id": "be0caf5b-8528-465b-95d7-111ebc2c44d9",
   "metadata": {},
   "outputs": [],
   "source": [
    "def ask(prompt):\n",
    "    return chat.send_message(prompt)\n",
    "\n",
    "r = ask(\"Sorry I didn't hear. what do you like to drink?\")"
   ]
  },
  {
   "cell_type": "code",
   "execution_count": null,
   "id": "14f68111-c9d5-447a-9ebe-424225455786",
   "metadata": {},
   "outputs": [],
   "source": [
    "show(r)"
   ]
  },
  {
   "cell_type": "code",
   "execution_count": null,
   "id": "38075eea-1f61-4458-a794-8710cfd4f8f8",
   "metadata": {
    "scrolled": true
   },
   "outputs": [],
   "source": [
    "def show_history(chat):\n",
    "    s = \"\"\n",
    "    for message in chat.get_history():\n",
    "        role = message.role.capitalize()\n",
    "        text = message.parts[0].text\n",
    "        \n",
    "        s += f\"#### {role}:\\n {text}\" + \"\\n\\n\"\n",
    "    display(Markdown(s))\n",
    "show_history(chat)"
   ]
  },
  {
   "cell_type": "markdown",
   "id": "e14ce131-b943-4be2-8b47-7496fc233b6f",
   "metadata": {},
   "source": [
    "Finally, I would like a single function to ask the model something and display it right away. "
   ]
  },
  {
   "cell_type": "code",
   "execution_count": null,
   "id": "fdeedf88-6041-468d-8972-423c93921826",
   "metadata": {},
   "outputs": [],
   "source": [
    "# Run the whole thing\n",
    "def go(x): return show(ask(x))\n",
    "# Reset chat history\n",
    "def reset_chat(model=model): \n",
    "    global chat\n",
    "    chat = client.chats.create(model=model)"
   ]
  },
  {
   "cell_type": "code",
   "execution_count": null,
   "id": "2a24c0d1-d48d-489f-875f-2e68c64b8d60",
   "metadata": {},
   "outputs": [],
   "source": [
    "reset_chat()"
   ]
  },
  {
   "cell_type": "code",
   "execution_count": null,
   "id": "a395b060-f66c-4420-af6e-cc18e4761473",
   "metadata": {},
   "outputs": [],
   "source": [
    "print(f\"Chat length = {len(chat.get_history())}\")"
   ]
  },
  {
   "cell_type": "markdown",
   "id": "0d0cb175-b5b5-4e70-9a58-8357c0cfcf43",
   "metadata": {},
   "source": [
    "## Learning about Transformers"
   ]
  },
  {
   "cell_type": "code",
   "execution_count": null,
   "id": "5e943259-3058-4dbc-8567-b6b2ea46a4ee",
   "metadata": {},
   "outputs": [],
   "source": [
    "go(\"\"\"\n",
    "You're my coding helper! \n",
    "I want to learn about transformers and the attention mechanism via code. Let's get started! \n",
    "Remember to always give me short, digestible code snippets at a time - I can then try it out!\n",
    "\"\"\")"
   ]
  },
  {
   "cell_type": "code",
   "execution_count": null,
   "id": "34cb56ae-fc9e-42c2-b3d9-dfd0e27fe71b",
   "metadata": {},
   "outputs": [],
   "source": []
  }
 ],
 "metadata": {
  "kernelspec": {
   "display_name": "Python 3 (ipykernel)",
   "language": "python",
   "name": "python3"
  },
  "language_info": {
   "codemirror_mode": {
    "name": "ipython",
    "version": 3
   },
   "file_extension": ".py",
   "mimetype": "text/x-python",
   "name": "python",
   "nbconvert_exporter": "python",
   "pygments_lexer": "ipython3",
   "version": "3.12.8"
  }
 },
 "nbformat": 4,
 "nbformat_minor": 5
}
