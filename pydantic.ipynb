{
 "cells": [
  {
   "cell_type": "code",
   "execution_count": 7,
   "id": "b8576ccc-8c53-4f1a-a39f-3fd2243687b9",
   "metadata": {},
   "outputs": [],
   "source": [
    "# !pip install pydantic"
   ]
  },
  {
   "cell_type": "code",
   "execution_count": 8,
   "id": "2d91bea6-2d78-4c96-b4f9-4dea0029e6c5",
   "metadata": {},
   "outputs": [],
   "source": [
    "from typing import Literal, get_args\n",
    "from pydantic import BaseModel"
   ]
  },
  {
   "cell_type": "code",
   "execution_count": 9,
   "id": "e6a072a0-514a-4d94-b750-2a0d991a5835",
   "metadata": {},
   "outputs": [],
   "source": [
    "lit = Literal[\"ay\", \"bee\", \"cee\", \"dee\", \"ee\"]"
   ]
  },
  {
   "cell_type": "code",
   "execution_count": 10,
   "id": "e4d59cdf-edd4-4a0d-a519-82afc280b11a",
   "metadata": {},
   "outputs": [
    {
     "data": {
      "text/plain": [
       "('ay', 'bee', 'cee', 'dee', 'ee')"
      ]
     },
     "execution_count": 10,
     "metadata": {},
     "output_type": "execute_result"
    }
   ],
   "source": [
    "get_args(lit)"
   ]
  },
  {
   "cell_type": "code",
   "execution_count": 11,
   "id": "fc10ea5b-b261-4741-9316-1db1c9a57cf3",
   "metadata": {},
   "outputs": [],
   "source": [
    "class MyThing(BaseModel):\n",
    "    ay: lit\n",
    "    bee: lit"
   ]
  },
  {
   "cell_type": "code",
   "execution_count": 12,
   "id": "995f355d-1755-4086-b016-1b2dac55051a",
   "metadata": {},
   "outputs": [
    {
     "data": {
      "text/plain": [
       "{'ay': 'ay', 'bee': 'bee'}"
      ]
     },
     "execution_count": 12,
     "metadata": {},
     "output_type": "execute_result"
    }
   ],
   "source": [
    "dict(MyThing(ay=\"ay\", bee=\"bee\"))"
   ]
  },
  {
   "cell_type": "code",
   "execution_count": null,
   "id": "f80c626d-0bb1-40c7-9d82-03811a9e6167",
   "metadata": {},
   "outputs": [],
   "source": []
  }
 ],
 "metadata": {
  "kernelspec": {
   "display_name": "Python 3 (ipykernel)",
   "language": "python",
   "name": "python3"
  },
  "language_info": {
   "codemirror_mode": {
    "name": "ipython",
    "version": 3
   },
   "file_extension": ".py",
   "mimetype": "text/x-python",
   "name": "python",
   "nbconvert_exporter": "python",
   "pygments_lexer": "ipython3",
   "version": "3.11.6"
  }
 },
 "nbformat": 4,
 "nbformat_minor": 5
}
