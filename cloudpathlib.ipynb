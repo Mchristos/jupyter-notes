{
 "cells": [
  {
   "cell_type": "code",
   "execution_count": 5,
   "id": "0b730259-c2e9-4a98-ab5a-124a0e0374dd",
   "metadata": {},
   "outputs": [],
   "source": [
    "from pathlib import Path\n",
    "from cloudpathlib import CloudPath, AnyPath\n",
    "import os "
   ]
  },
  {
   "cell_type": "code",
   "execution_count": 6,
   "id": "113f8c91-1814-442d-907d-1179d1909aeb",
   "metadata": {},
   "outputs": [
    {
     "data": {
      "text/plain": [
       "PosixPath('/Users/chris.marais')"
      ]
     },
     "execution_count": 6,
     "metadata": {},
     "output_type": "execute_result"
    }
   ],
   "source": [
    "home = os.getenv(\"HOME\")\n",
    "AnyPath(home)"
   ]
  },
  {
   "cell_type": "code",
   "execution_count": 7,
   "id": "73424f75-35d7-49f6-ad05-13641741f5c1",
   "metadata": {},
   "outputs": [
    {
     "data": {
      "text/plain": [
       "PosixPath('/Users/chris.marais')"
      ]
     },
     "execution_count": 7,
     "metadata": {},
     "output_type": "execute_result"
    }
   ],
   "source": [
    "Path(home)"
   ]
  },
  {
   "cell_type": "code",
   "execution_count": 8,
   "id": "13b5a60e-3575-40da-911f-9571b7100612",
   "metadata": {},
   "outputs": [],
   "source": [
    "gsuri = \"gs://performancebrain_experiments/tccc\""
   ]
  },
  {
   "cell_type": "code",
   "execution_count": 9,
   "id": "5f0a054e-feca-48df-9ced-baa367148d9f",
   "metadata": {},
   "outputs": [
    {
     "data": {
      "text/plain": [
       "GSPath('gs://performancebrain_experiments/tccc')"
      ]
     },
     "execution_count": 9,
     "metadata": {},
     "output_type": "execute_result"
    }
   ],
   "source": [
    "AnyPath(gsuri)"
   ]
  },
  {
   "cell_type": "code",
   "execution_count": null,
   "id": "b53380e5-5716-4fcd-8406-bd44bbc4b263",
   "metadata": {},
   "outputs": [],
   "source": []
  }
 ],
 "metadata": {
  "kernelspec": {
   "display_name": "Python 3 (ipykernel)",
   "language": "python",
   "name": "python3"
  },
  "language_info": {
   "codemirror_mode": {
    "name": "ipython",
    "version": 3
   },
   "file_extension": ".py",
   "mimetype": "text/x-python",
   "name": "python",
   "nbconvert_exporter": "python",
   "pygments_lexer": "ipython3",
   "version": "3.12.9"
  }
 },
 "nbformat": 4,
 "nbformat_minor": 5
}
