{
 "cells": [
  {
   "cell_type": "code",
   "execution_count": 3,
   "id": "bbd32b62-dff3-4765-9751-a064626d752a",
   "metadata": {
    "execution": {
     "iopub.execute_input": "2024-12-02T11:47:31.833164Z",
     "iopub.status.busy": "2024-12-02T11:47:31.832510Z",
     "iopub.status.idle": "2024-12-02T11:47:31.840344Z",
     "shell.execute_reply": "2024-12-02T11:47:31.839431Z",
     "shell.execute_reply.started": "2024-12-02T11:47:31.833094Z"
    }
   },
   "outputs": [],
   "source": [
    "import numpy as np\n",
    "from catboost import CatBoostClassifier, Pool\n",
    "\n",
    "data = [[1, 'A', 0.5], [2, 'B', 1.2], [3, 'C', 0.8]]\n",
    "labels = [0, 1, 0]\n",
    "cat_features = [1]"
   ]
  },
  {
   "cell_type": "code",
   "execution_count": 4,
   "id": "88d32320-b990-403e-a7d3-c28cc9f8761d",
   "metadata": {
    "execution": {
     "iopub.execute_input": "2024-12-02T11:47:37.318045Z",
     "iopub.status.busy": "2024-12-02T11:47:37.317460Z",
     "iopub.status.idle": "2024-12-02T11:47:37.324079Z",
     "shell.execute_reply": "2024-12-02T11:47:37.323260Z",
     "shell.execute_reply.started": "2024-12-02T11:47:37.318002Z"
    }
   },
   "outputs": [
    {
     "data": {
      "text/plain": [
       "[[1, 'A', 0.5], [2, 'B', 1.2], [3, 'C', 0.8]]"
      ]
     },
     "execution_count": 4,
     "metadata": {},
     "output_type": "execute_result"
    }
   ],
   "source": [
    "data"
   ]
  },
  {
   "cell_type": "code",
   "execution_count": 6,
   "id": "21b8b9a9-8052-44a3-b0b2-e33fccb60379",
   "metadata": {
    "execution": {
     "iopub.execute_input": "2024-12-02T11:48:12.488880Z",
     "iopub.status.busy": "2024-12-02T11:48:12.488169Z",
     "iopub.status.idle": "2024-12-02T11:48:12.526262Z",
     "shell.execute_reply": "2024-12-02T11:48:12.525742Z",
     "shell.execute_reply.started": "2024-12-02T11:48:12.488800Z"
    }
   },
   "outputs": [
    {
     "name": "stdout",
     "output_type": "stream",
     "text": [
      "0:\tlearn: 0.6817597\ttotal: 1.76ms\tremaining: 175ms\n",
      "1:\tlearn: 0.6739162\ttotal: 2.21ms\tremaining: 108ms\n",
      "2:\tlearn: 0.6629700\ttotal: 2.33ms\tremaining: 75.5ms\n",
      "3:\tlearn: 0.6522789\ttotal: 2.39ms\tremaining: 57.5ms\n",
      "4:\tlearn: 0.6418365\ttotal: 2.48ms\tremaining: 47.1ms\n",
      "5:\tlearn: 0.6316361\ttotal: 2.58ms\tremaining: 40.4ms\n",
      "6:\tlearn: 0.6282467\ttotal: 2.65ms\tremaining: 35.2ms\n",
      "7:\tlearn: 0.6183584\ttotal: 2.69ms\tremaining: 31ms\n",
      "8:\tlearn: 0.6151074\ttotal: 2.82ms\tremaining: 28.5ms\n",
      "9:\tlearn: 0.6119171\ttotal: 2.98ms\tremaining: 26.8ms\n",
      "10:\tlearn: 0.6024015\ttotal: 3.04ms\tremaining: 24.6ms\n",
      "11:\tlearn: 0.6018424\ttotal: 3.11ms\tremaining: 22.8ms\n",
      "12:\tlearn: 0.5987861\ttotal: 3.24ms\tremaining: 21.7ms\n",
      "13:\tlearn: 0.5922827\ttotal: 3.39ms\tremaining: 20.8ms\n",
      "14:\tlearn: 0.5893391\ttotal: 3.47ms\tremaining: 19.7ms\n",
      "15:\tlearn: 0.5803417\ttotal: 3.54ms\tremaining: 18.6ms\n",
      "16:\tlearn: 0.5715483\ttotal: 3.62ms\tremaining: 17.7ms\n",
      "17:\tlearn: 0.5687881\ttotal: 3.68ms\tremaining: 16.8ms\n",
      "18:\tlearn: 0.5602554\ttotal: 3.77ms\tremaining: 16.1ms\n",
      "19:\tlearn: 0.5519145\ttotal: 3.84ms\tremaining: 15.4ms\n",
      "20:\tlearn: 0.5461533\ttotal: 3.92ms\tremaining: 14.8ms\n",
      "21:\tlearn: 0.5404842\ttotal: 4.05ms\tremaining: 14.3ms\n",
      "22:\tlearn: 0.5349054\ttotal: 4.17ms\tremaining: 13.9ms\n",
      "23:\tlearn: 0.5271143\ttotal: 4.24ms\tremaining: 13.4ms\n",
      "24:\tlearn: 0.5194959\ttotal: 4.29ms\tremaining: 12.9ms\n",
      "25:\tlearn: 0.5120454\ttotal: 4.35ms\tremaining: 12.4ms\n",
      "26:\tlearn: 0.5047585\ttotal: 5.21ms\tremaining: 14.1ms\n",
      "27:\tlearn: 0.4976309\ttotal: 5.32ms\tremaining: 13.7ms\n",
      "28:\tlearn: 0.4906582\ttotal: 5.38ms\tremaining: 13.2ms\n",
      "29:\tlearn: 0.4858280\ttotal: 5.49ms\tremaining: 12.8ms\n",
      "30:\tlearn: 0.4791061\ttotal: 5.59ms\tremaining: 12.4ms\n",
      "31:\tlearn: 0.4725286\ttotal: 5.65ms\tremaining: 12ms\n",
      "32:\tlearn: 0.4660917\ttotal: 5.78ms\tremaining: 11.7ms\n",
      "33:\tlearn: 0.4616247\ttotal: 5.91ms\tremaining: 11.5ms\n",
      "34:\tlearn: 0.4554154\ttotal: 5.96ms\tremaining: 11.1ms\n",
      "35:\tlearn: 0.4511064\ttotal: 6.07ms\tremaining: 10.8ms\n",
      "36:\tlearn: 0.4468628\ttotal: 6.21ms\tremaining: 10.6ms\n",
      "37:\tlearn: 0.4426833\ttotal: 6.31ms\tremaining: 10.3ms\n",
      "38:\tlearn: 0.4385668\ttotal: 6.42ms\tremaining: 10ms\n",
      "39:\tlearn: 0.4328265\ttotal: 6.48ms\tremaining: 9.72ms\n",
      "40:\tlearn: 0.4272054\ttotal: 6.57ms\tremaining: 9.45ms\n",
      "41:\tlearn: 0.4233112\ttotal: 6.66ms\tremaining: 9.19ms\n",
      "42:\tlearn: 0.4194746\ttotal: 6.74ms\tremaining: 8.94ms\n",
      "43:\tlearn: 0.4156947\ttotal: 6.84ms\tremaining: 8.7ms\n",
      "44:\tlearn: 0.4104158\ttotal: 6.89ms\tremaining: 8.43ms\n",
      "45:\tlearn: 0.4052442\ttotal: 6.94ms\tremaining: 8.15ms\n",
      "46:\tlearn: 0.4001773\ttotal: 7.02ms\tremaining: 7.91ms\n",
      "47:\tlearn: 0.3952124\ttotal: 7.09ms\tremaining: 7.68ms\n",
      "48:\tlearn: 0.3917703\ttotal: 7.2ms\tremaining: 7.5ms\n",
      "49:\tlearn: 0.3869704\ttotal: 7.26ms\tremaining: 7.26ms\n",
      "50:\tlearn: 0.3822657\ttotal: 7.34ms\tremaining: 7.06ms\n",
      "51:\tlearn: 0.3776538\ttotal: 7.42ms\tremaining: 6.85ms\n",
      "52:\tlearn: 0.3731323\ttotal: 7.5ms\tremaining: 6.65ms\n",
      "53:\tlearn: 0.3686990\ttotal: 7.58ms\tremaining: 6.45ms\n",
      "54:\tlearn: 0.3643517\ttotal: 7.64ms\tremaining: 6.25ms\n",
      "55:\tlearn: 0.3600881\ttotal: 7.7ms\tremaining: 6.05ms\n",
      "56:\tlearn: 0.3559063\ttotal: 7.76ms\tremaining: 5.85ms\n",
      "57:\tlearn: 0.3529922\ttotal: 7.86ms\tremaining: 5.69ms\n",
      "58:\tlearn: 0.3489431\ttotal: 7.95ms\tremaining: 5.53ms\n",
      "59:\tlearn: 0.3449705\ttotal: 8.02ms\tremaining: 5.34ms\n",
      "60:\tlearn: 0.3410725\ttotal: 8.09ms\tremaining: 5.17ms\n",
      "61:\tlearn: 0.3372473\ttotal: 8.14ms\tremaining: 4.99ms\n",
      "62:\tlearn: 0.3334930\ttotal: 8.22ms\tremaining: 4.83ms\n",
      "63:\tlearn: 0.3298081\ttotal: 8.3ms\tremaining: 4.67ms\n",
      "64:\tlearn: 0.3261907\ttotal: 8.35ms\tremaining: 4.5ms\n",
      "65:\tlearn: 0.3226394\ttotal: 8.42ms\tremaining: 4.34ms\n",
      "66:\tlearn: 0.3201529\ttotal: 8.5ms\tremaining: 4.18ms\n",
      "67:\tlearn: 0.3167091\ttotal: 8.56ms\tremaining: 4.03ms\n",
      "68:\tlearn: 0.3133272\ttotal: 8.61ms\tremaining: 3.87ms\n",
      "69:\tlearn: 0.3100057\ttotal: 8.68ms\tremaining: 3.72ms\n",
      "70:\tlearn: 0.3067432\ttotal: 8.73ms\tremaining: 3.56ms\n",
      "71:\tlearn: 0.3035383\ttotal: 8.78ms\tremaining: 3.41ms\n",
      "72:\tlearn: 0.3003896\ttotal: 8.82ms\tremaining: 3.26ms\n",
      "73:\tlearn: 0.2972960\ttotal: 8.91ms\tremaining: 3.13ms\n",
      "74:\tlearn: 0.2942560\ttotal: 8.97ms\tremaining: 2.99ms\n",
      "75:\tlearn: 0.2912685\ttotal: 9.05ms\tremaining: 2.86ms\n",
      "76:\tlearn: 0.2883323\ttotal: 9.13ms\tremaining: 2.73ms\n",
      "77:\tlearn: 0.2854461\ttotal: 9.21ms\tremaining: 2.6ms\n",
      "78:\tlearn: 0.2826089\ttotal: 9.35ms\tremaining: 2.48ms\n",
      "79:\tlearn: 0.2798195\ttotal: 9.41ms\tremaining: 2.35ms\n",
      "80:\tlearn: 0.2770769\ttotal: 9.45ms\tremaining: 2.22ms\n",
      "81:\tlearn: 0.2743800\ttotal: 9.53ms\tremaining: 2.09ms\n",
      "82:\tlearn: 0.2717278\ttotal: 9.63ms\tremaining: 1.97ms\n",
      "83:\tlearn: 0.2691193\ttotal: 9.72ms\tremaining: 1.85ms\n",
      "84:\tlearn: 0.2665536\ttotal: 9.79ms\tremaining: 1.73ms\n",
      "85:\tlearn: 0.2640296\ttotal: 9.84ms\tremaining: 1.6ms\n",
      "86:\tlearn: 0.2615466\ttotal: 9.89ms\tremaining: 1.48ms\n",
      "87:\tlearn: 0.2591036\ttotal: 9.96ms\tremaining: 1.36ms\n",
      "88:\tlearn: 0.2566996\ttotal: 10ms\tremaining: 1.24ms\n",
      "89:\tlearn: 0.2543340\ttotal: 10.1ms\tremaining: 1.12ms\n",
      "90:\tlearn: 0.2520059\ttotal: 10.1ms\tremaining: 1ms\n",
      "91:\tlearn: 0.2497144\ttotal: 10.2ms\tremaining: 885us\n",
      "92:\tlearn: 0.2474588\ttotal: 10.2ms\tremaining: 770us\n",
      "93:\tlearn: 0.2452384\ttotal: 10.4ms\tremaining: 660us\n",
      "94:\tlearn: 0.2430523\ttotal: 10.5ms\tremaining: 550us\n",
      "95:\tlearn: 0.2408999\ttotal: 10.5ms\tremaining: 439us\n",
      "96:\tlearn: 0.2387805\ttotal: 10.6ms\tremaining: 329us\n",
      "97:\tlearn: 0.2366933\ttotal: 10.7ms\tremaining: 218us\n",
      "98:\tlearn: 0.2346378\ttotal: 10.9ms\tremaining: 109us\n",
      "99:\tlearn: 0.2326132\ttotal: 10.9ms\tremaining: 0us\n"
     ]
    },
    {
     "data": {
      "text/plain": [
       "<catboost.core.CatBoostClassifier at 0x176e3f4a0>"
      ]
     },
     "execution_count": 6,
     "metadata": {},
     "output_type": "execute_result"
    }
   ],
   "source": [
    "# Assign weights based on a random function\n",
    "weights = [np.sin(i) ** 2 + 1 for i in range(1, len(data) + 1)]\n",
    "\n",
    "train_pool = Pool(data=data, label=labels, cat_features=cat_features, weight=weights)\n",
    "\n",
    "model = CatBoostClassifier(iterations=100, learning_rate=0.1, depth=6)\n",
    "model.fit(train_pool)"
   ]
  },
  {
   "cell_type": "code",
   "execution_count": 7,
   "id": "a73b7578-b1a4-44c6-aa1c-203c7625c6c7",
   "metadata": {
    "execution": {
     "iopub.execute_input": "2024-12-02T11:48:25.954792Z",
     "iopub.status.busy": "2024-12-02T11:48:25.954293Z",
     "iopub.status.idle": "2024-12-02T11:48:25.960445Z",
     "shell.execute_reply": "2024-12-02T11:48:25.959329Z",
     "shell.execute_reply.started": "2024-12-02T11:48:25.954759Z"
    }
   },
   "outputs": [
    {
     "data": {
      "text/plain": [
       "[1.708073418273571, 1.826821810431806, 1.019914856674817]"
      ]
     },
     "execution_count": 7,
     "metadata": {},
     "output_type": "execute_result"
    }
   ],
   "source": [
    "weights"
   ]
  },
  {
   "cell_type": "code",
   "execution_count": null,
   "id": "ba1af322-6f1d-416b-9734-bbad57d68f60",
   "metadata": {},
   "outputs": [],
   "source": []
  }
 ],
 "metadata": {
  "kernelspec": {
   "display_name": "Python 3 (ipykernel)",
   "language": "python",
   "name": "python3"
  },
  "language_info": {
   "codemirror_mode": {
    "name": "ipython",
    "version": 3
   },
   "file_extension": ".py",
   "mimetype": "text/x-python",
   "name": "python",
   "nbconvert_exporter": "python",
   "pygments_lexer": "ipython3",
   "version": "3.12.9"
  }
 },
 "nbformat": 4,
 "nbformat_minor": 5
}
