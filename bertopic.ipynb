{
 "cells": [
  {
   "cell_type": "code",
   "execution_count": 26,
   "id": "8b40092e-38b6-4acb-b23d-e80b2ba3860c",
   "metadata": {},
   "outputs": [
    {
     "name": "stdout",
     "output_type": "stream",
     "text": [
      "\n",
      "---\n",
      "\n",
      "I'm not sure about Juha, but another top center, Rauli Raitanen([ss{t)\n",
      "is drafted by Jets. Raitanen had very good year and he has played in the\n",
      "Finnish nationalteam. I believe that he'll be one of the best finns in\n",
      "this year's WC, if Matikainen(Head coach) elects him to the team.\n",
      "\n",
      "---\n",
      "\n",
      "What group is this?  This is not a MAC group.\n",
      "\n",
      "\n",
      "Why the spec list again?  We are talking SCSI on a PC, not on a MAC or\n",
      "a UNIX box.  And we are talking ISA bus, or possibly EISA or VLB.\n",
      "\n",
      "This isin't comp.periphs.SCSI.\n",
      "Tell me what the performance figures are with a single SCSI drive on a PC\n",
      "with an ISA (or EISA or VLB) bus.\n",
      "\n",
      "Theoretical performance figures are not relevant to this group or this\n",
      "debate.  I'm sure that there are some platforms out there that can\n",
      "handle the 40 megs/sec of SCSI xyz wide'n'fast, but the PC isin't one of\n",
      "them.\n",
      "\n",
      "---\n"
     ]
    }
   ],
   "source": [
    "import openai\n",
    "import random\n",
    "from bertopic import BERTopic\n",
    "from bertopic.representation import OpenAI\n",
    "from sklearn.datasets import fetch_20newsgroups\n",
    "\n",
    "docs = fetch_20newsgroups(subset='all',  remove=('headers', 'footers', 'quotes'))['data']\n",
    "for doc in random.sample(docs, 3):\n",
    "    print(doc)\n",
    "    print(\"---\")"
   ]
  },
  {
   "cell_type": "code",
   "execution_count": 14,
   "id": "36f38d34-ad1b-474a-8e8a-f3a514eb068d",
   "metadata": {},
   "outputs": [
    {
     "data": {
      "text/plain": [
       "18846"
      ]
     },
     "execution_count": 14,
     "metadata": {},
     "output_type": "execute_result"
    }
   ],
   "source": [
    "len(docs)"
   ]
  },
  {
   "cell_type": "code",
   "execution_count": 21,
   "id": "622be598-9ea7-421b-b516-4c98592d4cd4",
   "metadata": {},
   "outputs": [],
   "source": [
    "# Fine-tune topic representations with GPT\n",
    "client = openai.OpenAI()\n",
    "representation_model = OpenAI(client, model=\"gpt-4o\", chat=True)\n",
    "topic_model = BERTopic(representation_model=representation_model)"
   ]
  },
  {
   "cell_type": "code",
   "execution_count": 22,
   "id": "2adc519e-4525-4217-a456-f2a0b6934f47",
   "metadata": {},
   "outputs": [
    {
     "data": {
      "text/plain": [
       "<bertopic._bertopic.BERTopic at 0x416890090>"
      ]
     },
     "execution_count": 22,
     "metadata": {},
     "output_type": "execute_result"
    }
   ],
   "source": [
    "topic_model.fit(docs[:200])"
   ]
  },
  {
   "cell_type": "code",
   "execution_count": 23,
   "id": "e97004cf-69c4-4228-8e76-10b112503d34",
   "metadata": {},
   "outputs": [
    {
     "data": {
      "text/html": [
       "<div>\n",
       "<style scoped>\n",
       "    .dataframe tbody tr th:only-of-type {\n",
       "        vertical-align: middle;\n",
       "    }\n",
       "\n",
       "    .dataframe tbody tr th {\n",
       "        vertical-align: top;\n",
       "    }\n",
       "\n",
       "    .dataframe thead th {\n",
       "        text-align: right;\n",
       "    }\n",
       "</style>\n",
       "<table border=\"1\" class=\"dataframe\">\n",
       "  <thead>\n",
       "    <tr style=\"text-align: right;\">\n",
       "      <th></th>\n",
       "      <th>Topic</th>\n",
       "      <th>Count</th>\n",
       "      <th>Name</th>\n",
       "      <th>Representation</th>\n",
       "      <th>Representative_Docs</th>\n",
       "    </tr>\n",
       "  </thead>\n",
       "  <tbody>\n",
       "    <tr>\n",
       "      <th>0</th>\n",
       "      <td>-1</td>\n",
       "      <td>52</td>\n",
       "      <td>-1_Misconceptions in electrical units, governm...</td>\n",
       "      <td>[Misconceptions in electrical units, governmen...</td>\n",
       "      <td>[Government-Mandated Energy Conservation is Un...</td>\n",
       "    </tr>\n",
       "    <tr>\n",
       "      <th>1</th>\n",
       "      <td>0</td>\n",
       "      <td>71</td>\n",
       "      <td>0_Technical Issues and Consumer Advice</td>\n",
       "      <td>[Technical Issues and Consumer Advice]</td>\n",
       "      <td>[This might be a silly question but I have to ...</td>\n",
       "    </tr>\n",
       "    <tr>\n",
       "      <th>2</th>\n",
       "      <td>1</td>\n",
       "      <td>59</td>\n",
       "      <td>1_Perspectives on Historical Events, Religious...</td>\n",
       "      <td>[Perspectives on Historical Events, Religious ...</td>\n",
       "      <td>[\\n\\nIf a 'dog's prayers were answered, bones ...</td>\n",
       "    </tr>\n",
       "    <tr>\n",
       "      <th>3</th>\n",
       "      <td>2</td>\n",
       "      <td>18</td>\n",
       "      <td>2_Historical NHL Statistics and Player Draft A...</td>\n",
       "      <td>[Historical NHL Statistics and Player Draft An...</td>\n",
       "      <td>[\\n\\n\\nI don't buy this at all.  I think thing...</td>\n",
       "    </tr>\n",
       "  </tbody>\n",
       "</table>\n",
       "</div>"
      ],
      "text/plain": [
       "   Topic  Count                                               Name  \\\n",
       "0     -1     52  -1_Misconceptions in electrical units, governm...   \n",
       "1      0     71             0_Technical Issues and Consumer Advice   \n",
       "2      1     59  1_Perspectives on Historical Events, Religious...   \n",
       "3      2     18  2_Historical NHL Statistics and Player Draft A...   \n",
       "\n",
       "                                      Representation  \\\n",
       "0  [Misconceptions in electrical units, governmen...   \n",
       "1             [Technical Issues and Consumer Advice]   \n",
       "2  [Perspectives on Historical Events, Religious ...   \n",
       "3  [Historical NHL Statistics and Player Draft An...   \n",
       "\n",
       "                                 Representative_Docs  \n",
       "0  [Government-Mandated Energy Conservation is Un...  \n",
       "1  [This might be a silly question but I have to ...  \n",
       "2  [\\n\\nIf a 'dog's prayers were answered, bones ...  \n",
       "3  [\\n\\n\\nI don't buy this at all.  I think thing...  "
      ]
     },
     "execution_count": 23,
     "metadata": {},
     "output_type": "execute_result"
    }
   ],
   "source": [
    "info = topic_model.get_topic_info(); info"
   ]
  },
  {
   "cell_type": "code",
   "execution_count": 25,
   "id": "a5a1ca15-9b3a-4ac9-a7c3-a30efaeb06f9",
   "metadata": {},
   "outputs": [
    {
     "data": {
      "text/plain": [
       "['Perspectives on Historical Events, Religious Beliefs, Political Interpretations, and Personal Freedoms']"
      ]
     },
     "execution_count": 25,
     "metadata": {},
     "output_type": "execute_result"
    }
   ],
   "source": [
    "topic_model.get_topic_info()['Representation'].iloc[2]"
   ]
  },
  {
   "cell_type": "code",
   "execution_count": null,
   "id": "7dea4a81-0747-4959-81a4-a9b042791882",
   "metadata": {},
   "outputs": [],
   "source": []
  }
 ],
 "metadata": {
  "kernelspec": {
   "display_name": "Python 3 (ipykernel)",
   "language": "python",
   "name": "python3"
  },
  "language_info": {
   "codemirror_mode": {
    "name": "ipython",
    "version": 3
   },
   "file_extension": ".py",
   "mimetype": "text/x-python",
   "name": "python",
   "nbconvert_exporter": "python",
   "pygments_lexer": "ipython3",
   "version": "3.12.9"
  }
 },
 "nbformat": 4,
 "nbformat_minor": 5
}
