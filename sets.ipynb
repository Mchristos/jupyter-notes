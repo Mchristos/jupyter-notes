{
 "cells": [
  {
   "cell_type": "markdown",
   "id": "e6e0f3ed-ed88-4125-8b50-2219567c2c02",
   "metadata": {},
   "source": [
    "### <= operation for sets "
   ]
  },
  {
   "cell_type": "code",
   "execution_count": 1,
   "id": "27f9ff73-d0e9-4c76-baf4-db56fe1906a1",
   "metadata": {},
   "outputs": [],
   "source": [
    "import pandas as pd "
   ]
  },
  {
   "cell_type": "code",
   "execution_count": 2,
   "id": "14ae89da-0916-4a1b-b6c3-d1d7739b7038",
   "metadata": {},
   "outputs": [],
   "source": [
    "df = pd.DataFrame(\n",
    "    {'a': ['True', 'False', 'False']}\n",
    ")"
   ]
  },
  {
   "cell_type": "code",
   "execution_count": 6,
   "id": "bc98cb9c-9661-4610-90e1-4617f4305c9c",
   "metadata": {},
   "outputs": [
    {
     "data": {
      "text/plain": [
       "True"
      ]
     },
     "execution_count": 6,
     "metadata": {},
     "output_type": "execute_result"
    }
   ],
   "source": [
    "uniques = set(df['a'].dropna().unique()) \n",
    "uniques <= {'True', 'False', 'Foo', 'Bar'}"
   ]
  },
  {
   "cell_type": "code",
   "execution_count": 9,
   "id": "d0080cfd-1bef-494b-9cf3-6d82a7166a16",
   "metadata": {},
   "outputs": [
    {
     "data": {
      "text/plain": [
       "False"
      ]
     },
     "execution_count": 9,
     "metadata": {},
     "output_type": "execute_result"
    }
   ],
   "source": [
    "uniques <= {'True'}"
   ]
  },
  {
   "cell_type": "code",
   "execution_count": null,
   "id": "f8452022-6af8-424e-ab51-e0baf5e42835",
   "metadata": {},
   "outputs": [],
   "source": []
  }
 ],
 "metadata": {
  "kernelspec": {
   "display_name": "Python 3 (ipykernel)",
   "language": "python",
   "name": "python3"
  },
  "language_info": {
   "codemirror_mode": {
    "name": "ipython",
    "version": 3
   },
   "file_extension": ".py",
   "mimetype": "text/x-python",
   "name": "python",
   "nbconvert_exporter": "python",
   "pygments_lexer": "ipython3",
   "version": "3.11.6"
  }
 },
 "nbformat": 4,
 "nbformat_minor": 5
}
