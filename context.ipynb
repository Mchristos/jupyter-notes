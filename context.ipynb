{
 "cells": [
  {
   "cell_type": "markdown",
   "id": "39d9f4bc-999d-445c-9ff7-249f27b8e9db",
   "metadata": {},
   "source": [
    "### exploring `with` statements "
   ]
  },
  {
   "cell_type": "code",
   "execution_count": 37,
   "id": "92e8c2e6-521f-43c3-94de-ab5b57c61eea",
   "metadata": {},
   "outputs": [],
   "source": [
    "class MyContext:\n",
    "    def __init__(self): pass\n",
    "    def __enter__(self): pass\n",
    "    def __exit__(self,type, value, traceback): pass    "
   ]
  },
  {
   "cell_type": "code",
   "execution_count": 39,
   "id": "805d5e0f-80e1-41ce-9bbf-fcecf33faac8",
   "metadata": {},
   "outputs": [
    {
     "name": "stdout",
     "output_type": "stream",
     "text": [
      "None\n"
     ]
    }
   ],
   "source": [
    "x = 1\n",
    "with MyContext() as c:\n",
    "    print(c)"
   ]
  },
  {
   "cell_type": "code",
   "execution_count": 36,
   "id": "686c296a-5c57-4e9e-abe2-e186a374fd01",
   "metadata": {},
   "outputs": [
    {
     "data": {
      "text/plain": [
       "1"
      ]
     },
     "execution_count": 36,
     "metadata": {},
     "output_type": "execute_result"
    }
   ],
   "source": [
    "x"
   ]
  },
  {
   "cell_type": "code",
   "execution_count": null,
   "id": "49ead54e-7e98-4bf7-a2cf-c292ad841836",
   "metadata": {},
   "outputs": [],
   "source": []
  }
 ],
 "metadata": {
  "kernelspec": {
   "display_name": "Python 3 (ipykernel)",
   "language": "python",
   "name": "python3"
  },
  "language_info": {
   "codemirror_mode": {
    "name": "ipython",
    "version": 3
   },
   "file_extension": ".py",
   "mimetype": "text/x-python",
   "name": "python",
   "nbconvert_exporter": "python",
   "pygments_lexer": "ipython3",
   "version": "3.12.9"
  }
 },
 "nbformat": 4,
 "nbformat_minor": 5
}
