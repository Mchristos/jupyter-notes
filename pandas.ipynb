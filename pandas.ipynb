{
 "cells": [
  {
   "cell_type": "code",
   "execution_count": 1,
   "id": "2622a1a0-a99e-4889-beca-256bae7050d2",
   "metadata": {},
   "outputs": [],
   "source": [
    "import pandas as pd, numpy as np"
   ]
  },
  {
   "cell_type": "markdown",
   "id": "1a4356f7-fe7d-4b39-9cf0-5983e664baa6",
   "metadata": {},
   "source": [
    "## intersections "
   ]
  },
  {
   "cell_type": "code",
   "execution_count": 2,
   "id": "2e4735c0-5d37-4df5-a273-39805f407bfb",
   "metadata": {},
   "outputs": [],
   "source": [
    "def align_dtypes(df1, df2):\n",
    "    for col in df1.columns.intersection(df2.columns):\n",
    "        df2[col] = df2[col].astype(df1[col].dtype)\n",
    "    return df1, df2"
   ]
  },
  {
   "cell_type": "code",
   "execution_count": 25,
   "id": "8ad9790b-a067-408f-95a9-ee35c986599a",
   "metadata": {},
   "outputs": [],
   "source": [
    "df1 = pd.DataFrame({'x': [True] * 5})\n",
    "df2 = pd.DataFrame({'x': [\"True\"]*5})\n",
    "# align_dtypes(df, df2)"
   ]
  },
  {
   "cell_type": "code",
   "execution_count": 27,
   "id": "86e4686d-0216-4360-9b24-4b17b4f8403a",
   "metadata": {},
   "outputs": [
    {
     "data": {
      "text/plain": [
       "x    object\n",
       "dtype: object"
      ]
     },
     "execution_count": 27,
     "metadata": {},
     "output_type": "execute_result"
    }
   ],
   "source": [
    "df2.dtypes"
   ]
  },
  {
   "cell_type": "markdown",
   "id": "2cd654d1-3e2a-4b48-bfe5-3c989cb8e6b6",
   "metadata": {},
   "source": [
    "## `in` with Series "
   ]
  },
  {
   "cell_type": "code",
   "execution_count": 9,
   "id": "ef04f58b-918f-4ab7-99a1-af7f94512a11",
   "metadata": {},
   "outputs": [
    {
     "data": {
      "text/plain": [
       "0    10\n",
       "1    11\n",
       "2    12\n",
       "3    13\n",
       "4    14\n",
       "5    15\n",
       "6    16\n",
       "7    17\n",
       "8    18\n",
       "9    19\n",
       "dtype: int64"
      ]
     },
     "execution_count": 9,
     "metadata": {},
     "output_type": "execute_result"
    }
   ],
   "source": [
    "s = pd.Series(range(10,20)); s"
   ]
  },
  {
   "cell_type": "code",
   "execution_count": 14,
   "id": "40b17577-6210-426c-b8e5-bd9ef4a37c9c",
   "metadata": {},
   "outputs": [
    {
     "data": {
      "text/plain": [
       "(False, True)"
      ]
     },
     "execution_count": 14,
     "metadata": {},
     "output_type": "execute_result"
    }
   ],
   "source": [
    "11 in s, 11 in list(s)"
   ]
  },
  {
   "cell_type": "markdown",
   "id": "f6bfc491-668c-4f52-82fb-948996c88689",
   "metadata": {},
   "source": [
    "## df equality "
   ]
  },
  {
   "cell_type": "code",
   "execution_count": 15,
   "id": "27742aeb-82bf-4d01-ade2-5181bc4179c6",
   "metadata": {},
   "outputs": [],
   "source": [
    "import pandas as pd \n",
    "import numpy as np "
   ]
  },
  {
   "cell_type": "code",
   "execution_count": 16,
   "id": "458e6c92-0e4c-4cb9-8a96-5e5dae1403cf",
   "metadata": {},
   "outputs": [],
   "source": [
    "def make_dfs(*args):\n",
    "    np.random.seed(0)\n",
    "    df1 = pd.DataFrame(np.random.rand(*args))\n",
    "    np.random.seed(0)\n",
    "    df2 = pd.DataFrame(np.random.rand(*args))\n",
    "    return df1, df2 \n",
    "df1, df2 = make_dfs(10,1)"
   ]
  },
  {
   "cell_type": "code",
   "execution_count": 17,
   "id": "273dacde-a523-4867-8a9f-8237ecd56930",
   "metadata": {},
   "outputs": [
    {
     "data": {
      "text/html": [
       "<div>\n",
       "<style scoped>\n",
       "    .dataframe tbody tr th:only-of-type {\n",
       "        vertical-align: middle;\n",
       "    }\n",
       "\n",
       "    .dataframe tbody tr th {\n",
       "        vertical-align: top;\n",
       "    }\n",
       "\n",
       "    .dataframe thead th {\n",
       "        text-align: right;\n",
       "    }\n",
       "</style>\n",
       "<table border=\"1\" class=\"dataframe\">\n",
       "  <thead>\n",
       "    <tr style=\"text-align: right;\">\n",
       "      <th></th>\n",
       "      <th>0</th>\n",
       "    </tr>\n",
       "  </thead>\n",
       "  <tbody>\n",
       "    <tr>\n",
       "      <th>0</th>\n",
       "      <td>0.548814</td>\n",
       "    </tr>\n",
       "    <tr>\n",
       "      <th>1</th>\n",
       "      <td>0.715189</td>\n",
       "    </tr>\n",
       "    <tr>\n",
       "      <th>2</th>\n",
       "      <td>0.602763</td>\n",
       "    </tr>\n",
       "    <tr>\n",
       "      <th>3</th>\n",
       "      <td>0.544883</td>\n",
       "    </tr>\n",
       "    <tr>\n",
       "      <th>4</th>\n",
       "      <td>0.423655</td>\n",
       "    </tr>\n",
       "  </tbody>\n",
       "</table>\n",
       "</div>"
      ],
      "text/plain": [
       "          0\n",
       "0  0.548814\n",
       "1  0.715189\n",
       "2  0.602763\n",
       "3  0.544883\n",
       "4  0.423655"
      ]
     },
     "execution_count": 17,
     "metadata": {},
     "output_type": "execute_result"
    }
   ],
   "source": [
    "df1.head()"
   ]
  },
  {
   "cell_type": "code",
   "execution_count": 18,
   "id": "7384ccdc-954b-44df-b65a-95dd9ede1269",
   "metadata": {},
   "outputs": [
    {
     "data": {
      "text/html": [
       "<div>\n",
       "<style scoped>\n",
       "    .dataframe tbody tr th:only-of-type {\n",
       "        vertical-align: middle;\n",
       "    }\n",
       "\n",
       "    .dataframe tbody tr th {\n",
       "        vertical-align: top;\n",
       "    }\n",
       "\n",
       "    .dataframe thead th {\n",
       "        text-align: right;\n",
       "    }\n",
       "</style>\n",
       "<table border=\"1\" class=\"dataframe\">\n",
       "  <thead>\n",
       "    <tr style=\"text-align: right;\">\n",
       "      <th></th>\n",
       "      <th>0</th>\n",
       "    </tr>\n",
       "  </thead>\n",
       "  <tbody>\n",
       "    <tr>\n",
       "      <th>0</th>\n",
       "      <td>0.548814</td>\n",
       "    </tr>\n",
       "    <tr>\n",
       "      <th>1</th>\n",
       "      <td>0.715189</td>\n",
       "    </tr>\n",
       "    <tr>\n",
       "      <th>2</th>\n",
       "      <td>0.602763</td>\n",
       "    </tr>\n",
       "    <tr>\n",
       "      <th>3</th>\n",
       "      <td>0.544883</td>\n",
       "    </tr>\n",
       "    <tr>\n",
       "      <th>4</th>\n",
       "      <td>0.423655</td>\n",
       "    </tr>\n",
       "  </tbody>\n",
       "</table>\n",
       "</div>"
      ],
      "text/plain": [
       "          0\n",
       "0  0.548814\n",
       "1  0.715189\n",
       "2  0.602763\n",
       "3  0.544883\n",
       "4  0.423655"
      ]
     },
     "execution_count": 18,
     "metadata": {},
     "output_type": "execute_result"
    }
   ],
   "source": [
    "df2.head()"
   ]
  },
  {
   "cell_type": "code",
   "execution_count": 20,
   "id": "4118c4ad-001f-44af-a8a8-f559bd08e676",
   "metadata": {},
   "outputs": [
    {
     "data": {
      "text/html": [
       "<div>\n",
       "<style scoped>\n",
       "    .dataframe tbody tr th:only-of-type {\n",
       "        vertical-align: middle;\n",
       "    }\n",
       "\n",
       "    .dataframe tbody tr th {\n",
       "        vertical-align: top;\n",
       "    }\n",
       "\n",
       "    .dataframe thead th {\n",
       "        text-align: right;\n",
       "    }\n",
       "</style>\n",
       "<table border=\"1\" class=\"dataframe\">\n",
       "  <thead>\n",
       "    <tr style=\"text-align: right;\">\n",
       "      <th></th>\n",
       "      <th>0</th>\n",
       "    </tr>\n",
       "  </thead>\n",
       "  <tbody>\n",
       "    <tr>\n",
       "      <th>0</th>\n",
       "      <td>True</td>\n",
       "    </tr>\n",
       "    <tr>\n",
       "      <th>1</th>\n",
       "      <td>True</td>\n",
       "    </tr>\n",
       "    <tr>\n",
       "      <th>2</th>\n",
       "      <td>True</td>\n",
       "    </tr>\n",
       "    <tr>\n",
       "      <th>3</th>\n",
       "      <td>True</td>\n",
       "    </tr>\n",
       "    <tr>\n",
       "      <th>4</th>\n",
       "      <td>True</td>\n",
       "    </tr>\n",
       "    <tr>\n",
       "      <th>5</th>\n",
       "      <td>True</td>\n",
       "    </tr>\n",
       "    <tr>\n",
       "      <th>6</th>\n",
       "      <td>True</td>\n",
       "    </tr>\n",
       "    <tr>\n",
       "      <th>7</th>\n",
       "      <td>True</td>\n",
       "    </tr>\n",
       "    <tr>\n",
       "      <th>8</th>\n",
       "      <td>True</td>\n",
       "    </tr>\n",
       "    <tr>\n",
       "      <th>9</th>\n",
       "      <td>True</td>\n",
       "    </tr>\n",
       "  </tbody>\n",
       "</table>\n",
       "</div>"
      ],
      "text/plain": [
       "      0\n",
       "0  True\n",
       "1  True\n",
       "2  True\n",
       "3  True\n",
       "4  True\n",
       "5  True\n",
       "6  True\n",
       "7  True\n",
       "8  True\n",
       "9  True"
      ]
     },
     "execution_count": 20,
     "metadata": {},
     "output_type": "execute_result"
    }
   ],
   "source": [
    "df1==df2"
   ]
  },
  {
   "cell_type": "code",
   "execution_count": 21,
   "id": "a273fd40-efd4-46ff-a39f-eae7290a31d7",
   "metadata": {},
   "outputs": [
    {
     "data": {
      "text/plain": [
       "0    True\n",
       "dtype: bool"
      ]
     },
     "execution_count": 21,
     "metadata": {},
     "output_type": "execute_result"
    }
   ],
   "source": [
    "(df1 == df2).all()"
   ]
  },
  {
   "cell_type": "code",
   "execution_count": 22,
   "id": "18be19af-4929-4c74-8c5f-23551971573c",
   "metadata": {},
   "outputs": [
    {
     "data": {
      "text/plain": [
       "True"
      ]
     },
     "execution_count": 22,
     "metadata": {},
     "output_type": "execute_result"
    }
   ],
   "source": [
    "(df1 == df2).all().all()"
   ]
  },
  {
   "cell_type": "markdown",
   "id": "edd852e8-fc0e-4aca-8e10-f4edcf591c8f",
   "metadata": {},
   "source": [
    "# identical columns "
   ]
  },
  {
   "cell_type": "code",
   "execution_count": 7,
   "id": "43ea3b57-14ca-4d7c-abd8-6c5205ef2917",
   "metadata": {},
   "outputs": [
    {
     "data": {
      "text/html": [
       "<div>\n",
       "<style scoped>\n",
       "    .dataframe tbody tr th:only-of-type {\n",
       "        vertical-align: middle;\n",
       "    }\n",
       "\n",
       "    .dataframe tbody tr th {\n",
       "        vertical-align: top;\n",
       "    }\n",
       "\n",
       "    .dataframe thead th {\n",
       "        text-align: right;\n",
       "    }\n",
       "</style>\n",
       "<table border=\"1\" class=\"dataframe\">\n",
       "  <thead>\n",
       "    <tr style=\"text-align: right;\">\n",
       "      <th></th>\n",
       "      <th>yes</th>\n",
       "      <th>yes</th>\n",
       "    </tr>\n",
       "  </thead>\n",
       "  <tbody>\n",
       "    <tr>\n",
       "      <th>0</th>\n",
       "      <td>0.697827</td>\n",
       "      <td>0.756066</td>\n",
       "    </tr>\n",
       "    <tr>\n",
       "      <th>1</th>\n",
       "      <td>0.483060</td>\n",
       "      <td>0.834582</td>\n",
       "    </tr>\n",
       "    <tr>\n",
       "      <th>2</th>\n",
       "      <td>0.611664</td>\n",
       "      <td>0.001328</td>\n",
       "    </tr>\n",
       "  </tbody>\n",
       "</table>\n",
       "</div>"
      ],
      "text/plain": [
       "        yes       yes\n",
       "0  0.697827  0.756066\n",
       "1  0.483060  0.834582\n",
       "2  0.611664  0.001328"
      ]
     },
     "execution_count": 7,
     "metadata": {},
     "output_type": "execute_result"
    }
   ],
   "source": [
    "df=pd.DataFrame(np.random.rand(3,2), columns=['yes','yes']); df"
   ]
  },
  {
   "cell_type": "code",
   "execution_count": 8,
   "id": "cc23bf48-e684-4748-8bc5-68f986f579f3",
   "metadata": {},
   "outputs": [
    {
     "data": {
      "text/html": [
       "<div>\n",
       "<style scoped>\n",
       "    .dataframe tbody tr th:only-of-type {\n",
       "        vertical-align: middle;\n",
       "    }\n",
       "\n",
       "    .dataframe tbody tr th {\n",
       "        vertical-align: top;\n",
       "    }\n",
       "\n",
       "    .dataframe thead th {\n",
       "        text-align: right;\n",
       "    }\n",
       "</style>\n",
       "<table border=\"1\" class=\"dataframe\">\n",
       "  <thead>\n",
       "    <tr style=\"text-align: right;\">\n",
       "      <th></th>\n",
       "      <th>yes</th>\n",
       "      <th>yes</th>\n",
       "    </tr>\n",
       "  </thead>\n",
       "  <tbody>\n",
       "    <tr>\n",
       "      <th>0</th>\n",
       "      <td>0.697827</td>\n",
       "      <td>0.756066</td>\n",
       "    </tr>\n",
       "    <tr>\n",
       "      <th>1</th>\n",
       "      <td>0.483060</td>\n",
       "      <td>0.834582</td>\n",
       "    </tr>\n",
       "    <tr>\n",
       "      <th>2</th>\n",
       "      <td>0.611664</td>\n",
       "      <td>0.001328</td>\n",
       "    </tr>\n",
       "  </tbody>\n",
       "</table>\n",
       "</div>"
      ],
      "text/plain": [
       "        yes       yes\n",
       "0  0.697827  0.756066\n",
       "1  0.483060  0.834582\n",
       "2  0.611664  0.001328"
      ]
     },
     "execution_count": 8,
     "metadata": {},
     "output_type": "execute_result"
    }
   ],
   "source": [
    "df['yes']"
   ]
  },
  {
   "cell_type": "code",
   "execution_count": 17,
   "id": "72889b02-ec2a-4b3a-a6f3-339fa4a30c50",
   "metadata": {},
   "outputs": [
    {
     "data": {
      "text/html": [
       "<div>\n",
       "<style scoped>\n",
       "    .dataframe tbody tr th:only-of-type {\n",
       "        vertical-align: middle;\n",
       "    }\n",
       "\n",
       "    .dataframe tbody tr th {\n",
       "        vertical-align: top;\n",
       "    }\n",
       "\n",
       "    .dataframe thead th {\n",
       "        text-align: right;\n",
       "    }\n",
       "</style>\n",
       "<table border=\"1\" class=\"dataframe\">\n",
       "  <thead>\n",
       "    <tr style=\"text-align: right;\">\n",
       "      <th></th>\n",
       "      <th>yes</th>\n",
       "      <th>yes</th>\n",
       "    </tr>\n",
       "  </thead>\n",
       "  <tbody>\n",
       "    <tr>\n",
       "      <th>0</th>\n",
       "      <td>0.697827</td>\n",
       "      <td>0.756066</td>\n",
       "    </tr>\n",
       "    <tr>\n",
       "      <th>1</th>\n",
       "      <td>0.483060</td>\n",
       "      <td>0.834582</td>\n",
       "    </tr>\n",
       "    <tr>\n",
       "      <th>2</th>\n",
       "      <td>0.611664</td>\n",
       "      <td>0.001328</td>\n",
       "    </tr>\n",
       "  </tbody>\n",
       "</table>\n",
       "</div>"
      ],
      "text/plain": [
       "        yes       yes\n",
       "0  0.697827  0.756066\n",
       "1  0.483060  0.834582\n",
       "2  0.611664  0.001328"
      ]
     },
     "execution_count": 17,
     "metadata": {},
     "output_type": "execute_result"
    }
   ],
   "source": [
    "df.loc[:,['yes']]"
   ]
  },
  {
   "cell_type": "markdown",
   "id": "d76a612f-f27c-4d79-8ea4-b364ec67acd1",
   "metadata": {},
   "source": [
    "# quartile binning "
   ]
  },
  {
   "cell_type": "code",
   "execution_count": 18,
   "id": "03c4c76c-e5f4-4618-81f8-4cf45c7827a7",
   "metadata": {},
   "outputs": [
    {
     "data": {
      "text/plain": [
       "0     0.108511\n",
       "1     0.221347\n",
       "2     0.239827\n",
       "3     0.633540\n",
       "4     0.648709\n",
       "        ...   \n",
       "95    0.593336\n",
       "96    0.849349\n",
       "97    0.407497\n",
       "98    0.225728\n",
       "99    0.707092\n",
       "Length: 100, dtype: float64"
      ]
     },
     "execution_count": 18,
     "metadata": {},
     "output_type": "execute_result"
    }
   ],
   "source": [
    "s = pd.Series(np.random.rand(100)); s"
   ]
  },
  {
   "cell_type": "code",
   "execution_count": 22,
   "id": "8b224f6a-d291-4b59-960b-6d663883c396",
   "metadata": {},
   "outputs": [
    {
     "data": {
      "text/html": [
       "<div>\n",
       "<style scoped>\n",
       "    .dataframe tbody tr th:only-of-type {\n",
       "        vertical-align: middle;\n",
       "    }\n",
       "\n",
       "    .dataframe tbody tr th {\n",
       "        vertical-align: top;\n",
       "    }\n",
       "\n",
       "    .dataframe thead th {\n",
       "        text-align: right;\n",
       "    }\n",
       "</style>\n",
       "<table border=\"1\" class=\"dataframe\">\n",
       "  <thead>\n",
       "    <tr style=\"text-align: right;\">\n",
       "      <th></th>\n",
       "      <th>0</th>\n",
       "      <th>1</th>\n",
       "    </tr>\n",
       "  </thead>\n",
       "  <tbody>\n",
       "    <tr>\n",
       "      <th>0</th>\n",
       "      <td>0.108511</td>\n",
       "      <td>(0.00893, 0.321]</td>\n",
       "    </tr>\n",
       "    <tr>\n",
       "      <th>1</th>\n",
       "      <td>0.221347</td>\n",
       "      <td>(0.00893, 0.321]</td>\n",
       "    </tr>\n",
       "    <tr>\n",
       "      <th>2</th>\n",
       "      <td>0.239827</td>\n",
       "      <td>(0.00893, 0.321]</td>\n",
       "    </tr>\n",
       "    <tr>\n",
       "      <th>3</th>\n",
       "      <td>0.63354</td>\n",
       "      <td>(0.535, 0.779]</td>\n",
       "    </tr>\n",
       "    <tr>\n",
       "      <th>4</th>\n",
       "      <td>0.648709</td>\n",
       "      <td>(0.535, 0.779]</td>\n",
       "    </tr>\n",
       "    <tr>\n",
       "      <th>...</th>\n",
       "      <td>...</td>\n",
       "      <td>...</td>\n",
       "    </tr>\n",
       "    <tr>\n",
       "      <th>95</th>\n",
       "      <td>0.593336</td>\n",
       "      <td>(0.535, 0.779]</td>\n",
       "    </tr>\n",
       "    <tr>\n",
       "      <th>96</th>\n",
       "      <td>0.849349</td>\n",
       "      <td>(0.779, 0.988]</td>\n",
       "    </tr>\n",
       "    <tr>\n",
       "      <th>97</th>\n",
       "      <td>0.407497</td>\n",
       "      <td>(0.321, 0.535]</td>\n",
       "    </tr>\n",
       "    <tr>\n",
       "      <th>98</th>\n",
       "      <td>0.225728</td>\n",
       "      <td>(0.00893, 0.321]</td>\n",
       "    </tr>\n",
       "    <tr>\n",
       "      <th>99</th>\n",
       "      <td>0.707092</td>\n",
       "      <td>(0.535, 0.779]</td>\n",
       "    </tr>\n",
       "  </tbody>\n",
       "</table>\n",
       "<p>100 rows × 2 columns</p>\n",
       "</div>"
      ],
      "text/plain": [
       "           0                 1\n",
       "0   0.108511  (0.00893, 0.321]\n",
       "1   0.221347  (0.00893, 0.321]\n",
       "2   0.239827  (0.00893, 0.321]\n",
       "3    0.63354    (0.535, 0.779]\n",
       "4   0.648709    (0.535, 0.779]\n",
       "..       ...               ...\n",
       "95  0.593336    (0.535, 0.779]\n",
       "96  0.849349    (0.779, 0.988]\n",
       "97  0.407497    (0.321, 0.535]\n",
       "98  0.225728  (0.00893, 0.321]\n",
       "99  0.707092    (0.535, 0.779]\n",
       "\n",
       "[100 rows x 2 columns]"
      ]
     },
     "execution_count": 22,
     "metadata": {},
     "output_type": "execute_result"
    }
   ],
   "source": [
    "df = pd.DataFrame([s, pd.qcut(s, [0,0.25,0.5,0.75,1.])]).T\n",
    "df"
   ]
  },
  {
   "cell_type": "code",
   "execution_count": 19,
   "id": "69b59943-a9a0-431d-8319-f908e26bf455",
   "metadata": {},
   "outputs": [
    {
     "data": {
      "text/plain": [
       "(0.00893, 0.321]    25\n",
       "(0.321, 0.535]      25\n",
       "(0.535, 0.779]      25\n",
       "(0.779, 0.988]      25\n",
       "Name: count, dtype: int64"
      ]
     },
     "execution_count": 19,
     "metadata": {},
     "output_type": "execute_result"
    }
   ],
   "source": [
    "pd.qcut(s, [0,0.25,0.5,0.75,1.]).value_counts()"
   ]
  },
  {
   "cell_type": "markdown",
   "id": "cd30ab8f-18ea-4984-9dcd-efda062ceaf9",
   "metadata": {},
   "source": [
    "## fragmentation"
   ]
  },
  {
   "cell_type": "code",
   "execution_count": 1,
   "id": "c465606b-2b9c-4176-92d3-f88b112a653a",
   "metadata": {},
   "outputs": [],
   "source": [
    "import pandas as pd\n",
    "import numpy as np\n",
    "\n",
    "# Problem demonstration\n",
    "def demonstrate_fragmentation():\n",
    "    df = pd.DataFrame({'A': range(1000)})\n",
    "    \n",
    "    # Bad practice: Adding columns one by one\n",
    "    for i in range(10):\n",
    "        df[f'Col_{i}'] = np.random.rand(1000)\n",
    "    \n",
    "    return df\n",
    "\n",
    "# Solution 1: Pre-allocate all columns\n",
    "def solution_preallocate():\n",
    "    # Good practice: Create all columns at once\n",
    "    data = {\n",
    "        'A': range(1000),\n",
    "        **{f'Col_{i}': np.random.rand(1000) for i in range(10)}\n",
    "    }\n",
    "    df = pd.DataFrame(data)\n",
    "    \n",
    "    return df\n",
    "\n",
    "# Solution 2: Use pd.concat when adding multiple columns\n",
    "def solution_concat():\n",
    "    base_df = pd.DataFrame({'A': range(1000)})\n",
    "    \n",
    "    # Create new columns as separate DataFrames\n",
    "    new_columns = pd.DataFrame(\n",
    "        {f'Col_{i}': np.random.rand(1000) for i in range(10)}\n",
    "    )\n",
    "    \n",
    "    # Concatenate horizontally\n",
    "    df = pd.concat([base_df, new_columns], axis=1)\n",
    "    \n",
    "    return df\n",
    "\n",
    "# Solution 3: If you must add columns iteratively, use copy() periodically\n",
    "def solution_copy():\n",
    "    df = pd.DataFrame({'A': range(1000)})\n",
    "    \n",
    "    for i in range(10):\n",
    "        df[f'Col_{i}'] = np.random.rand(1000)\n",
    "        \n",
    "        # Defragment every 5 iterations\n",
    "        if (i + 1) % 5 == 0:\n",
    "            df = df.copy()\n",
    "    \n",
    "    return df\n",
    "\n",
    "# Example usage and timing comparison\n",
    "def compare_solutions():\n",
    "    import time\n",
    "    \n",
    "    times = {}\n",
    "    \n",
    "    for solution in [demonstrate_fragmentation, solution_preallocate, \n",
    "                     solution_concat, solution_copy]:\n",
    "        start = time.time()\n",
    "        result = solution()\n",
    "        end = time.time()\n",
    "        times[solution.__name__] = end - start\n",
    "    \n",
    "    return times"
   ]
  },
  {
   "cell_type": "code",
   "execution_count": 2,
   "id": "ff928e25-643f-46a7-aa5e-a40efe35060c",
   "metadata": {},
   "outputs": [
    {
     "data": {
      "text/html": [
       "<div>\n",
       "<style scoped>\n",
       "    .dataframe tbody tr th:only-of-type {\n",
       "        vertical-align: middle;\n",
       "    }\n",
       "\n",
       "    .dataframe tbody tr th {\n",
       "        vertical-align: top;\n",
       "    }\n",
       "\n",
       "    .dataframe thead th {\n",
       "        text-align: right;\n",
       "    }\n",
       "</style>\n",
       "<table border=\"1\" class=\"dataframe\">\n",
       "  <thead>\n",
       "    <tr style=\"text-align: right;\">\n",
       "      <th></th>\n",
       "      <th>A</th>\n",
       "      <th>Col_0</th>\n",
       "      <th>Col_1</th>\n",
       "      <th>Col_2</th>\n",
       "      <th>Col_3</th>\n",
       "      <th>Col_4</th>\n",
       "      <th>Col_5</th>\n",
       "      <th>Col_6</th>\n",
       "      <th>Col_7</th>\n",
       "      <th>Col_8</th>\n",
       "      <th>Col_9</th>\n",
       "    </tr>\n",
       "  </thead>\n",
       "  <tbody>\n",
       "    <tr>\n",
       "      <th>0</th>\n",
       "      <td>0</td>\n",
       "      <td>0.970502</td>\n",
       "      <td>0.957925</td>\n",
       "      <td>0.468427</td>\n",
       "      <td>0.079532</td>\n",
       "      <td>0.789385</td>\n",
       "      <td>0.687192</td>\n",
       "      <td>0.830216</td>\n",
       "      <td>0.456026</td>\n",
       "      <td>0.122476</td>\n",
       "      <td>0.595701</td>\n",
       "    </tr>\n",
       "    <tr>\n",
       "      <th>1</th>\n",
       "      <td>1</td>\n",
       "      <td>0.007434</td>\n",
       "      <td>0.037666</td>\n",
       "      <td>0.899013</td>\n",
       "      <td>0.855425</td>\n",
       "      <td>0.836074</td>\n",
       "      <td>0.131365</td>\n",
       "      <td>0.813113</td>\n",
       "      <td>0.630567</td>\n",
       "      <td>0.929076</td>\n",
       "      <td>0.302767</td>\n",
       "    </tr>\n",
       "    <tr>\n",
       "      <th>2</th>\n",
       "      <td>2</td>\n",
       "      <td>0.454594</td>\n",
       "      <td>0.104954</td>\n",
       "      <td>0.795225</td>\n",
       "      <td>0.395363</td>\n",
       "      <td>0.808340</td>\n",
       "      <td>0.933567</td>\n",
       "      <td>0.802941</td>\n",
       "      <td>0.102839</td>\n",
       "      <td>0.731712</td>\n",
       "      <td>0.675362</td>\n",
       "    </tr>\n",
       "    <tr>\n",
       "      <th>3</th>\n",
       "      <td>3</td>\n",
       "      <td>0.040081</td>\n",
       "      <td>0.814845</td>\n",
       "      <td>0.632997</td>\n",
       "      <td>0.243769</td>\n",
       "      <td>0.665876</td>\n",
       "      <td>0.230559</td>\n",
       "      <td>0.892082</td>\n",
       "      <td>0.266661</td>\n",
       "      <td>0.104501</td>\n",
       "      <td>0.549814</td>\n",
       "    </tr>\n",
       "    <tr>\n",
       "      <th>4</th>\n",
       "      <td>4</td>\n",
       "      <td>0.166994</td>\n",
       "      <td>0.414708</td>\n",
       "      <td>0.536812</td>\n",
       "      <td>0.527826</td>\n",
       "      <td>0.561965</td>\n",
       "      <td>0.667315</td>\n",
       "      <td>0.054001</td>\n",
       "      <td>0.969416</td>\n",
       "      <td>0.793741</td>\n",
       "      <td>0.580959</td>\n",
       "    </tr>\n",
       "    <tr>\n",
       "      <th>...</th>\n",
       "      <td>...</td>\n",
       "      <td>...</td>\n",
       "      <td>...</td>\n",
       "      <td>...</td>\n",
       "      <td>...</td>\n",
       "      <td>...</td>\n",
       "      <td>...</td>\n",
       "      <td>...</td>\n",
       "      <td>...</td>\n",
       "      <td>...</td>\n",
       "      <td>...</td>\n",
       "    </tr>\n",
       "    <tr>\n",
       "      <th>995</th>\n",
       "      <td>995</td>\n",
       "      <td>0.732915</td>\n",
       "      <td>0.200761</td>\n",
       "      <td>0.046573</td>\n",
       "      <td>0.863786</td>\n",
       "      <td>0.338276</td>\n",
       "      <td>0.182731</td>\n",
       "      <td>0.909336</td>\n",
       "      <td>0.862529</td>\n",
       "      <td>0.766403</td>\n",
       "      <td>0.339065</td>\n",
       "    </tr>\n",
       "    <tr>\n",
       "      <th>996</th>\n",
       "      <td>996</td>\n",
       "      <td>0.631229</td>\n",
       "      <td>0.356425</td>\n",
       "      <td>0.856700</td>\n",
       "      <td>0.087686</td>\n",
       "      <td>0.643526</td>\n",
       "      <td>0.008038</td>\n",
       "      <td>0.651513</td>\n",
       "      <td>0.972222</td>\n",
       "      <td>0.528491</td>\n",
       "      <td>0.887493</td>\n",
       "    </tr>\n",
       "    <tr>\n",
       "      <th>997</th>\n",
       "      <td>997</td>\n",
       "      <td>0.034394</td>\n",
       "      <td>0.516819</td>\n",
       "      <td>0.903808</td>\n",
       "      <td>0.705808</td>\n",
       "      <td>0.251930</td>\n",
       "      <td>0.245246</td>\n",
       "      <td>0.054597</td>\n",
       "      <td>0.758996</td>\n",
       "      <td>0.516045</td>\n",
       "      <td>0.063159</td>\n",
       "    </tr>\n",
       "    <tr>\n",
       "      <th>998</th>\n",
       "      <td>998</td>\n",
       "      <td>0.316110</td>\n",
       "      <td>0.651243</td>\n",
       "      <td>0.669695</td>\n",
       "      <td>0.320786</td>\n",
       "      <td>0.111080</td>\n",
       "      <td>0.494766</td>\n",
       "      <td>0.167630</td>\n",
       "      <td>0.586632</td>\n",
       "      <td>0.162270</td>\n",
       "      <td>0.920025</td>\n",
       "    </tr>\n",
       "    <tr>\n",
       "      <th>999</th>\n",
       "      <td>999</td>\n",
       "      <td>0.279466</td>\n",
       "      <td>0.187795</td>\n",
       "      <td>0.857343</td>\n",
       "      <td>0.866367</td>\n",
       "      <td>0.261897</td>\n",
       "      <td>0.700437</td>\n",
       "      <td>0.342739</td>\n",
       "      <td>0.190235</td>\n",
       "      <td>0.165057</td>\n",
       "      <td>0.420722</td>\n",
       "    </tr>\n",
       "  </tbody>\n",
       "</table>\n",
       "<p>1000 rows × 11 columns</p>\n",
       "</div>"
      ],
      "text/plain": [
       "       A     Col_0     Col_1     Col_2     Col_3     Col_4     Col_5  \\\n",
       "0      0  0.970502  0.957925  0.468427  0.079532  0.789385  0.687192   \n",
       "1      1  0.007434  0.037666  0.899013  0.855425  0.836074  0.131365   \n",
       "2      2  0.454594  0.104954  0.795225  0.395363  0.808340  0.933567   \n",
       "3      3  0.040081  0.814845  0.632997  0.243769  0.665876  0.230559   \n",
       "4      4  0.166994  0.414708  0.536812  0.527826  0.561965  0.667315   \n",
       "..   ...       ...       ...       ...       ...       ...       ...   \n",
       "995  995  0.732915  0.200761  0.046573  0.863786  0.338276  0.182731   \n",
       "996  996  0.631229  0.356425  0.856700  0.087686  0.643526  0.008038   \n",
       "997  997  0.034394  0.516819  0.903808  0.705808  0.251930  0.245246   \n",
       "998  998  0.316110  0.651243  0.669695  0.320786  0.111080  0.494766   \n",
       "999  999  0.279466  0.187795  0.857343  0.866367  0.261897  0.700437   \n",
       "\n",
       "        Col_6     Col_7     Col_8     Col_9  \n",
       "0    0.830216  0.456026  0.122476  0.595701  \n",
       "1    0.813113  0.630567  0.929076  0.302767  \n",
       "2    0.802941  0.102839  0.731712  0.675362  \n",
       "3    0.892082  0.266661  0.104501  0.549814  \n",
       "4    0.054001  0.969416  0.793741  0.580959  \n",
       "..        ...       ...       ...       ...  \n",
       "995  0.909336  0.862529  0.766403  0.339065  \n",
       "996  0.651513  0.972222  0.528491  0.887493  \n",
       "997  0.054597  0.758996  0.516045  0.063159  \n",
       "998  0.167630  0.586632  0.162270  0.920025  \n",
       "999  0.342739  0.190235  0.165057  0.420722  \n",
       "\n",
       "[1000 rows x 11 columns]"
      ]
     },
     "execution_count": 2,
     "metadata": {},
     "output_type": "execute_result"
    }
   ],
   "source": [
    "demonstrate_fragmentation()"
   ]
  },
  {
   "cell_type": "code",
   "execution_count": null,
   "id": "55d5e144-437f-4de1-b34a-007fcf1b692d",
   "metadata": {},
   "outputs": [],
   "source": []
  }
 ],
 "metadata": {
  "kernelspec": {
   "display_name": "Python 3 (ipykernel)",
   "language": "python",
   "name": "python3"
  },
  "language_info": {
   "codemirror_mode": {
    "name": "ipython",
    "version": 3
   },
   "file_extension": ".py",
   "mimetype": "text/x-python",
   "name": "python",
   "nbconvert_exporter": "python",
   "pygments_lexer": "ipython3",
   "version": "3.11.6"
  }
 },
 "nbformat": 4,
 "nbformat_minor": 5
}
