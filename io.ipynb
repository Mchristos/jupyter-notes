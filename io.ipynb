{
 "cells": [
  {
   "cell_type": "code",
   "execution_count": 10,
   "id": "25d11650-b310-450e-ae15-04c8422caffe",
   "metadata": {},
   "outputs": [],
   "source": [
    "import os \n",
    "from pathlib import Path \n",
    "\n",
    "samplesdir = Path(os.getenv(\"HOME\")) / \"data/samples\""
   ]
  },
  {
   "cell_type": "code",
   "execution_count": 32,
   "id": "8e420c86-c0a3-4605-9d7c-638fe8241af5",
   "metadata": {},
   "outputs": [
    {
     "name": "stdout",
     "output_type": "stream",
     "text": [
      "<class '_io.BufferedReader'>\n",
      "<class 'bytes'>\n"
     ]
    }
   ],
   "source": [
    "with open(samplesdir / \"production_20240103_173524Z_media_1941281072885341.mov\", \"rb\") as f:\n",
    "    print(type(f))\n",
    "    print(type(f.read()))"
   ]
  },
  {
   "cell_type": "code",
   "execution_count": 37,
   "id": "aa1a3fc5-850e-4cb1-8361-6c476cdb2c7b",
   "metadata": {},
   "outputs": [],
   "source": [
    "f = open(samplesdir/ \"535279538160939_0a57b5a9addb3462086933e9c5eb043c.jpg\", \"rb\")"
   ]
  },
  {
   "cell_type": "code",
   "execution_count": 38,
   "id": "ae0fe04f-602b-4d6a-81de-01ea1a28ba6a",
   "metadata": {},
   "outputs": [
    {
     "data": {
      "text/plain": [
       "<_io.BufferedReader name='/Users/chris.marais/data/samples/535279538160939_0a57b5a9addb3462086933e9c5eb043c.jpg'>"
      ]
     },
     "execution_count": 38,
     "metadata": {},
     "output_type": "execute_result"
    }
   ],
   "source": [
    "f"
   ]
  },
  {
   "cell_type": "code",
   "execution_count": 17,
   "id": "2c9bb783-d4c2-40f4-870e-44468ad0d13a",
   "metadata": {},
   "outputs": [
    {
     "data": {
      "text/plain": [
       "_io.BufferedReader"
      ]
     },
     "execution_count": 17,
     "metadata": {},
     "output_type": "execute_result"
    }
   ],
   "source": [
    "type(f)"
   ]
  },
  {
   "cell_type": "code",
   "execution_count": 18,
   "id": "fd03ec90-8c71-432e-ae30-b021dae5a799",
   "metadata": {},
   "outputs": [
    {
     "data": {
      "text/plain": [
       "bytes"
      ]
     },
     "execution_count": 18,
     "metadata": {},
     "output_type": "execute_result"
    }
   ],
   "source": [
    "content = f.read()\n",
    "type(content)"
   ]
  },
  {
   "cell_type": "code",
   "execution_count": 29,
   "id": "76c3fd57-29fc-4335-8e6c-f59eca04a00a",
   "metadata": {},
   "outputs": [
    {
     "data": {
      "text/plain": [
       "b'\\xff\\xd8\\xff\\xe0\\x00\\x10JFIF\\x00\\x01\\x01\\x00\\x00\\x01\\x00\\x01\\x00\\x00\\xff\\xe2\\x01\\xd8ICC_PROFILE\\x00\\x01\\x01\\x00\\x00\\x01\\xc8lcms\\x02\\x10\\x00\\x00mntrRGB XYZ \\x07\\xe2\\x00\\x03\\x00\\x14\\x00\\t\\x00\\x0e\\x00\\x1dacspMSFT\\x00\\x00\\x00\\x00sawsctrl\\x00\\x00\\x00\\x00\\x00\\x00'"
      ]
     },
     "execution_count": 29,
     "metadata": {},
     "output_type": "execute_result"
    }
   ],
   "source": [
    "content[:100]"
   ]
  },
  {
   "cell_type": "code",
   "execution_count": 19,
   "id": "db3eab6b-d680-4708-bfda-0ffed4d230aa",
   "metadata": {},
   "outputs": [],
   "source": [
    "f.close()"
   ]
  },
  {
   "cell_type": "code",
   "execution_count": 24,
   "id": "34bf5834-501a-4a54-bab3-ea203fc021de",
   "metadata": {},
   "outputs": [],
   "source": [
    "f = open(samplesdir / \"thing.csv\", \"r\")"
   ]
  },
  {
   "cell_type": "code",
   "execution_count": 25,
   "id": "329b789a-f305-4eec-9a64-61ec8fb4e3ee",
   "metadata": {},
   "outputs": [
    {
     "data": {
      "text/plain": [
       "_io.TextIOWrapper"
      ]
     },
     "execution_count": 25,
     "metadata": {},
     "output_type": "execute_result"
    }
   ],
   "source": [
    "type(f)"
   ]
  },
  {
   "cell_type": "code",
   "execution_count": 26,
   "id": "b17707fa-8882-485c-8098-b986c1c380ed",
   "metadata": {},
   "outputs": [
    {
     "data": {
      "text/plain": [
       "str"
      ]
     },
     "execution_count": 26,
     "metadata": {},
     "output_type": "execute_result"
    }
   ],
   "source": [
    "s = f.read()\n",
    "type(s)"
   ]
  },
  {
   "cell_type": "code",
   "execution_count": 27,
   "id": "5fb718ca-0bdb-46b0-a442-9c93851e00b6",
   "metadata": {},
   "outputs": [
    {
     "data": {
      "text/plain": [
       "'Media: Campaign: Ad ID,Media: Campaign: Creative ID,Media: Placement: Platform,Media: Placement: Obj'"
      ]
     },
     "execution_count": 27,
     "metadata": {},
     "output_type": "execute_result"
    }
   ],
   "source": [
    "s[:100]"
   ]
  },
  {
   "cell_type": "code",
   "execution_count": 28,
   "id": "6ab18ab5-2f70-45c8-a20a-5d4bc4acc0c5",
   "metadata": {},
   "outputs": [],
   "source": [
    "f.close()"
   ]
  },
  {
   "cell_type": "code",
   "execution_count": null,
   "id": "978dbae4-5c68-4f33-b3b4-f741a96062eb",
   "metadata": {},
   "outputs": [],
   "source": []
  }
 ],
 "metadata": {
  "kernelspec": {
   "display_name": "Python 3 (ipykernel)",
   "language": "python",
   "name": "python3"
  },
  "language_info": {
   "codemirror_mode": {
    "name": "ipython",
    "version": 3
   },
   "file_extension": ".py",
   "mimetype": "text/x-python",
   "name": "python",
   "nbconvert_exporter": "python",
   "pygments_lexer": "ipython3",
   "version": "3.11.6"
  }
 },
 "nbformat": 4,
 "nbformat_minor": 5
}
