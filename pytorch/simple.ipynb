{
 "cells": [
  {
   "cell_type": "code",
   "execution_count": 25,
   "id": "ab0653a2-ddef-40d0-89d4-d21bad5e115b",
   "metadata": {
    "scrolled": true
   },
   "outputs": [],
   "source": [
    "import torch.nn as nn\n",
    "import torch.nn.functional as F\n",
    "import torch"
   ]
  },
  {
   "cell_type": "markdown",
   "id": "5517dc05-3e92-43f9-aa6f-801868345db1",
   "metadata": {},
   "source": [
    "## 1. Simple feedforward network \n",
    "\n",
    "To remind yourself, create a simple feedforward network, with input dim 10, with a single hidden layer of dim 20, and output a number. Do a single forward pass with a random dataset, create a random target, comput the MSE loss and do a backward pass"
   ]
  },
  {
   "cell_type": "code",
   "execution_count": 26,
   "id": "c29a7261-9a0b-4666-9608-b3ccd7cbde5f",
   "metadata": {},
   "outputs": [],
   "source": [
    "lin = nn.Linear(10,20)"
   ]
  },
  {
   "cell_type": "code",
   "execution_count": 27,
   "id": "fe49ac68-a34f-4907-99ef-9454183eb996",
   "metadata": {},
   "outputs": [
    {
     "data": {
      "text/plain": [
       "tensor([1., 1., 1., 1., 1., 1., 1., 1., 1., 1.])"
      ]
     },
     "execution_count": 27,
     "metadata": {},
     "output_type": "execute_result"
    }
   ],
   "source": [
    "torch.tensor(10*[1.])"
   ]
  },
  {
   "cell_type": "code",
   "execution_count": 28,
   "id": "26683bd7-9ea2-47eb-b1d6-28c2eb4c33e7",
   "metadata": {},
   "outputs": [
    {
     "data": {
      "text/plain": [
       "tensor([ 1.8217,  0.2695, -0.3476, -1.8505, -0.1004,  0.1248,  1.6560, -0.4991,\n",
       "         0.2190, -0.4017])"
      ]
     },
     "execution_count": 28,
     "metadata": {},
     "output_type": "execute_result"
    }
   ],
   "source": [
    "t = torch.randn(10); t"
   ]
  },
  {
   "cell_type": "code",
   "execution_count": 29,
   "id": "3354881a-8819-49ba-88e9-20e0adf1c9d6",
   "metadata": {},
   "outputs": [
    {
     "data": {
      "text/plain": [
       "tensor([ 0.8732, -0.1332, -0.4331,  0.5943,  0.4708, -0.0870,  0.4531, -0.4693,\n",
       "         0.1540,  0.0952, -0.4058,  0.3691, -0.6492,  0.1654, -0.0851, -0.5821,\n",
       "        -0.4245,  0.0443,  0.7167,  0.3904], grad_fn=<ViewBackward0>)"
      ]
     },
     "execution_count": 29,
     "metadata": {},
     "output_type": "execute_result"
    }
   ],
   "source": [
    "lin(t)"
   ]
  },
  {
   "cell_type": "code",
   "execution_count": 30,
   "id": "bbad2475-0a1b-4539-b586-c36d477bb913",
   "metadata": {},
   "outputs": [
    {
     "data": {
      "text/plain": [
       "(tensor([1.8217, 0.2695, 0.0000, 0.0000, 0.0000, 0.1248, 1.6560, 0.0000, 0.2190,\n",
       "         0.0000]),\n",
       " tensor([1.8217, 0.2695, 0.0000, 0.0000, 0.0000, 0.1248, 1.6560, 0.0000, 0.2190,\n",
       "         0.0000]))"
      ]
     },
     "execution_count": 30,
     "metadata": {},
     "output_type": "execute_result"
    }
   ],
   "source": [
    "F.relu(t), nn.ReLU()(t)"
   ]
  },
  {
   "cell_type": "code",
   "execution_count": 31,
   "id": "48a78e97-9bff-44e4-9285-c4ebd1c62e21",
   "metadata": {},
   "outputs": [],
   "source": [
    "class FFN(torch.nn.Module):\n",
    "    def __init__(self):\n",
    "        super().__init__()\n",
    "        self.l1 = torch.nn.Linear(10,20)\n",
    "        self.l2 = torch.nn.Linear(20,1)\n",
    "        self.relu = torch.nn.ReLU()\n",
    "    def forward(self, x):\n",
    "        x = self.l1(x)\n",
    "        x = self.relu(x)\n",
    "        x = self.l2(x)\n",
    "        return x"
   ]
  },
  {
   "cell_type": "code",
   "execution_count": 32,
   "id": "5a43a4b2-3c7e-42ee-974f-656c85eba8db",
   "metadata": {},
   "outputs": [],
   "source": [
    "m = FFN()"
   ]
  },
  {
   "cell_type": "code",
   "execution_count": 33,
   "id": "48b00e90-ca5f-4eab-9873-04ecc435918c",
   "metadata": {},
   "outputs": [
    {
     "data": {
      "text/plain": [
       "tensor([0.4056], grad_fn=<ViewBackward0>)"
      ]
     },
     "execution_count": 33,
     "metadata": {},
     "output_type": "execute_result"
    }
   ],
   "source": [
    "m(t)"
   ]
  },
  {
   "cell_type": "code",
   "execution_count": 34,
   "id": "f4c6d053-314b-48d6-a42f-de5ec466049e",
   "metadata": {
    "scrolled": true
   },
   "outputs": [
    {
     "data": {
      "text/plain": [
       "tensor([[ 1.0870e+00,  1.2263e+00, -7.8523e-01, -8.3940e-01, -6.7724e-01,\n",
       "          9.2860e-01,  3.0343e-01,  7.9721e-02, -1.4086e+00, -2.7782e-01],\n",
       "        [ 1.5582e-01,  9.3273e-01, -2.1816e-01, -1.3889e+00, -1.4777e+00,\n",
       "          7.0083e-01,  5.8816e-01,  4.6444e-02, -5.6448e-01,  2.1411e-01],\n",
       "        [-4.6121e-01, -2.2032e+00, -1.9828e+00,  1.2385e+00, -1.0190e+00,\n",
       "          2.0372e-01,  3.0791e+00,  8.9007e-01, -1.8027e+00, -1.2128e+00],\n",
       "        [-1.0133e-01, -4.2590e-01,  5.4851e-01,  6.6805e-01,  1.5066e+00,\n",
       "         -5.5172e-02,  6.6293e-01, -4.6370e-01, -3.6926e-01,  2.1173e-01],\n",
       "        [-1.1335e-01, -1.0208e+00,  4.8580e-01, -1.0713e+00,  2.4005e+00,\n",
       "         -7.3118e-01,  6.4561e-01,  8.9244e-01,  5.4515e-01,  6.2765e-01],\n",
       "        [-9.7842e-01,  1.0640e+00, -1.8485e+00,  1.0954e-01,  6.3075e-01,\n",
       "         -8.3446e-01,  8.2768e-01,  1.1316e+00,  2.0106e-01,  1.2592e+00],\n",
       "        [ 5.3925e-01,  1.0378e+00,  3.8581e-01, -6.2374e-01,  7.2681e-01,\n",
       "          1.9951e+00, -7.8996e-01,  3.6712e-01,  1.0010e+00,  1.2946e+00],\n",
       "        [-4.7470e-01,  3.8527e-02, -1.1649e+00,  8.2829e-01, -5.8320e-02,\n",
       "         -2.2466e-01,  9.3292e-01, -1.3961e+00,  1.1511e-01,  1.4548e-01],\n",
       "        [-1.5908e+00, -4.2568e-01, -4.3170e-01, -1.4794e+00,  2.4153e+00,\n",
       "         -7.9301e-01, -5.8079e-01,  6.8199e-01, -1.8298e-02, -1.0939e-01],\n",
       "        [ 1.2696e+00, -1.8147e+00, -1.4584e-01,  4.6073e-01, -1.0285e+00,\n",
       "         -2.6172e+00,  7.8247e-01, -7.5220e-01,  1.2728e-01, -3.1765e-01],\n",
       "        [ 3.9816e-01,  1.4383e+00, -8.1507e-02, -6.6407e-01,  6.1275e-01,\n",
       "         -1.0927e-01, -4.4806e-01, -6.0145e-01, -5.1856e-01,  1.6289e+00],\n",
       "        [ 4.0754e-01, -6.9659e-01,  1.6907e-01,  5.9037e-01,  5.4674e-01,\n",
       "          1.5207e+00,  1.0123e+00,  1.5032e+00,  1.0953e+00,  2.5723e-02],\n",
       "        [ 1.3952e+00,  7.2914e-02,  9.1896e-02,  8.4010e-02,  9.9592e-01,\n",
       "         -1.4375e-01,  2.3170e-01, -3.1549e-02, -9.6836e-02,  9.9153e-01],\n",
       "        [ 1.0281e-01, -1.5688e+00, -2.5012e+00,  3.8622e-01, -2.0485e+00,\n",
       "          2.1813e-01,  7.1400e-01,  8.2435e-01,  9.2976e-02,  1.2481e+00],\n",
       "        [-2.0156e+00,  3.9644e-01, -2.3241e-01, -1.6639e+00,  1.9626e+00,\n",
       "          6.6835e-01, -1.0510e-01, -2.5339e+00, -6.9792e-01, -3.1586e-01],\n",
       "        [ 5.8083e-01, -1.1504e+00, -7.3709e-01,  4.6872e-02,  1.7874e-01,\n",
       "          8.4948e-01, -1.0066e-02, -1.1015e+00,  1.1587e-01,  3.0356e-01],\n",
       "        [-3.9233e-02, -1.7357e+00, -7.7379e-01, -2.2288e-01,  1.2951e+00,\n",
       "          1.4292e+00, -4.0918e-01,  1.1727e+00, -1.5885e+00,  7.7972e-01],\n",
       "        [-1.4010e+00,  1.3473e+00,  2.0297e+00,  5.3530e-01, -1.2335e-01,\n",
       "          1.0322e+00,  2.5784e-01, -5.6074e-01, -2.0358e+00,  8.4882e-01],\n",
       "        [-1.5311e-01, -7.4536e-01, -1.4166e-01, -1.8596e+00, -1.2915e+00,\n",
       "         -9.1756e-01, -1.0677e+00,  9.4781e-01, -3.9212e-01,  6.8253e-01],\n",
       "        [-9.5190e-02,  6.7560e-01, -1.5022e+00,  4.1181e-01,  1.3634e+00,\n",
       "          1.2116e+00, -9.6774e-01, -4.0190e-01, -2.3232e-01, -2.6404e-01],\n",
       "        [ 5.0829e-01,  7.4191e-01,  2.1467e+00,  7.6193e-01, -8.9628e-01,\n",
       "          2.0632e-01,  1.8894e-01, -1.9755e-01, -7.8928e-01, -9.3269e-01],\n",
       "        [ 2.8246e-01,  1.0735e-01, -6.6612e-02,  8.6651e-01,  6.7399e-01,\n",
       "          1.0179e+00,  2.0275e-01, -2.1856e+00, -4.4581e-01,  7.7136e-01],\n",
       "        [ 7.6194e-02, -4.6941e-02,  1.0142e-01,  1.2229e+00, -1.9787e-01,\n",
       "         -9.0132e-01,  1.1561e+00, -5.4375e-01, -7.2830e-01, -1.4472e+00],\n",
       "        [-1.6095e-01,  1.2334e-01,  1.1275e+00, -2.8361e-01,  1.2698e+00,\n",
       "          3.3802e-01, -4.5211e-01,  9.8352e-01, -1.2549e+00, -3.2033e-01],\n",
       "        [ 7.5186e-01, -3.8533e-02, -3.3611e-01,  4.5035e-01, -4.9711e-01,\n",
       "          1.5628e+00,  1.8361e-01,  3.6116e-01, -1.1378e+00, -2.3732e-02],\n",
       "        [-1.7263e+00,  8.8070e-01,  3.2536e-02, -7.3564e-01,  4.9082e-01,\n",
       "          6.0390e-01,  9.0467e-02, -2.4848e-02, -6.8185e-01,  1.3052e+00],\n",
       "        [-1.6026e+00,  2.2602e-03,  1.0679e+00,  1.5833e+00,  4.3433e-01,\n",
       "          1.6169e+00,  1.5629e+00, -7.3062e-01,  4.6249e-01,  1.2047e+00],\n",
       "        [-5.1032e-01, -7.5853e-01,  1.2795e+00, -2.4862e+00,  4.7662e-01,\n",
       "          5.9136e-01,  1.1652e+00, -4.9394e-01, -5.1894e-01,  2.1425e-03],\n",
       "        [-1.2282e-01, -1.3601e+00, -1.2065e-01,  1.8410e+00,  1.3598e+00,\n",
       "         -2.4389e+00, -3.7317e-01, -9.1250e-01,  8.9560e-01,  3.3373e-01],\n",
       "        [ 5.4177e-02, -9.4703e-02, -2.2497e-01,  1.4577e+00,  1.3952e+00,\n",
       "         -1.6800e-01, -6.5102e-02, -2.8696e-01, -1.5267e-03, -1.5169e+00],\n",
       "        [ 7.9359e-01,  1.3357e-01, -1.2826e+00, -1.5609e+00, -2.8300e-02,\n",
       "         -2.1410e+00,  2.2458e+00,  1.9109e+00, -3.1857e-01,  9.9212e-01],\n",
       "        [ 3.8540e-02, -9.7560e-01, -8.8194e-01, -2.9495e-01,  1.4108e+00,\n",
       "         -7.7611e-01,  3.0625e-01, -1.8780e-01, -1.1791e+00, -2.2883e+00],\n",
       "        [-1.5047e+00, -8.7839e-02,  2.5329e-01,  1.0351e+00,  9.6171e-01,\n",
       "         -3.3000e+00,  9.7587e-02,  4.7176e-01,  8.6742e-01,  8.2779e-01],\n",
       "        [-5.9803e-01,  2.0811e+00, -2.0719e+00, -5.7151e-01, -7.3505e-01,\n",
       "         -6.8360e-01, -9.0577e-01, -3.6412e-01, -9.9726e-01, -1.3399e-01],\n",
       "        [-2.0253e-01,  1.0148e+00,  1.1038e+00, -1.2108e+00,  3.2197e-01,\n",
       "         -3.7949e-01, -1.0143e+00, -5.5528e-01, -6.8411e-02,  4.4122e-01],\n",
       "        [-5.9345e-02, -2.4754e-01, -1.2769e+00,  1.4273e-01, -4.0481e-01,\n",
       "         -2.2661e-01,  1.2766e+00,  1.6753e+00,  1.7356e+00,  1.6356e+00],\n",
       "        [ 1.0044e+00,  8.2151e-01,  4.2978e-01, -1.1182e+00,  3.6432e-01,\n",
       "         -1.8012e-01,  1.4440e+00,  2.1766e-01,  1.7482e+00,  1.5669e+00],\n",
       "        [ 3.4341e-01, -9.0399e-01, -5.8861e-01,  4.4711e-01, -7.8649e-01,\n",
       "         -8.6864e-01, -3.4673e-01,  1.4658e+00,  8.3234e-01,  6.4013e-01],\n",
       "        [ 2.0800e+00,  7.3856e-01, -1.8059e-02, -6.5597e-01, -4.3817e-01,\n",
       "          7.3761e-01, -5.1324e-01, -1.9467e+00, -3.8361e-01,  2.2137e+00],\n",
       "        [-5.7657e-01,  4.6412e-01, -2.9747e-01,  2.2888e+00,  3.4554e-01,\n",
       "          1.7321e+00, -1.1085e+00, -6.7308e-01, -4.2102e-01,  4.8780e-02],\n",
       "        [-1.2979e-01,  1.6228e+00,  6.9954e-01, -1.5469e+00,  9.0237e-01,\n",
       "         -1.1614e+00, -4.6739e-02,  1.3131e+00, -1.6085e+00, -1.2088e+00],\n",
       "        [-1.0084e+00,  1.3766e+00,  4.6144e-01,  5.2981e-01,  1.1845e+00,\n",
       "         -2.1092e-01,  1.4808e+00,  8.1853e-01,  1.7741e+00,  3.0257e-02],\n",
       "        [ 2.6861e-01,  9.7172e-01, -7.1008e-01, -8.0240e-01,  1.3777e+00,\n",
       "         -1.0140e+00,  1.0075e+00, -1.5413e+00, -5.5178e-01,  1.3229e+00],\n",
       "        [-3.8748e-01, -1.4658e+00,  1.9549e+00, -2.3594e-01, -2.5152e-01,\n",
       "         -1.0251e+00, -1.4718e+00,  1.4762e+00,  1.2352e+00,  1.2375e+00],\n",
       "        [ 1.2345e+00,  2.1374e-01, -6.7573e-01,  2.4316e+00,  6.9776e-01,\n",
       "         -2.4678e-01, -4.7056e-01,  7.6095e-02, -2.0401e-01, -6.0557e-01],\n",
       "        [ 8.1909e-02, -1.1742e-01,  2.2156e+00,  9.2465e-01, -1.1462e-01,\n",
       "          2.2187e-01,  1.1152e-01,  2.0098e-01, -3.2963e-01, -7.3007e-01],\n",
       "        [ 1.1550e+00, -8.8795e-01,  1.3358e+00, -2.3620e-01, -1.4028e+00,\n",
       "         -9.2348e-01,  1.7297e+00, -4.5519e-02,  1.8606e-01,  4.8510e-01],\n",
       "        [ 1.1759e+00,  2.4753e+00,  2.0712e-01, -3.6517e-01, -4.8216e-01,\n",
       "          9.3954e-01, -1.6711e-02, -1.8487e+00,  7.1115e-02,  1.9138e+00],\n",
       "        [ 6.3792e-01,  1.4849e-02,  1.0788e+00,  1.4644e+00, -9.7366e-01,\n",
       "         -4.5926e-01,  7.9235e-01,  1.7413e-01,  1.0268e+00,  1.1191e+00],\n",
       "        [ 1.2815e+00, -1.1317e+00,  8.9110e-01, -1.1768e+00, -1.8124e-01,\n",
       "          2.3806e+00,  1.2794e+00,  6.9469e-01,  4.9516e-01,  1.4541e-01],\n",
       "        [ 8.1920e-01,  5.4501e-01, -7.0086e-01, -2.8224e+00, -1.2034e+00,\n",
       "         -1.0350e+00, -7.8349e-01, -9.1941e-01, -5.1505e-01,  1.2609e+00],\n",
       "        [-1.2503e+00,  1.1787e+00, -1.7676e+00, -4.1703e-01,  5.3691e-01,\n",
       "          6.0855e-01, -8.7576e-01,  3.9847e-02,  5.8803e-02, -5.0715e-01],\n",
       "        [-3.1157e-01,  6.6112e-01, -5.1720e-01, -8.6776e-01, -1.6438e+00,\n",
       "          4.2933e-01, -3.8772e-01, -7.0708e-01, -5.8751e-02,  1.5781e+00],\n",
       "        [ 6.0293e-01, -1.1171e+00, -8.1768e-01, -8.4222e-01,  2.5815e+00,\n",
       "         -2.3868e-01, -6.8846e-01, -1.2193e-01,  6.5028e-01, -1.0386e-01],\n",
       "        [-1.2328e-01, -2.8987e-01, -1.3705e+00,  2.8238e-01, -1.6363e+00,\n",
       "         -9.8756e-02, -1.2829e+00, -7.1381e-02, -9.2223e-01,  4.3111e-01],\n",
       "        [-6.9355e-01, -1.3072e-01, -2.9854e-01, -3.8934e-01, -5.4209e-01,\n",
       "          5.1151e-01,  3.3483e-01,  5.3356e-01,  1.0074e+00,  8.6174e-01],\n",
       "        [-1.9276e-02,  5.0665e-01,  6.9295e-01, -1.2428e+00, -9.3451e-01,\n",
       "         -4.3822e-01, -5.1781e-01, -3.1555e-02,  2.1435e-01, -1.4430e+00],\n",
       "        [ 9.2911e-01, -1.2060e-01,  5.0953e-02,  1.6379e+00,  3.9749e-01,\n",
       "          9.6765e-01, -1.0136e+00, -4.7980e-01,  5.2119e-01, -8.7386e-01],\n",
       "        [-3.4435e-01,  5.2927e-01, -1.9383e+00,  6.3455e-01, -4.0679e-01,\n",
       "         -1.9812e-01,  1.0024e+00, -6.3763e-01,  4.4159e-01,  1.0871e-01],\n",
       "        [ 9.9148e-01,  1.0316e+00,  3.5740e-01,  7.1058e-01, -9.2516e-01,\n",
       "         -1.5810e-01,  1.0724e+00,  6.1095e-01, -3.5983e-01, -4.4999e-01],\n",
       "        [-6.8738e-01, -8.1316e-01,  3.6997e-01, -4.5458e-01,  6.9753e-01,\n",
       "         -7.6914e-02, -6.7440e-01, -9.9049e-01,  1.4108e-03,  6.5605e-01],\n",
       "        [-5.4280e-01, -1.2075e+00, -3.4758e-01,  1.1101e+00, -3.9328e-01,\n",
       "          5.2271e-01, -1.5999e-01, -1.1977e+00, -1.9427e-01,  9.4217e-01],\n",
       "        [-1.1495e-01, -5.5043e-01,  5.0613e-01,  1.3897e+00,  7.6056e-01,\n",
       "         -1.1550e+00,  1.5002e-01, -1.3374e+00, -2.7364e+00, -2.9878e+00],\n",
       "        [-7.1079e-02,  5.8314e-01,  1.1406e+00,  1.9487e+00, -8.6611e-01,\n",
       "         -1.4919e+00,  7.5996e-01, -2.1955e-01, -1.8338e-01, -2.5316e-01]])"
      ]
     },
     "execution_count": 34,
     "metadata": {},
     "output_type": "execute_result"
    }
   ],
   "source": [
    "X = torch.randn(64,10); X"
   ]
  },
  {
   "cell_type": "code",
   "execution_count": 35,
   "id": "bdd607be-3dad-4290-811c-c532403757a0",
   "metadata": {
    "scrolled": true
   },
   "outputs": [
    {
     "data": {
      "text/plain": [
       "tensor([[-0.1728],\n",
       "        [-0.1590],\n",
       "        [ 0.6183],\n",
       "        [-0.3038],\n",
       "        [ 2.1696],\n",
       "        [-0.2361],\n",
       "        [ 1.0324],\n",
       "        [ 0.7959],\n",
       "        [-0.7863],\n",
       "        [ 0.0536],\n",
       "        [-1.6242],\n",
       "        [ 2.4896],\n",
       "        [-0.1060],\n",
       "        [ 2.0210],\n",
       "        [ 1.8597],\n",
       "        [ 0.5439],\n",
       "        [-0.4174],\n",
       "        [-1.0071],\n",
       "        [ 0.6719],\n",
       "        [-0.1610],\n",
       "        [-1.2476],\n",
       "        [-0.6378],\n",
       "        [ 1.4842],\n",
       "        [ 0.3149],\n",
       "        [-0.1493],\n",
       "        [-0.3425],\n",
       "        [-0.6604],\n",
       "        [ 0.2886],\n",
       "        [ 1.3355],\n",
       "        [ 0.8139],\n",
       "        [-0.7668],\n",
       "        [-0.5455],\n",
       "        [-0.4572],\n",
       "        [ 0.5443],\n",
       "        [-0.5314],\n",
       "        [-0.1220],\n",
       "        [ 0.6118],\n",
       "        [ 0.2320],\n",
       "        [ 1.2634],\n",
       "        [ 0.1388],\n",
       "        [-1.0106],\n",
       "        [-1.1894],\n",
       "        [ 0.6897],\n",
       "        [ 0.2198],\n",
       "        [-0.6971],\n",
       "        [-1.5483],\n",
       "        [ 0.4862],\n",
       "        [ 0.4120],\n",
       "        [ 0.5808],\n",
       "        [-0.5587],\n",
       "        [ 0.5278],\n",
       "        [ 1.3721],\n",
       "        [ 0.6388],\n",
       "        [ 0.6339],\n",
       "        [ 1.5704],\n",
       "        [ 0.5929],\n",
       "        [ 1.0476],\n",
       "        [-0.9272],\n",
       "        [-2.0331],\n",
       "        [-1.6959],\n",
       "        [-1.4656],\n",
       "        [-0.2343],\n",
       "        [ 0.0815],\n",
       "        [-2.3836]])"
      ]
     },
     "execution_count": 35,
     "metadata": {},
     "output_type": "execute_result"
    }
   ],
   "source": [
    "y = torch.randn(64, 1); y"
   ]
  },
  {
   "cell_type": "code",
   "execution_count": 36,
   "id": "24552996-82c9-40f6-bedf-8d50aaaa85fc",
   "metadata": {},
   "outputs": [
    {
     "data": {
      "text/plain": [
       "tensor([[ 0.2638],\n",
       "        [ 0.2957],\n",
       "        [-0.0634],\n",
       "        [-0.0646],\n",
       "        [ 0.3828],\n",
       "        [ 0.4899],\n",
       "        [ 0.0865],\n",
       "        [ 0.2469],\n",
       "        [ 0.5994],\n",
       "        [ 0.2061],\n",
       "        [ 0.3522],\n",
       "        [-0.2214],\n",
       "        [ 0.1485],\n",
       "        [ 0.4040],\n",
       "        [ 0.4061],\n",
       "        [ 0.1282],\n",
       "        [ 0.3579],\n",
       "        [-0.1419],\n",
       "        [ 0.4043],\n",
       "        [ 0.3060],\n",
       "        [-0.2939],\n",
       "        [ 0.0130],\n",
       "        [-0.2531],\n",
       "        [ 0.0631],\n",
       "        [-0.1042],\n",
       "        [ 0.3036],\n",
       "        [-0.0812],\n",
       "        [ 0.4360],\n",
       "        [-0.0559],\n",
       "        [-0.3699],\n",
       "        [ 0.6912],\n",
       "        [ 0.1719],\n",
       "        [ 0.3576],\n",
       "        [ 0.5107],\n",
       "        [ 0.2206],\n",
       "        [ 0.3517],\n",
       "        [ 0.2696],\n",
       "        [ 0.0723],\n",
       "        [ 0.3818],\n",
       "        [-0.1451],\n",
       "        [ 0.4905],\n",
       "        [ 0.3574],\n",
       "        [ 0.5384],\n",
       "        [-0.0890],\n",
       "        [-0.4068],\n",
       "        [-0.3605],\n",
       "        [ 0.1963],\n",
       "        [ 0.2382],\n",
       "        [-0.0464],\n",
       "        [-0.0732],\n",
       "        [ 0.5822],\n",
       "        [ 0.3946],\n",
       "        [ 0.2244],\n",
       "        [ 0.2882],\n",
       "        [ 0.3183],\n",
       "        [ 0.2723],\n",
       "        [ 0.3118],\n",
       "        [-0.3551],\n",
       "        [ 0.2874],\n",
       "        [-0.1771],\n",
       "        [ 0.1780],\n",
       "        [ 0.1172],\n",
       "        [-0.4281],\n",
       "        [-0.1130]], grad_fn=<AddmmBackward0>)"
      ]
     },
     "execution_count": 36,
     "metadata": {},
     "output_type": "execute_result"
    }
   ],
   "source": [
    "y_ = m(X); y_"
   ]
  },
  {
   "cell_type": "code",
   "execution_count": 37,
   "id": "03250910-3e75-4f88-ac3d-60e29edec798",
   "metadata": {},
   "outputs": [
    {
     "data": {
      "text/plain": [
       "tensor(1.0310, grad_fn=<DivBackward0>)"
      ]
     },
     "execution_count": 37,
     "metadata": {},
     "output_type": "execute_result"
    }
   ],
   "source": [
    "loss = torch.sum((y_ - y)**2) / y.shape[0]\n",
    "loss"
   ]
  },
  {
   "cell_type": "code",
   "execution_count": 38,
   "id": "703ed542-9dcd-43e5-ac02-51e1791145d4",
   "metadata": {},
   "outputs": [],
   "source": [
    "loss.backward()"
   ]
  },
  {
   "cell_type": "code",
   "execution_count": 39,
   "id": "8f0c3620-2ba7-4055-8306-d8eababcbd33",
   "metadata": {},
   "outputs": [
    {
     "data": {
      "text/plain": [
       "tensor(1.0310, grad_fn=<DivBackward0>)"
      ]
     },
     "execution_count": 39,
     "metadata": {},
     "output_type": "execute_result"
    }
   ],
   "source": [
    "loss"
   ]
  },
  {
   "cell_type": "code",
   "execution_count": 40,
   "id": "9338c59b-0767-4cd8-8e67-9a964cb47e4d",
   "metadata": {},
   "outputs": [
    {
     "name": "stdout",
     "output_type": "stream",
     "text": [
      "Parameter containing:\n",
      "tensor([[ 0.1971, -0.0972, -0.1363, -0.2395, -0.0043,  0.0695,  0.0850, -0.2161,\n",
      "         -0.2564,  0.1548],\n",
      "        [ 0.1591,  0.2335, -0.1132, -0.3147,  0.3136,  0.0034, -0.1293,  0.1022,\n",
      "         -0.0886,  0.0378],\n",
      "        [-0.2514, -0.1904,  0.1708, -0.0264, -0.1660, -0.1663,  0.2827, -0.0765,\n",
      "          0.2024,  0.2449],\n",
      "        [ 0.1953, -0.1348,  0.2417,  0.2698,  0.1857,  0.2712,  0.2677, -0.1584,\n",
      "          0.0890, -0.2183],\n",
      "        [-0.2252,  0.1704, -0.0264, -0.2910, -0.0483,  0.1411,  0.2381,  0.1963,\n",
      "         -0.1707,  0.2785],\n",
      "        [-0.0587, -0.2193, -0.1140, -0.1335, -0.1422, -0.1167,  0.2281,  0.0752,\n",
      "         -0.1477, -0.1583],\n",
      "        [ 0.2799, -0.0395, -0.2998,  0.2842,  0.1344,  0.0472,  0.1087,  0.3093,\n",
      "         -0.0627, -0.2529],\n",
      "        [ 0.0991, -0.0803, -0.1969,  0.2497,  0.1157,  0.1114, -0.2375, -0.0229,\n",
      "         -0.1529,  0.0323],\n",
      "        [-0.1183, -0.2598,  0.2463, -0.0905,  0.1235, -0.0152,  0.0374, -0.1464,\n",
      "          0.2132,  0.1766],\n",
      "        [-0.0821,  0.2814, -0.2634, -0.2072,  0.1107, -0.1556, -0.0601,  0.0463,\n",
      "         -0.1070, -0.1272],\n",
      "        [ 0.0218,  0.1310, -0.1347, -0.0721,  0.0880,  0.0456, -0.2730,  0.0649,\n",
      "         -0.2625, -0.0094],\n",
      "        [-0.2857,  0.0305, -0.2149, -0.1300,  0.3160,  0.0596,  0.3122,  0.3075,\n",
      "         -0.0065,  0.1515],\n",
      "        [-0.0507,  0.2539,  0.1877, -0.0377, -0.1776,  0.0292,  0.1583,  0.2630,\n",
      "         -0.0936, -0.1802],\n",
      "        [-0.0759,  0.0067, -0.0577,  0.2625,  0.0905,  0.2117,  0.0097, -0.0129,\n",
      "         -0.3073, -0.2755],\n",
      "        [ 0.1500, -0.0564,  0.0747,  0.2373,  0.0263,  0.0822, -0.2629,  0.1135,\n",
      "          0.1824,  0.1068],\n",
      "        [ 0.1208, -0.1937,  0.2700,  0.2400, -0.1681, -0.1004,  0.2160,  0.2150,\n",
      "         -0.2028, -0.1433],\n",
      "        [ 0.1936,  0.1177, -0.2672, -0.2998, -0.0536, -0.0846, -0.2036,  0.2277,\n",
      "          0.1329,  0.1213],\n",
      "        [-0.1515, -0.3128,  0.1667,  0.3109, -0.1994, -0.1500, -0.0949, -0.1063,\n",
      "          0.1954, -0.0468],\n",
      "        [-0.3019,  0.0310,  0.1326,  0.1230,  0.0601,  0.0893,  0.2101, -0.1512,\n",
      "         -0.0166, -0.2365],\n",
      "        [ 0.2856,  0.2142,  0.1926, -0.2329,  0.2597,  0.0895, -0.1756, -0.0618,\n",
      "         -0.1135,  0.2649]], requires_grad=True) tensor([[ 0.1971, -0.0973, -0.1363, -0.2395, -0.0043,  0.0695,  0.0849, -0.2161,\n",
      "         -0.2564,  0.1548],\n",
      "        [ 0.1591,  0.2335, -0.1132, -0.3147,  0.3136,  0.0034, -0.1293,  0.1022,\n",
      "         -0.0886,  0.0378],\n",
      "        [-0.2514, -0.1905,  0.1708, -0.0264, -0.1660, -0.1663,  0.2827, -0.0765,\n",
      "          0.2024,  0.2449],\n",
      "        [ 0.1953, -0.1347,  0.2418,  0.2698,  0.1856,  0.2712,  0.2677, -0.1584,\n",
      "          0.0890, -0.2183],\n",
      "        [-0.2252,  0.1704, -0.0263, -0.2910, -0.0483,  0.1411,  0.2381,  0.1963,\n",
      "         -0.1707,  0.2785],\n",
      "        [-0.0587, -0.2194, -0.1140, -0.1335, -0.1422, -0.1166,  0.2280,  0.0752,\n",
      "         -0.1477, -0.1583],\n",
      "        [ 0.2799, -0.0395, -0.2998,  0.2842,  0.1344,  0.0471,  0.1088,  0.3093,\n",
      "         -0.0627, -0.2529],\n",
      "        [ 0.0991, -0.0803, -0.1970,  0.2497,  0.1157,  0.1114, -0.2375, -0.0229,\n",
      "         -0.1529,  0.0323],\n",
      "        [-0.1184, -0.2598,  0.2463, -0.0905,  0.1235, -0.0153,  0.0374, -0.1464,\n",
      "          0.2131,  0.1766],\n",
      "        [-0.0821,  0.2814, -0.2634, -0.2071,  0.1106, -0.1555, -0.0601,  0.0462,\n",
      "         -0.1070, -0.1273],\n",
      "        [ 0.0218,  0.1310, -0.1347, -0.0721,  0.0880,  0.0456, -0.2731,  0.0649,\n",
      "         -0.2625, -0.0094],\n",
      "        [-0.2857,  0.0304, -0.2149, -0.1300,  0.3159,  0.0596,  0.3122,  0.3075,\n",
      "         -0.0065,  0.1515],\n",
      "        [-0.0507,  0.2539,  0.1877, -0.0377, -0.1776,  0.0292,  0.1582,  0.2630,\n",
      "         -0.0936, -0.1802],\n",
      "        [-0.0760,  0.0067, -0.0576,  0.2625,  0.0905,  0.2117,  0.0097, -0.0129,\n",
      "         -0.3073, -0.2755],\n",
      "        [ 0.1500, -0.0564,  0.0747,  0.2373,  0.0263,  0.0822, -0.2629,  0.1135,\n",
      "          0.1824,  0.1068],\n",
      "        [ 0.1208, -0.1936,  0.2701,  0.2400, -0.1681, -0.1004,  0.2160,  0.2150,\n",
      "         -0.2029, -0.1433],\n",
      "        [ 0.1936,  0.1177, -0.2672, -0.2998, -0.0536, -0.0846, -0.2036,  0.2277,\n",
      "          0.1329,  0.1213],\n",
      "        [-0.1515, -0.3128,  0.1667,  0.3109, -0.1994, -0.1500, -0.0949, -0.1063,\n",
      "          0.1954, -0.0468],\n",
      "        [-0.3019,  0.0310,  0.1325,  0.1230,  0.0601,  0.0893,  0.2101, -0.1512,\n",
      "         -0.0166, -0.2365],\n",
      "        [ 0.2856,  0.2142,  0.1926, -0.2329,  0.2597,  0.0895, -0.1756, -0.0618,\n",
      "         -0.1135,  0.2649]], grad_fn=<SubBackward0>)\n"
     ]
    }
   ],
   "source": [
    "for w in m.parameters():\n",
    "    w_ = w - 0.001 * w.grad\n",
    "    print(w, w_)\n",
    "    break"
   ]
  },
  {
   "cell_type": "markdown",
   "id": "6b2b3dec-d3e1-4824-9ec0-950d78e7b79f",
   "metadata": {},
   "source": [
    "## 2. Train a binary classifier in 2D plane\n",
    "\n",
    "Create two clusters with distinct labels, then train a classifier to predict the labels \n",
    "\n"
   ]
  },
  {
   "cell_type": "code",
   "execution_count": 41,
   "id": "570f8ae5-f60b-4815-b15a-8289344d4487",
   "metadata": {},
   "outputs": [
    {
     "data": {
      "text/plain": [
       "(tensor([2, 2]), tensor([-2, -2]))"
      ]
     },
     "execution_count": 41,
     "metadata": {},
     "output_type": "execute_result"
    }
   ],
   "source": [
    "# midpoint of cluster 1 \n",
    "m1 = torch.tensor([2,2])\n",
    "m2 = torch.tensor([-2,-2])\n",
    "m1, m2"
   ]
  },
  {
   "cell_type": "code",
   "execution_count": 76,
   "id": "425b7ab8-eb14-47dc-9518-4d74ea779c46",
   "metadata": {},
   "outputs": [],
   "source": [
    "c1 = m1 + 1.2*(torch.randn(100, 2))\n",
    "c2 = m2 + 1.2*(torch.randn(100, 2))"
   ]
  },
  {
   "cell_type": "code",
   "execution_count": 77,
   "id": "52c66fd0-fa90-46b3-bc6c-f388ec45b0fd",
   "metadata": {},
   "outputs": [],
   "source": [
    "import matplotlib.pyplot as plt, numpy as np"
   ]
  },
  {
   "cell_type": "code",
   "execution_count": 86,
   "id": "7b53706d-5f4c-4fa1-920e-81a16464c06d",
   "metadata": {},
   "outputs": [
    {
     "data": {
      "image/png": "[encoded data removed]",
      "text/plain": [
       "<Figure size 640x480 with 1 Axes>"
      ]
     },
     "metadata": {},
     "output_type": "display_data"
    }
   ],
   "source": [
    "plt.scatter(c1.detach().numpy()[:,0], c1.detach().numpy()[:,1])\n",
    "plt.scatter(c2.detach().numpy()[:,0], c2.detach().numpy()[:,1]);"
   ]
  },
  {
   "cell_type": "code",
   "execution_count": null,
   "id": "c12da168-b014-4cae-8089-3007a4757b01",
   "metadata": {},
   "outputs": [],
   "source": []
  }
 ],
 "metadata": {
  "kernelspec": {
   "display_name": "Python 3 (ipykernel)",
   "language": "python",
   "name": "python3"
  },
  "language_info": {
   "codemirror_mode": {
    "name": "ipython",
    "version": 3
   },
   "file_extension": ".py",
   "mimetype": "text/x-python",
   "name": "python",
   "nbconvert_exporter": "python",
   "pygments_lexer": "ipython3",
   "version": "3.12.8"
  }
 },
 "nbformat": 4,
 "nbformat_minor": 5
}
