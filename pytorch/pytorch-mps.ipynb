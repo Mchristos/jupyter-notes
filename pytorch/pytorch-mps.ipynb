{
 "cells": [
  {
   "cell_type": "markdown",
   "id": "f24259d2-0f56-4337-8649-eaa16f0d2073",
   "metadata": {},
   "source": [
    "# Apple Metal support for pytorch GPU programming \n",
    "\n",
    "https://developer.apple.com/metal/pytorch/"
   ]
  },
  {
   "cell_type": "code",
   "execution_count": 1,
   "id": "eb985327-81a2-4631-8359-d1ff617c4c1a",
   "metadata": {},
   "outputs": [
    {
     "name": "stdout",
     "output_type": "stream",
     "text": [
      "tensor([1.], device='mps:0')\n"
     ]
    }
   ],
   "source": [
    "import torch\n",
    "if torch.backends.mps.is_available():\n",
    "    mps_device = torch.device(\"mps\")\n",
    "    x = torch.ones(1, device=mps_device)\n",
    "    print (x)\n",
    "else:\n",
    "    print (\"MPS device not found.\")"
   ]
  },
  {
   "cell_type": "code",
   "execution_count": 2,
   "id": "03998201-8d85-4bf0-94ed-3c5fe49f7458",
   "metadata": {},
   "outputs": [],
   "source": [
    "from torch import tensor "
   ]
  },
  {
   "cell_type": "code",
   "execution_count": 9,
   "id": "e909ccab-bd3c-4288-8e83-686d18af56b0",
   "metadata": {},
   "outputs": [
    {
     "data": {
      "text/plain": [
       "tensor([[   0,    1,    2,  ...,  997,  998,  999],\n",
       "        [1000, 1001, 1002,  ..., 1997, 1998, 1999]])"
      ]
     },
     "execution_count": 9,
     "metadata": {},
     "output_type": "execute_result"
    }
   ],
   "source": [
    "x = tensor([range(1000), range(1000,2000)])\n",
    "x"
   ]
  },
  {
   "cell_type": "code",
   "execution_count": 10,
   "id": "a9f690e8-1114-4a57-9dc5-cfd7d560d808",
   "metadata": {},
   "outputs": [
    {
     "data": {
      "text/plain": [
       "torch.Size([2, 1000])"
      ]
     },
     "execution_count": 10,
     "metadata": {},
     "output_type": "execute_result"
    }
   ],
   "source": [
    "x.shape"
   ]
  },
  {
   "cell_type": "code",
   "execution_count": 13,
   "id": "e8821acb-ccdd-4633-83f2-8100f7c1a214",
   "metadata": {},
   "outputs": [],
   "source": [
    "x = x.to(\"mps\")"
   ]
  },
  {
   "cell_type": "code",
   "execution_count": 14,
   "id": "ccdbe575-9a1d-4386-987e-a2a4ea9f0989",
   "metadata": {},
   "outputs": [
    {
     "data": {
      "text/plain": [
       "tensor([[   0,    1,    2,  ...,  997,  998,  999],\n",
       "        [1000, 1001, 1002,  ..., 1997, 1998, 1999]], device='mps:0')"
      ]
     },
     "execution_count": 14,
     "metadata": {},
     "output_type": "execute_result"
    }
   ],
   "source": [
    "x"
   ]
  },
  {
   "cell_type": "code",
   "execution_count": null,
   "id": "f779b56f-917d-4d74-bb59-84b797883393",
   "metadata": {},
   "outputs": [],
   "source": []
  }
 ],
 "metadata": {
  "kernelspec": {
   "display_name": "Python 3 (ipykernel)",
   "language": "python",
   "name": "python3"
  },
  "language_info": {
   "codemirror_mode": {
    "name": "ipython",
    "version": 3
   },
   "file_extension": ".py",
   "mimetype": "text/x-python",
   "name": "python",
   "nbconvert_exporter": "python",
   "pygments_lexer": "ipython3",
   "version": "3.12.8"
  }
 },
 "nbformat": 4,
 "nbformat_minor": 5
}
