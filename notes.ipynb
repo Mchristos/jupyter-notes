{
 "cells": [
  {
   "cell_type": "markdown",
   "id": "caee09c3-e3ea-492a-9d3b-d4b9bc746a3e",
   "metadata": {},
   "source": [
    "# mypy annotations with None \n",
    "\n",
    "This comes from https://mypy.readthedocs.io/en/stable/kinds_of_types.html#the-any-type"
   ]
  },
  {
   "cell_type": "markdown",
   "id": "f8cfa1b6-617e-4ce4-a8bf-cd8aa7c7e383",
   "metadata": {},
   "source": [
    "You should give a statically typed function an explicit None return type even if it doesn’t return a value, as this lets mypy catch additional type errors:"
   ]
  },
  {
   "cell_type": "code",
   "execution_count": 1,
   "id": "06d23bb0-735a-483d-9409-8c8f285208dd",
   "metadata": {},
   "outputs": [
    {
     "name": "stdout",
     "output_type": "stream",
     "text": [
      "Waiting...\n"
     ]
    },
    {
     "ename": "TypeError",
     "evalue": "'>' not supported between instances of 'NoneType' and 'int'",
     "output_type": "error",
     "traceback": [
      "\u001b[0;31m---------------------------------------------------------------------------\u001b[0m",
      "\u001b[0;31mTypeError\u001b[0m                                 Traceback (most recent call last)",
      "Cell \u001b[0;32mIn[1], line 7\u001b[0m\n\u001b[1;32m      4\u001b[0m     \u001b[38;5;28mprint\u001b[39m(\u001b[38;5;124m'\u001b[39m\u001b[38;5;124mWaiting...\u001b[39m\u001b[38;5;124m'\u001b[39m)\n\u001b[1;32m      5\u001b[0m     time\u001b[38;5;241m.\u001b[39msleep(t)\n\u001b[0;32m----> 7\u001b[0m \u001b[38;5;28;01mif\u001b[39;00m \u001b[43mwait\u001b[49m\u001b[43m(\u001b[49m\u001b[38;5;241;43m2\u001b[39;49m\u001b[43m)\u001b[49m\u001b[43m \u001b[49m\u001b[38;5;241;43m>\u001b[39;49m\u001b[43m \u001b[49m\u001b[38;5;241;43m1\u001b[39;49m:   \u001b[38;5;66;03m# Mypy doesn't catch this error!\u001b[39;00m\n\u001b[1;32m      8\u001b[0m     \u001b[38;5;241m.\u001b[39m\u001b[38;5;241m.\u001b[39m\u001b[38;5;241m.\u001b[39m\n",
      "\u001b[0;31mTypeError\u001b[0m: '>' not supported between instances of 'NoneType' and 'int'"
     ]
    }
   ],
   "source": [
    "import time \n",
    "\n",
    "def wait(t: float):  # Implicit Any return value\n",
    "    print('Waiting...')\n",
    "    time.sleep(t)\n",
    "\n",
    "if wait(2) > 1:   # Mypy doesn't catch this error!\n",
    "    ..."
   ]
  },
  {
   "cell_type": "markdown",
   "id": "954e5c1f-0720-4e58-8207-5ea0c9051bc3",
   "metadata": {},
   "source": [
    "If we had used an explicit None return type, mypy would have caught the error:\n"
   ]
  },
  {
   "cell_type": "code",
   "execution_count": 2,
   "id": "bc848093-ed1b-407b-810a-8af766f4656e",
   "metadata": {},
   "outputs": [
    {
     "name": "stdout",
     "output_type": "stream",
     "text": [
      "Waiting...\n"
     ]
    },
    {
     "ename": "TypeError",
     "evalue": "'>' not supported between instances of 'NoneType' and 'int'",
     "output_type": "error",
     "traceback": [
      "\u001b[0;31m---------------------------------------------------------------------------\u001b[0m",
      "\u001b[0;31mTypeError\u001b[0m                                 Traceback (most recent call last)",
      "Cell \u001b[0;32mIn[2], line 5\u001b[0m\n\u001b[1;32m      2\u001b[0m     \u001b[38;5;28mprint\u001b[39m(\u001b[38;5;124m'\u001b[39m\u001b[38;5;124mWaiting...\u001b[39m\u001b[38;5;124m'\u001b[39m)\n\u001b[1;32m      3\u001b[0m     time\u001b[38;5;241m.\u001b[39msleep(t)\n\u001b[0;32m----> 5\u001b[0m \u001b[38;5;28;01mif\u001b[39;00m \u001b[43mwait\u001b[49m\u001b[43m(\u001b[49m\u001b[38;5;241;43m2\u001b[39;49m\u001b[43m)\u001b[49m\u001b[43m \u001b[49m\u001b[38;5;241;43m>\u001b[39;49m\u001b[43m \u001b[49m\u001b[38;5;241;43m1\u001b[39;49m:   \u001b[38;5;66;03m# Error: can't compare None and int\u001b[39;00m\n\u001b[1;32m      6\u001b[0m     \u001b[38;5;241m.\u001b[39m\u001b[38;5;241m.\u001b[39m\u001b[38;5;241m.\u001b[39m\n",
      "\u001b[0;31mTypeError\u001b[0m: '>' not supported between instances of 'NoneType' and 'int'"
     ]
    }
   ],
   "source": [
    "def wait(t: float) -> None:\n",
    "    print('Waiting...')\n",
    "    time.sleep(t)\n",
    "\n",
    "if wait(2) > 1:   # Error: can't compare None and int\n",
    "    ..."
   ]
  },
  {
   "cell_type": "markdown",
   "id": "791f3cdd-cd93-4132-8174-78ae9a8e69b7",
   "metadata": {},
   "source": [
    "# Exceptions & inheritance "
   ]
  },
  {
   "cell_type": "code",
   "execution_count": 3,
   "id": "5ceea0dd-1a3e-4ba6-89c6-2278bc846b43",
   "metadata": {},
   "outputs": [],
   "source": [
    "class TimeoutError(Exception):\n",
    "    pass"
   ]
  },
  {
   "cell_type": "code",
   "execution_count": 4,
   "id": "756a4fac-7e6b-4c5b-a60e-581dd765a4e6",
   "metadata": {},
   "outputs": [
    {
     "ename": "TimeoutError",
     "evalue": "(\"Oh no I simply can't do that\", 'bla')",
     "output_type": "error",
     "traceback": [
      "\u001b[0;31m---------------------------------------------------------------------------\u001b[0m",
      "\u001b[0;31mTimeoutError\u001b[0m                              Traceback (most recent call last)",
      "Cell \u001b[0;32mIn[4], line 1\u001b[0m\n\u001b[0;32m----> 1\u001b[0m \u001b[38;5;28;01mraise\u001b[39;00m \u001b[38;5;167;01mTimeoutError\u001b[39;00m(\u001b[38;5;124m\"\u001b[39m\u001b[38;5;124mOh no I simply can\u001b[39m\u001b[38;5;124m'\u001b[39m\u001b[38;5;124mt do that\u001b[39m\u001b[38;5;124m\"\u001b[39m, \u001b[38;5;124m\"\u001b[39m\u001b[38;5;124mbla\u001b[39m\u001b[38;5;124m\"\u001b[39m)\n",
      "\u001b[0;31mTimeoutError\u001b[0m: (\"Oh no I simply can't do that\", 'bla')"
     ]
    }
   ],
   "source": [
    "raise TimeoutError(\"Oh no I simply can't do that\", \"bla\")"
   ]
  },
  {
   "cell_type": "markdown",
   "id": "7aff1de8-91f9-4ca3-8232-d240794a5e37",
   "metadata": {},
   "source": [
    "# Series & DataFrame "
   ]
  },
  {
   "cell_type": "code",
   "execution_count": 19,
   "id": "2bd098b8-2728-4104-848b-11752ec83819",
   "metadata": {},
   "outputs": [],
   "source": [
    "import pandas as pd \n",
    "import numpy as np "
   ]
  },
  {
   "cell_type": "code",
   "execution_count": 20,
   "id": "b26c93f6-3686-4da7-ae74-69792bdb4a43",
   "metadata": {},
   "outputs": [
    {
     "data": {
      "text/plain": [
       "0    0.092783\n",
       "1    0.740249\n",
       "2    0.096381\n",
       "3    0.682808\n",
       "4    0.778577\n",
       "5    0.113946\n",
       "6    0.171664\n",
       "7    0.131936\n",
       "8    0.391649\n",
       "9    0.916708\n",
       "Name: MySeries, dtype: float64"
      ]
     },
     "execution_count": 20,
     "metadata": {},
     "output_type": "execute_result"
    }
   ],
   "source": [
    "s = pd.Series(np.random.rand(10), name=\"MySeries\"); s"
   ]
  },
  {
   "cell_type": "code",
   "execution_count": 21,
   "id": "46bfb730-dfab-46bd-9209-8f5e5ffd2adb",
   "metadata": {},
   "outputs": [
    {
     "data": {
      "text/html": [
       "<div>\n",
       "<style scoped>\n",
       "    .dataframe tbody tr th:only-of-type {\n",
       "        vertical-align: middle;\n",
       "    }\n",
       "\n",
       "    .dataframe tbody tr th {\n",
       "        vertical-align: top;\n",
       "    }\n",
       "\n",
       "    .dataframe thead th {\n",
       "        text-align: right;\n",
       "    }\n",
       "</style>\n",
       "<table border=\"1\" class=\"dataframe\">\n",
       "  <thead>\n",
       "    <tr style=\"text-align: right;\">\n",
       "      <th></th>\n",
       "      <th>MySeries</th>\n",
       "    </tr>\n",
       "  </thead>\n",
       "  <tbody>\n",
       "    <tr>\n",
       "      <th>0</th>\n",
       "      <td>0.092783</td>\n",
       "    </tr>\n",
       "    <tr>\n",
       "      <th>1</th>\n",
       "      <td>0.740249</td>\n",
       "    </tr>\n",
       "    <tr>\n",
       "      <th>2</th>\n",
       "      <td>0.096381</td>\n",
       "    </tr>\n",
       "    <tr>\n",
       "      <th>3</th>\n",
       "      <td>0.682808</td>\n",
       "    </tr>\n",
       "    <tr>\n",
       "      <th>4</th>\n",
       "      <td>0.778577</td>\n",
       "    </tr>\n",
       "  </tbody>\n",
       "</table>\n",
       "</div>"
      ],
      "text/plain": [
       "   MySeries\n",
       "0  0.092783\n",
       "1  0.740249\n",
       "2  0.096381\n",
       "3  0.682808\n",
       "4  0.778577"
      ]
     },
     "execution_count": 21,
     "metadata": {},
     "output_type": "execute_result"
    }
   ],
   "source": [
    "df = pd.DataFrame(s); df.head()"
   ]
  },
  {
   "cell_type": "code",
   "execution_count": 22,
   "id": "d125e104-90a6-4a64-bd93-5ed8a3d2a4c4",
   "metadata": {},
   "outputs": [
    {
     "data": {
      "text/plain": [
       "'MySeries'"
      ]
     },
     "execution_count": 22,
     "metadata": {},
     "output_type": "execute_result"
    }
   ],
   "source": [
    "df.columns[0]"
   ]
  },
  {
   "cell_type": "code",
   "execution_count": 23,
   "id": "3de7683b-a0a0-4dff-a65c-f6eaf3419245",
   "metadata": {},
   "outputs": [
    {
     "data": {
      "text/plain": [
       "['MySeries']"
      ]
     },
     "execution_count": 23,
     "metadata": {},
     "output_type": "execute_result"
    }
   ],
   "source": [
    "list(df.columns)"
   ]
  },
  {
   "cell_type": "markdown",
   "id": "bb37d6d5-8fa2-4d70-bf27-44d022687aab",
   "metadata": {},
   "source": [
    "# Inheritance & Abstract Methods "
   ]
  },
  {
   "cell_type": "code",
   "execution_count": 24,
   "id": "0441f0a4-c90b-4186-83c5-3acae87ff5ab",
   "metadata": {},
   "outputs": [],
   "source": [
    "from abc import ABC, abstractmethod\n",
    "\n",
    "def object_repr(object) -> str:\n",
    "    if object is None:\n",
    "        return \"None\"\n",
    "    cls = object.__class__\n",
    "    return f\"{cls.__module__}.{cls.__name__}\"\n",
    "    \n",
    "class Explainer(ABC):\n",
    "    @abstractmethod\n",
    "    def __init__(self, model, explainer):\n",
    "        pass\n",
    "\n",
    "    def __repr__(self) -> str:\n",
    "        return f\"\"\"{self.__class__.__name__} (model={object_repr(self.model)}, explainer={object_repr(self.explainer)})\n",
    "        \"\"\"\n",
    "        \n",
    "    @abstractmethod\n",
    "    def fit(self, data) -> None:\n",
    "        pass"
   ]
  },
  {
   "cell_type": "markdown",
   "id": "50ef4291-8e95-4602-b811-acf085e5ddef",
   "metadata": {},
   "source": [
    "## without implementing fit "
   ]
  },
  {
   "cell_type": "code",
   "execution_count": 25,
   "id": "10145427-6455-4852-8950-bf44731ec138",
   "metadata": {},
   "outputs": [],
   "source": [
    "class DiceExplainer(Explainer):\n",
    "    def __init__(self, model, explainer):\n",
    "        self.model = model\n",
    "        self.explainer = explainer"
   ]
  },
  {
   "cell_type": "code",
   "execution_count": 26,
   "id": "741cce9f-79bf-48e9-bd7a-de24ee53c1f0",
   "metadata": {},
   "outputs": [
    {
     "ename": "TypeError",
     "evalue": "Can't instantiate abstract class DiceExplainer with abstract method fit",
     "output_type": "error",
     "traceback": [
      "\u001b[0;31m---------------------------------------------------------------------------\u001b[0m",
      "\u001b[0;31mTypeError\u001b[0m                                 Traceback (most recent call last)",
      "Cell \u001b[0;32mIn[26], line 1\u001b[0m\n\u001b[0;32m----> 1\u001b[0m hi \u001b[38;5;241m=\u001b[39m \u001b[43mDiceExplainer\u001b[49m\u001b[43m(\u001b[49m\u001b[38;5;241;43m1\u001b[39;49m\u001b[43m,\u001b[49m\u001b[43m \u001b[49m\u001b[38;5;241;43m2\u001b[39;49m\u001b[43m)\u001b[49m\n",
      "\u001b[0;31mTypeError\u001b[0m: Can't instantiate abstract class DiceExplainer with abstract method fit"
     ]
    }
   ],
   "source": [
    "hi = DiceExplainer(1, 2)"
   ]
  },
  {
   "cell_type": "markdown",
   "id": "a1b21995-a6ec-4211-b17f-1e045d9699f4",
   "metadata": {},
   "source": [
    "## without implementing init correctly  \n",
    "\n",
    "Fails because it tries to run the repr method which relies on 'model'"
   ]
  },
  {
   "cell_type": "code",
   "execution_count": 27,
   "id": "3e0a277d-5e79-469a-8267-f48953ae7413",
   "metadata": {},
   "outputs": [],
   "source": [
    "class DiceExplainer(Explainer):\n",
    "    def __init__(self):\n",
    "        self.hi = 1\n",
    "    def fit(data):\n",
    "        return None"
   ]
  },
  {
   "cell_type": "code",
   "execution_count": 28,
   "id": "94d35e9f-ec60-453d-8f93-d2a6bf84c336",
   "metadata": {},
   "outputs": [
    {
     "ename": "AttributeError",
     "evalue": "'DiceExplainer' object has no attribute 'model'",
     "output_type": "error",
     "traceback": [
      "\u001b[0;31m---------------------------------------------------------------------------\u001b[0m",
      "\u001b[0;31mAttributeError\u001b[0m                            Traceback (most recent call last)",
      "File \u001b[0;32m~/.local/lib/python3.10/site-packages/IPython/core/formatters.py:708\u001b[0m, in \u001b[0;36mPlainTextFormatter.__call__\u001b[0;34m(self, obj)\u001b[0m\n\u001b[1;32m    701\u001b[0m stream \u001b[38;5;241m=\u001b[39m StringIO()\n\u001b[1;32m    702\u001b[0m printer \u001b[38;5;241m=\u001b[39m pretty\u001b[38;5;241m.\u001b[39mRepresentationPrinter(stream, \u001b[38;5;28mself\u001b[39m\u001b[38;5;241m.\u001b[39mverbose,\n\u001b[1;32m    703\u001b[0m     \u001b[38;5;28mself\u001b[39m\u001b[38;5;241m.\u001b[39mmax_width, \u001b[38;5;28mself\u001b[39m\u001b[38;5;241m.\u001b[39mnewline,\n\u001b[1;32m    704\u001b[0m     max_seq_length\u001b[38;5;241m=\u001b[39m\u001b[38;5;28mself\u001b[39m\u001b[38;5;241m.\u001b[39mmax_seq_length,\n\u001b[1;32m    705\u001b[0m     singleton_pprinters\u001b[38;5;241m=\u001b[39m\u001b[38;5;28mself\u001b[39m\u001b[38;5;241m.\u001b[39msingleton_printers,\n\u001b[1;32m    706\u001b[0m     type_pprinters\u001b[38;5;241m=\u001b[39m\u001b[38;5;28mself\u001b[39m\u001b[38;5;241m.\u001b[39mtype_printers,\n\u001b[1;32m    707\u001b[0m     deferred_pprinters\u001b[38;5;241m=\u001b[39m\u001b[38;5;28mself\u001b[39m\u001b[38;5;241m.\u001b[39mdeferred_printers)\n\u001b[0;32m--> 708\u001b[0m \u001b[43mprinter\u001b[49m\u001b[38;5;241;43m.\u001b[39;49m\u001b[43mpretty\u001b[49m\u001b[43m(\u001b[49m\u001b[43mobj\u001b[49m\u001b[43m)\u001b[49m\n\u001b[1;32m    709\u001b[0m printer\u001b[38;5;241m.\u001b[39mflush()\n\u001b[1;32m    710\u001b[0m \u001b[38;5;28;01mreturn\u001b[39;00m stream\u001b[38;5;241m.\u001b[39mgetvalue()\n",
      "File \u001b[0;32m~/.local/lib/python3.10/site-packages/IPython/lib/pretty.py:410\u001b[0m, in \u001b[0;36mRepresentationPrinter.pretty\u001b[0;34m(self, obj)\u001b[0m\n\u001b[1;32m    407\u001b[0m                         \u001b[38;5;28;01mreturn\u001b[39;00m meth(obj, \u001b[38;5;28mself\u001b[39m, cycle)\n\u001b[1;32m    408\u001b[0m                 \u001b[38;5;28;01mif\u001b[39;00m \u001b[38;5;28mcls\u001b[39m \u001b[38;5;129;01mis\u001b[39;00m \u001b[38;5;129;01mnot\u001b[39;00m \u001b[38;5;28mobject\u001b[39m \\\n\u001b[1;32m    409\u001b[0m                         \u001b[38;5;129;01mand\u001b[39;00m \u001b[38;5;28mcallable\u001b[39m(\u001b[38;5;28mcls\u001b[39m\u001b[38;5;241m.\u001b[39m\u001b[38;5;18m__dict__\u001b[39m\u001b[38;5;241m.\u001b[39mget(\u001b[38;5;124m'\u001b[39m\u001b[38;5;124m__repr__\u001b[39m\u001b[38;5;124m'\u001b[39m)):\n\u001b[0;32m--> 410\u001b[0m                     \u001b[38;5;28;01mreturn\u001b[39;00m \u001b[43m_repr_pprint\u001b[49m\u001b[43m(\u001b[49m\u001b[43mobj\u001b[49m\u001b[43m,\u001b[49m\u001b[43m \u001b[49m\u001b[38;5;28;43mself\u001b[39;49m\u001b[43m,\u001b[49m\u001b[43m \u001b[49m\u001b[43mcycle\u001b[49m\u001b[43m)\u001b[49m\n\u001b[1;32m    412\u001b[0m     \u001b[38;5;28;01mreturn\u001b[39;00m _default_pprint(obj, \u001b[38;5;28mself\u001b[39m, cycle)\n\u001b[1;32m    413\u001b[0m \u001b[38;5;28;01mfinally\u001b[39;00m:\n",
      "File \u001b[0;32m~/.local/lib/python3.10/site-packages/IPython/lib/pretty.py:778\u001b[0m, in \u001b[0;36m_repr_pprint\u001b[0;34m(obj, p, cycle)\u001b[0m\n\u001b[1;32m    776\u001b[0m \u001b[38;5;250m\u001b[39m\u001b[38;5;124;03m\"\"\"A pprint that just redirects to the normal repr function.\"\"\"\u001b[39;00m\n\u001b[1;32m    777\u001b[0m \u001b[38;5;66;03m# Find newlines and replace them with p.break_()\u001b[39;00m\n\u001b[0;32m--> 778\u001b[0m output \u001b[38;5;241m=\u001b[39m \u001b[38;5;28;43mrepr\u001b[39;49m\u001b[43m(\u001b[49m\u001b[43mobj\u001b[49m\u001b[43m)\u001b[49m\n\u001b[1;32m    779\u001b[0m lines \u001b[38;5;241m=\u001b[39m output\u001b[38;5;241m.\u001b[39msplitlines()\n\u001b[1;32m    780\u001b[0m \u001b[38;5;28;01mwith\u001b[39;00m p\u001b[38;5;241m.\u001b[39mgroup():\n",
      "Cell \u001b[0;32mIn[24], line 15\u001b[0m, in \u001b[0;36mExplainer.__repr__\u001b[0;34m(self)\u001b[0m\n\u001b[1;32m     14\u001b[0m \u001b[38;5;28;01mdef\u001b[39;00m \u001b[38;5;21m__repr__\u001b[39m(\u001b[38;5;28mself\u001b[39m) \u001b[38;5;241m-\u001b[39m\u001b[38;5;241m>\u001b[39m \u001b[38;5;28mstr\u001b[39m:\n\u001b[0;32m---> 15\u001b[0m     \u001b[38;5;28;01mreturn\u001b[39;00m \u001b[38;5;124mf\u001b[39m\u001b[38;5;124m\"\"\"\u001b[39m\u001b[38;5;132;01m{\u001b[39;00m\u001b[38;5;28mself\u001b[39m\u001b[38;5;241m.\u001b[39m\u001b[38;5;18m__class__\u001b[39m\u001b[38;5;241m.\u001b[39m\u001b[38;5;18m__name__\u001b[39m\u001b[38;5;132;01m}\u001b[39;00m\u001b[38;5;124m (model=\u001b[39m\u001b[38;5;132;01m{\u001b[39;00mobject_repr(\u001b[38;5;28;43mself\u001b[39;49m\u001b[38;5;241;43m.\u001b[39;49m\u001b[43mmodel\u001b[49m)\u001b[38;5;132;01m}\u001b[39;00m\u001b[38;5;124m, explainer=\u001b[39m\u001b[38;5;132;01m{\u001b[39;00mobject_repr(\u001b[38;5;28mself\u001b[39m\u001b[38;5;241m.\u001b[39mexplainer)\u001b[38;5;132;01m}\u001b[39;00m\u001b[38;5;124m)\u001b[39m\n\u001b[1;32m     16\u001b[0m \u001b[38;5;124m    \u001b[39m\u001b[38;5;124m\"\"\"\u001b[39m\n",
      "\u001b[0;31mAttributeError\u001b[0m: 'DiceExplainer' object has no attribute 'model'"
     ]
    }
   ],
   "source": [
    "DiceExplainer()"
   ]
  },
  {
   "cell_type": "markdown",
   "id": "c7c89ff7-87ac-460e-88b6-0d36e2288fcf",
   "metadata": {},
   "source": [
    "## implemeting fit "
   ]
  },
  {
   "cell_type": "code",
   "execution_count": 53,
   "id": "b7b3a123-4b32-47e6-8922-0225a746ceea",
   "metadata": {},
   "outputs": [],
   "source": [
    "class DiceExplainer(Explainer):\n",
    "    def __init__(self, model=None, explainer=None):\n",
    "        self.model = model\n",
    "        self.explainer = explainer\n",
    "    def fit(data):\n",
    "        return None\n",
    "    "
   ]
  },
  {
   "cell_type": "code",
   "execution_count": 54,
   "id": "bb4804a3-911e-4053-a3c6-ae956d6f4332",
   "metadata": {},
   "outputs": [],
   "source": [
    "hi = DiceExplainer(1)"
   ]
  },
  {
   "cell_type": "code",
   "execution_count": 55,
   "id": "bb80bae9-15ed-4e27-9588-98a8b15ca269",
   "metadata": {},
   "outputs": [
    {
     "data": {
      "text/plain": [
       "DiceExplainer (model=builtins.int, explainer=None)\n",
       "        "
      ]
     },
     "execution_count": 55,
     "metadata": {},
     "output_type": "execute_result"
    }
   ],
   "source": [
    "hi"
   ]
  },
  {
   "cell_type": "markdown",
   "id": "f1651742-4bd3-42d0-8ee8-8a93ea290459",
   "metadata": {},
   "source": [
    "# Pathlib "
   ]
  },
  {
   "cell_type": "code",
   "execution_count": 61,
   "id": "c2bf32c3-c5e9-43b0-beed-161743d8db84",
   "metadata": {},
   "outputs": [],
   "source": [
    "from pathlib import Path "
   ]
  },
  {
   "cell_type": "code",
   "execution_count": 62,
   "id": "e97ca262-0337-4bc0-9939-0411a55b18b0",
   "metadata": {},
   "outputs": [],
   "source": [
    "pth = Path(\"/my/path/to/heaven.py\")"
   ]
  },
  {
   "cell_type": "code",
   "execution_count": 63,
   "id": "a5344b4e-ff50-48b7-a618-21494250f148",
   "metadata": {},
   "outputs": [
    {
     "data": {
      "text/plain": [
       "PosixPath('/my/path/to/heaven.py')"
      ]
     },
     "execution_count": 63,
     "metadata": {},
     "output_type": "execute_result"
    }
   ],
   "source": [
    "Path(pth)"
   ]
  },
  {
   "cell_type": "markdown",
   "id": "5ed827b3-f11f-4288-bd91-ca96f96dd4a9",
   "metadata": {},
   "source": [
    "# Indexing into pandas columns "
   ]
  },
  {
   "cell_type": "code",
   "execution_count": 64,
   "id": "7ce7ab8b-5c64-4de7-9792-fda70af1dc35",
   "metadata": {},
   "outputs": [],
   "source": [
    "import pandas as pd, numpy as np "
   ]
  },
  {
   "cell_type": "code",
   "execution_count": 65,
   "id": "c1ca5ff7-1282-4ec2-825f-b164571d7921",
   "metadata": {},
   "outputs": [],
   "source": [
    "df = pd.DataFrame(np.random.rand(10,10))"
   ]
  },
  {
   "cell_type": "code",
   "execution_count": 66,
   "id": "faef5ab2-35aa-4d9a-8be8-284329a405e9",
   "metadata": {},
   "outputs": [
    {
     "data": {
      "text/plain": [
       "0"
      ]
     },
     "execution_count": 66,
     "metadata": {},
     "output_type": "execute_result"
    }
   ],
   "source": [
    "df.columns[0]"
   ]
  },
  {
   "cell_type": "code",
   "execution_count": 67,
   "id": "da5a446a-7f52-4059-97e0-912e827a5d09",
   "metadata": {},
   "outputs": [
    {
     "data": {
      "text/html": [
       "<div>\n",
       "<style scoped>\n",
       "    .dataframe tbody tr th:only-of-type {\n",
       "        vertical-align: middle;\n",
       "    }\n",
       "\n",
       "    .dataframe tbody tr th {\n",
       "        vertical-align: top;\n",
       "    }\n",
       "\n",
       "    .dataframe thead th {\n",
       "        text-align: right;\n",
       "    }\n",
       "</style>\n",
       "<table border=\"1\" class=\"dataframe\">\n",
       "  <thead>\n",
       "    <tr style=\"text-align: right;\">\n",
       "      <th></th>\n",
       "      <th>0</th>\n",
       "      <th>2</th>\n",
       "      <th>3</th>\n",
       "      <th>6</th>\n",
       "      <th>7</th>\n",
       "      <th>8</th>\n",
       "      <th>9</th>\n",
       "    </tr>\n",
       "  </thead>\n",
       "  <tbody>\n",
       "    <tr>\n",
       "      <th>0</th>\n",
       "      <td>0.791725</td>\n",
       "      <td>0.568045</td>\n",
       "      <td>0.925597</td>\n",
       "      <td>0.020218</td>\n",
       "      <td>0.832620</td>\n",
       "      <td>0.778157</td>\n",
       "      <td>0.870012</td>\n",
       "    </tr>\n",
       "    <tr>\n",
       "      <th>1</th>\n",
       "      <td>0.978618</td>\n",
       "      <td>0.461479</td>\n",
       "      <td>0.780529</td>\n",
       "      <td>0.143353</td>\n",
       "      <td>0.944669</td>\n",
       "      <td>0.521848</td>\n",
       "      <td>0.414662</td>\n",
       "    </tr>\n",
       "    <tr>\n",
       "      <th>2</th>\n",
       "      <td>0.264556</td>\n",
       "      <td>0.456150</td>\n",
       "      <td>0.568434</td>\n",
       "      <td>0.612096</td>\n",
       "      <td>0.616934</td>\n",
       "      <td>0.943748</td>\n",
       "      <td>0.681820</td>\n",
       "    </tr>\n",
       "    <tr>\n",
       "      <th>3</th>\n",
       "      <td>0.359508</td>\n",
       "      <td>0.697631</td>\n",
       "      <td>0.060225</td>\n",
       "      <td>0.210383</td>\n",
       "      <td>0.128926</td>\n",
       "      <td>0.315428</td>\n",
       "      <td>0.363711</td>\n",
       "    </tr>\n",
       "    <tr>\n",
       "      <th>4</th>\n",
       "      <td>0.570197</td>\n",
       "      <td>0.988374</td>\n",
       "      <td>0.102045</td>\n",
       "      <td>0.653108</td>\n",
       "      <td>0.253292</td>\n",
       "      <td>0.466311</td>\n",
       "      <td>0.244426</td>\n",
       "    </tr>\n",
       "    <tr>\n",
       "      <th>5</th>\n",
       "      <td>0.158970</td>\n",
       "      <td>0.656330</td>\n",
       "      <td>0.138183</td>\n",
       "      <td>0.820993</td>\n",
       "      <td>0.097101</td>\n",
       "      <td>0.837945</td>\n",
       "      <td>0.096098</td>\n",
       "    </tr>\n",
       "    <tr>\n",
       "      <th>6</th>\n",
       "      <td>0.976459</td>\n",
       "      <td>0.976761</td>\n",
       "      <td>0.604846</td>\n",
       "      <td>0.282807</td>\n",
       "      <td>0.120197</td>\n",
       "      <td>0.296140</td>\n",
       "      <td>0.118728</td>\n",
       "    </tr>\n",
       "    <tr>\n",
       "      <th>7</th>\n",
       "      <td>0.317983</td>\n",
       "      <td>0.064147</td>\n",
       "      <td>0.692472</td>\n",
       "      <td>0.523248</td>\n",
       "      <td>0.093941</td>\n",
       "      <td>0.575946</td>\n",
       "      <td>0.929296</td>\n",
       "    </tr>\n",
       "    <tr>\n",
       "      <th>8</th>\n",
       "      <td>0.318569</td>\n",
       "      <td>0.131798</td>\n",
       "      <td>0.716327</td>\n",
       "      <td>0.586513</td>\n",
       "      <td>0.020108</td>\n",
       "      <td>0.828940</td>\n",
       "      <td>0.004695</td>\n",
       "    </tr>\n",
       "    <tr>\n",
       "      <th>9</th>\n",
       "      <td>0.677817</td>\n",
       "      <td>0.735194</td>\n",
       "      <td>0.962189</td>\n",
       "      <td>0.592042</td>\n",
       "      <td>0.572252</td>\n",
       "      <td>0.223082</td>\n",
       "      <td>0.952749</td>\n",
       "    </tr>\n",
       "  </tbody>\n",
       "</table>\n",
       "</div>"
      ],
      "text/plain": [
       "          0         2         3         6         7         8         9\n",
       "0  0.791725  0.568045  0.925597  0.020218  0.832620  0.778157  0.870012\n",
       "1  0.978618  0.461479  0.780529  0.143353  0.944669  0.521848  0.414662\n",
       "2  0.264556  0.456150  0.568434  0.612096  0.616934  0.943748  0.681820\n",
       "3  0.359508  0.697631  0.060225  0.210383  0.128926  0.315428  0.363711\n",
       "4  0.570197  0.988374  0.102045  0.653108  0.253292  0.466311  0.244426\n",
       "5  0.158970  0.656330  0.138183  0.820993  0.097101  0.837945  0.096098\n",
       "6  0.976459  0.976761  0.604846  0.282807  0.120197  0.296140  0.118728\n",
       "7  0.317983  0.064147  0.692472  0.523248  0.093941  0.575946  0.929296\n",
       "8  0.318569  0.131798  0.716327  0.586513  0.020108  0.828940  0.004695\n",
       "9  0.677817  0.735194  0.962189  0.592042  0.572252  0.223082  0.952749"
      ]
     },
     "execution_count": 67,
     "metadata": {},
     "output_type": "execute_result"
    }
   ],
   "source": [
    "df.drop(columns=[1,4,5])"
   ]
  },
  {
   "cell_type": "markdown",
   "id": "afe570c4-165e-4f96-a3b8-749c43ee47ed",
   "metadata": {},
   "source": [
    "# Can you reset `self` reference inside a class? "
   ]
  },
  {
   "cell_type": "code",
   "execution_count": 68,
   "id": "b82e3f9a-1edd-4822-933b-61deaf858388",
   "metadata": {},
   "outputs": [],
   "source": [
    "class MyClass():\n",
    "    def __init__(self, x: int):\n",
    "        self.x = x\n",
    "    def __repr__(self):\n",
    "        return str(self.x)\n",
    "    def reset(self, object):\n",
    "        self = object "
   ]
  },
  {
   "cell_type": "code",
   "execution_count": 69,
   "id": "2ff2e581-cd89-414d-aff9-fd9bf4d4c292",
   "metadata": {},
   "outputs": [],
   "source": [
    "c = MyClass(3)\n",
    "c.reset(MyClass(4))"
   ]
  },
  {
   "cell_type": "code",
   "execution_count": 70,
   "id": "1ac9fc06-f80e-43c8-9c50-55168eeb1b15",
   "metadata": {},
   "outputs": [
    {
     "data": {
      "text/plain": [
       "3"
      ]
     },
     "execution_count": 70,
     "metadata": {},
     "output_type": "execute_result"
    }
   ],
   "source": [
    "c"
   ]
  },
  {
   "cell_type": "markdown",
   "id": "db7dbd7a-b2e3-4a3a-950b-b9195ca8f89f",
   "metadata": {},
   "source": [
    "Seems you can't naively reassign self, but python doesn't complain either "
   ]
  },
  {
   "cell_type": "markdown",
   "id": "f67e7aef-a5e2-4f34-a141-cbda8c4c5912",
   "metadata": {},
   "source": [
    "# Pandas indexes "
   ]
  },
  {
   "cell_type": "code",
   "execution_count": null,
   "id": "3f425251-d6bc-48c1-a09e-1606d15f68ec",
   "metadata": {},
   "outputs": [],
   "source": []
  },
  {
   "cell_type": "code",
   "execution_count": 71,
   "id": "8c5a462e-fd5c-4857-b05c-4a240fd24e5f",
   "metadata": {},
   "outputs": [
    {
     "data": {
      "text/html": [
       "<div>\n",
       "<style scoped>\n",
       "    .dataframe tbody tr th:only-of-type {\n",
       "        vertical-align: middle;\n",
       "    }\n",
       "\n",
       "    .dataframe tbody tr th {\n",
       "        vertical-align: top;\n",
       "    }\n",
       "\n",
       "    .dataframe thead th {\n",
       "        text-align: right;\n",
       "    }\n",
       "</style>\n",
       "<table border=\"1\" class=\"dataframe\">\n",
       "  <thead>\n",
       "    <tr style=\"text-align: right;\">\n",
       "      <th></th>\n",
       "      <th>0</th>\n",
       "      <th>1</th>\n",
       "      <th>2</th>\n",
       "      <th>3</th>\n",
       "      <th>4</th>\n",
       "      <th>5</th>\n",
       "      <th>6</th>\n",
       "      <th>7</th>\n",
       "      <th>8</th>\n",
       "      <th>9</th>\n",
       "    </tr>\n",
       "  </thead>\n",
       "  <tbody>\n",
       "    <tr>\n",
       "      <th>0</th>\n",
       "      <td>0.447125</td>\n",
       "      <td>0.846409</td>\n",
       "      <td>0.699479</td>\n",
       "      <td>0.297437</td>\n",
       "      <td>0.813798</td>\n",
       "      <td>0.396506</td>\n",
       "      <td>0.881103</td>\n",
       "      <td>0.581273</td>\n",
       "      <td>0.881735</td>\n",
       "      <td>0.692532</td>\n",
       "    </tr>\n",
       "    <tr>\n",
       "      <th>2</th>\n",
       "      <td>0.725254</td>\n",
       "      <td>0.501324</td>\n",
       "      <td>0.956084</td>\n",
       "      <td>0.643990</td>\n",
       "      <td>0.423855</td>\n",
       "      <td>0.606393</td>\n",
       "      <td>0.019193</td>\n",
       "      <td>0.301575</td>\n",
       "      <td>0.660174</td>\n",
       "      <td>0.290078</td>\n",
       "    </tr>\n",
       "    <tr>\n",
       "      <th>4</th>\n",
       "      <td>0.618015</td>\n",
       "      <td>0.428769</td>\n",
       "      <td>0.135474</td>\n",
       "      <td>0.298282</td>\n",
       "      <td>0.569965</td>\n",
       "      <td>0.590873</td>\n",
       "      <td>0.574325</td>\n",
       "      <td>0.653201</td>\n",
       "      <td>0.652103</td>\n",
       "      <td>0.431418</td>\n",
       "    </tr>\n",
       "    <tr>\n",
       "      <th>6</th>\n",
       "      <td>0.896547</td>\n",
       "      <td>0.367562</td>\n",
       "      <td>0.435865</td>\n",
       "      <td>0.891923</td>\n",
       "      <td>0.806194</td>\n",
       "      <td>0.703889</td>\n",
       "      <td>0.100227</td>\n",
       "      <td>0.919483</td>\n",
       "      <td>0.714241</td>\n",
       "      <td>0.998847</td>\n",
       "    </tr>\n",
       "    <tr>\n",
       "      <th>8</th>\n",
       "      <td>0.149448</td>\n",
       "      <td>0.868126</td>\n",
       "      <td>0.162493</td>\n",
       "      <td>0.615560</td>\n",
       "      <td>0.123820</td>\n",
       "      <td>0.848008</td>\n",
       "      <td>0.807319</td>\n",
       "      <td>0.569101</td>\n",
       "      <td>0.407183</td>\n",
       "      <td>0.069167</td>\n",
       "    </tr>\n",
       "    <tr>\n",
       "      <th>10</th>\n",
       "      <td>0.697429</td>\n",
       "      <td>0.453543</td>\n",
       "      <td>0.722056</td>\n",
       "      <td>0.866382</td>\n",
       "      <td>0.975522</td>\n",
       "      <td>0.855803</td>\n",
       "      <td>0.011714</td>\n",
       "      <td>0.359978</td>\n",
       "      <td>0.729991</td>\n",
       "      <td>0.171630</td>\n",
       "    </tr>\n",
       "    <tr>\n",
       "      <th>12</th>\n",
       "      <td>0.521037</td>\n",
       "      <td>0.054338</td>\n",
       "      <td>0.199997</td>\n",
       "      <td>0.018522</td>\n",
       "      <td>0.793698</td>\n",
       "      <td>0.223925</td>\n",
       "      <td>0.345352</td>\n",
       "      <td>0.928081</td>\n",
       "      <td>0.704414</td>\n",
       "      <td>0.031839</td>\n",
       "    </tr>\n",
       "    <tr>\n",
       "      <th>14</th>\n",
       "      <td>0.164694</td>\n",
       "      <td>0.621478</td>\n",
       "      <td>0.577229</td>\n",
       "      <td>0.237893</td>\n",
       "      <td>0.934214</td>\n",
       "      <td>0.613966</td>\n",
       "      <td>0.535633</td>\n",
       "      <td>0.589910</td>\n",
       "      <td>0.730122</td>\n",
       "      <td>0.311945</td>\n",
       "    </tr>\n",
       "    <tr>\n",
       "      <th>16</th>\n",
       "      <td>0.398221</td>\n",
       "      <td>0.209844</td>\n",
       "      <td>0.186193</td>\n",
       "      <td>0.944372</td>\n",
       "      <td>0.739551</td>\n",
       "      <td>0.490459</td>\n",
       "      <td>0.227415</td>\n",
       "      <td>0.254356</td>\n",
       "      <td>0.058029</td>\n",
       "      <td>0.434417</td>\n",
       "    </tr>\n",
       "    <tr>\n",
       "      <th>18</th>\n",
       "      <td>0.311796</td>\n",
       "      <td>0.696343</td>\n",
       "      <td>0.377752</td>\n",
       "      <td>0.179604</td>\n",
       "      <td>0.024679</td>\n",
       "      <td>0.067250</td>\n",
       "      <td>0.679393</td>\n",
       "      <td>0.453697</td>\n",
       "      <td>0.536579</td>\n",
       "      <td>0.896671</td>\n",
       "    </tr>\n",
       "  </tbody>\n",
       "</table>\n",
       "</div>"
      ],
      "text/plain": [
       "           0         1         2         3         4         5         6  \\\n",
       "0   0.447125  0.846409  0.699479  0.297437  0.813798  0.396506  0.881103   \n",
       "2   0.725254  0.501324  0.956084  0.643990  0.423855  0.606393  0.019193   \n",
       "4   0.618015  0.428769  0.135474  0.298282  0.569965  0.590873  0.574325   \n",
       "6   0.896547  0.367562  0.435865  0.891923  0.806194  0.703889  0.100227   \n",
       "8   0.149448  0.868126  0.162493  0.615560  0.123820  0.848008  0.807319   \n",
       "10  0.697429  0.453543  0.722056  0.866382  0.975522  0.855803  0.011714   \n",
       "12  0.521037  0.054338  0.199997  0.018522  0.793698  0.223925  0.345352   \n",
       "14  0.164694  0.621478  0.577229  0.237893  0.934214  0.613966  0.535633   \n",
       "16  0.398221  0.209844  0.186193  0.944372  0.739551  0.490459  0.227415   \n",
       "18  0.311796  0.696343  0.377752  0.179604  0.024679  0.067250  0.679393   \n",
       "\n",
       "           7         8         9  \n",
       "0   0.581273  0.881735  0.692532  \n",
       "2   0.301575  0.660174  0.290078  \n",
       "4   0.653201  0.652103  0.431418  \n",
       "6   0.919483  0.714241  0.998847  \n",
       "8   0.569101  0.407183  0.069167  \n",
       "10  0.359978  0.729991  0.171630  \n",
       "12  0.928081  0.704414  0.031839  \n",
       "14  0.589910  0.730122  0.311945  \n",
       "16  0.254356  0.058029  0.434417  \n",
       "18  0.453697  0.536579  0.896671  "
      ]
     },
     "execution_count": 71,
     "metadata": {},
     "output_type": "execute_result"
    }
   ],
   "source": [
    "df = pd.DataFrame(np.random.rand(10,10), index = list(range(0,20,2)))\n",
    "df"
   ]
  },
  {
   "cell_type": "code",
   "execution_count": 72,
   "id": "0a508185-2075-4022-8ffa-49da9a2c4874",
   "metadata": {},
   "outputs": [
    {
     "data": {
      "text/plain": [
       "Index([1, 3, 7, 5, 4], dtype='int64')"
      ]
     },
     "execution_count": 72,
     "metadata": {},
     "output_type": "execute_result"
    }
   ],
   "source": [
    "df.reset_index().sample(5).index"
   ]
  },
  {
   "cell_type": "markdown",
   "id": "6ea1d5ae-168f-484d-8c20-0ca1a82080d8",
   "metadata": {},
   "source": [
    "# Pathlib methods \n",
    "what glorious methods are exposed? "
   ]
  },
  {
   "cell_type": "code",
   "execution_count": 73,
   "id": "1ae3882c-f342-4605-b31c-3e2412ab8a88",
   "metadata": {},
   "outputs": [],
   "source": [
    "from pathlib import Path \n",
    "import os"
   ]
  },
  {
   "cell_type": "code",
   "execution_count": 74,
   "id": "69c4e9a4-40c9-4c3c-9e72-65574c62ce3b",
   "metadata": {},
   "outputs": [],
   "source": [
    "path = Path(\"/home/mchristos/code\")"
   ]
  },
  {
   "cell_type": "code",
   "execution_count": 75,
   "id": "c23b041d-aee5-4f9d-9905-62980bbe6bea",
   "metadata": {},
   "outputs": [
    {
     "data": {
      "text/plain": [
       "[]"
      ]
     },
     "execution_count": 75,
     "metadata": {},
     "output_type": "execute_result"
    }
   ],
   "source": [
    "files = list(path.glob(\"*.py\")); files "
   ]
  },
  {
   "cell_type": "code",
   "execution_count": 76,
   "id": "586bcc32-36f5-4a70-bd0e-21262ee84d52",
   "metadata": {},
   "outputs": [
    {
     "ename": "IndexError",
     "evalue": "list index out of range",
     "output_type": "error",
     "traceback": [
      "\u001b[0;31m---------------------------------------------------------------------------\u001b[0m",
      "\u001b[0;31mIndexError\u001b[0m                                Traceback (most recent call last)",
      "Cell \u001b[0;32mIn[76], line 1\u001b[0m\n\u001b[0;32m----> 1\u001b[0m os\u001b[38;5;241m.\u001b[39mremove(\u001b[43mfiles\u001b[49m\u001b[43m[\u001b[49m\u001b[38;5;241;43m0\u001b[39;49m\u001b[43m]\u001b[49m)\n",
      "\u001b[0;31mIndexError\u001b[0m: list index out of range"
     ]
    }
   ],
   "source": [
    "os.remove(files[0])"
   ]
  },
  {
   "cell_type": "code",
   "execution_count": 77,
   "id": "9536fcd3-2872-44dc-a361-6a626deecc89",
   "metadata": {},
   "outputs": [
    {
     "data": {
      "text/plain": [
       "[]"
      ]
     },
     "execution_count": 77,
     "metadata": {},
     "output_type": "execute_result"
    }
   ],
   "source": [
    "files = list(path.glob(\"*.py\")); files "
   ]
  },
  {
   "cell_type": "markdown",
   "id": "b3dbf604-cf3b-4cd1-816b-2174abb9ff4f",
   "metadata": {},
   "source": [
    "# What does `x[a::b]` do? "
   ]
  },
  {
   "cell_type": "code",
   "execution_count": 78,
   "id": "e58d7e00-f23a-4200-aa5d-ea94b294e585",
   "metadata": {},
   "outputs": [
    {
     "name": "stdout",
     "output_type": "stream",
     "text": [
      "['chris', 'john']\n",
      "['michael', 'sizwe']\n",
      "['daniel', 'monwabisi']\n",
      "['chrisA']\n"
     ]
    }
   ],
   "source": [
    "unique = [\"chris\", \"michael\", \"daniel\", \"chrisA\", \"john\", \"sizwe\", \"monwabisi\"]\n",
    "n_splits = 4\n",
    "for i in range(n_splits):\n",
    "    test_vals = unique[i :: n_splits]\n",
    "    print(test_vals)"
   ]
  },
  {
   "cell_type": "code",
   "execution_count": 79,
   "id": "a1a90ff8-a8c2-47c1-9d34-e61876b3a735",
   "metadata": {},
   "outputs": [
    {
     "data": {
      "text/plain": [
       "['chrisA']"
      ]
     },
     "execution_count": 79,
     "metadata": {},
     "output_type": "execute_result"
    }
   ],
   "source": [
    "unique[3::4]"
   ]
  },
  {
   "cell_type": "code",
   "execution_count": 80,
   "id": "6700a68d-3ce9-4ccb-8622-db0cd66e1739",
   "metadata": {},
   "outputs": [],
   "source": [
    "import numpy as np \n",
    "class ColumnSplitter:\n",
    "    \"\"\"Split by the unique values in a column for cross validation\"\"\"\n",
    "\n",
    "    def __init__(self, column: pd.Series, n_splits: int, shuffle: bool = False, random_state: int | None = None):\n",
    "        \"\"\"Split by unique values in a column for cross validation. Independent sets of the unique\n",
    "        values will be generated for train & test sets.\n",
    "\n",
    "        Parameters\n",
    "        ----------\n",
    "        column : pd.Series\n",
    "            The column to use for splitting\n",
    "        n_splits : int\n",
    "            Number of train/test splits\n",
    "        shuffle : bool\n",
    "            Whether to shuffle the list of unique values before\n",
    "            splitting\n",
    "        random_state : int, optional\n",
    "            Seed to use for shuffling if shuffle=True\n",
    "        \"\"\"\n",
    "        if n_splits < 2:\n",
    "            raise ValueError(f\"n_splits must be >= 2, got {n_splits}\")\n",
    "        self.column = column\n",
    "        self.n_splits = n_splits\n",
    "        self.shuffle = shuffle\n",
    "        self.random_state = random_state\n",
    "\n",
    "    def __iter__(self):\n",
    "        \"\"\"Iterate over train/test splits, returning the indices for each.\"\"\"\n",
    "        unique = self.column.unique()\n",
    "        if self.shuffle:\n",
    "            rng = np.random.default_rng(self.random_state)\n",
    "            rng.shuffle(unique)\n",
    "        for i in range(self.n_splits):\n",
    "            test_vals = unique[i :: self.n_splits]\n",
    "            test_mask = self.column.isin(test_vals)\n",
    "            test_indices = self.column[test_mask].index\n",
    "            train_indices = self.column[~test_mask].index\n",
    "            yield train_indices, test_indices\n"
   ]
  },
  {
   "cell_type": "markdown",
   "id": "db4bf073-e424-4b40-8ded-ec0772bc1fa0",
   "metadata": {},
   "source": [
    "# cloudpathlib / pathlib `Path` file endings "
   ]
  },
  {
   "cell_type": "code",
   "execution_count": 81,
   "id": "10428d4c-30b0-420e-9e28-71fd683fdb82",
   "metadata": {},
   "outputs": [],
   "source": [
    "# !pip install cloudpathlib "
   ]
  },
  {
   "cell_type": "code",
   "execution_count": 82,
   "id": "0ae32b9e-0ff9-4f52-991d-532ac7c99664",
   "metadata": {},
   "outputs": [],
   "source": [
    "from cloudpathlib import AnyPath \n",
    "from pathlib import Path"
   ]
  },
  {
   "cell_type": "code",
   "execution_count": 83,
   "id": "a75c0129-d819-4a71-b8f3-3e8a9408efe2",
   "metadata": {},
   "outputs": [],
   "source": [
    "path = AnyPath(\"DiCE/docs/dice_ml.data_interfaces.html\")"
   ]
  },
  {
   "cell_type": "markdown",
   "id": "dfb790da-6b4d-402d-b726-e020d5b29206",
   "metadata": {},
   "source": [
    "file name "
   ]
  },
  {
   "cell_type": "code",
   "execution_count": 84,
   "id": "93758a7a-797c-4d11-815f-8dc054ee43f9",
   "metadata": {},
   "outputs": [
    {
     "data": {
      "text/plain": [
       "'dice_ml.data_interfaces.html'"
      ]
     },
     "execution_count": 84,
     "metadata": {},
     "output_type": "execute_result"
    }
   ],
   "source": [
    "path.name"
   ]
  },
  {
   "cell_type": "markdown",
   "id": "af4121d5-3ec1-4494-a513-df5f52cb1dc7",
   "metadata": {},
   "source": [
    "file extension"
   ]
  },
  {
   "cell_type": "code",
   "execution_count": 85,
   "id": "399cf5c5-904d-4f4d-a5d3-cc09be7bbedc",
   "metadata": {},
   "outputs": [
    {
     "data": {
      "text/plain": [
       "'.html'"
      ]
     },
     "execution_count": 85,
     "metadata": {},
     "output_type": "execute_result"
    }
   ],
   "source": [
    "path.suffix"
   ]
  },
  {
   "cell_type": "code",
   "execution_count": 86,
   "id": "c760b65f-2ab9-4bb4-a66a-df8768e6d20a",
   "metadata": {},
   "outputs": [],
   "source": [
    "path = Path(\"DiCE/docs/dice_ml.data_interfaces.html\")"
   ]
  },
  {
   "cell_type": "code",
   "execution_count": 87,
   "id": "a0e0dc96-fb0e-48b1-a82f-57efd718219e",
   "metadata": {},
   "outputs": [
    {
     "data": {
      "text/plain": [
       "'.html'"
      ]
     },
     "execution_count": 87,
     "metadata": {},
     "output_type": "execute_result"
    }
   ],
   "source": [
    "path.suffix"
   ]
  },
  {
   "cell_type": "code",
   "execution_count": 88,
   "id": "c355bdd9-2d1b-42d0-be21-6a160e4aac7c",
   "metadata": {},
   "outputs": [],
   "source": [
    "notadir = Path(\"removeme\")"
   ]
  },
  {
   "cell_type": "code",
   "execution_count": 89,
   "id": "94208ceb-e13d-4085-8811-cd1171988686",
   "metadata": {},
   "outputs": [
    {
     "name": "stdout",
     "output_type": "stream",
     "text": [
      "None\n"
     ]
    }
   ],
   "source": [
    "res = notadir.mkdir(exist_ok=True)\n",
    "print(res)"
   ]
  },
  {
   "cell_type": "markdown",
   "id": "65f6268c-a10b-4a2c-a5c3-6e5ec4dcd072",
   "metadata": {},
   "source": [
    "Absolute paths "
   ]
  },
  {
   "cell_type": "code",
   "execution_count": 90,
   "id": "105eebd9-0de1-46da-a606-c01e6b2d76cd",
   "metadata": {},
   "outputs": [
    {
     "data": {
      "text/plain": [
       "PosixPath('/home/mchristos/code/removeme')"
      ]
     },
     "execution_count": 90,
     "metadata": {},
     "output_type": "execute_result"
    }
   ],
   "source": [
    "notadir.absolute()"
   ]
  },
  {
   "cell_type": "markdown",
   "id": "29724ae1-4533-43ba-81a0-973e81fab81e",
   "metadata": {},
   "source": [
    "parent directories "
   ]
  },
  {
   "cell_type": "code",
   "execution_count": 91,
   "id": "c2f122a5-12e5-42be-8b7e-e68c9eff29f5",
   "metadata": {},
   "outputs": [
    {
     "data": {
      "text/plain": [
       "PosixPath('/home/mchristos/code')"
      ]
     },
     "execution_count": 91,
     "metadata": {},
     "output_type": "execute_result"
    }
   ],
   "source": [
    "notadir.parent.absolute()"
   ]
  },
  {
   "cell_type": "code",
   "execution_count": 92,
   "id": "cd4e7ef3-4ba3-486c-afe3-1a855d934d6c",
   "metadata": {},
   "outputs": [
    {
     "data": {
      "text/plain": [
       "True"
      ]
     },
     "execution_count": 92,
     "metadata": {},
     "output_type": "execute_result"
    }
   ],
   "source": [
    "notadir.exists()"
   ]
  },
  {
   "cell_type": "markdown",
   "id": "c63e2b6f-d5b7-4680-9246-4c24307d9149",
   "metadata": {},
   "source": [
    "# Autoreload "
   ]
  },
  {
   "cell_type": "code",
   "execution_count": 93,
   "id": "c41295fe-a511-46f3-afa9-7cd63a0d2e5f",
   "metadata": {},
   "outputs": [],
   "source": [
    "%reload_ext autoreload\n",
    "%autoreload 2"
   ]
  },
  {
   "cell_type": "markdown",
   "id": "b2ea953d-9e91-4d92-afdd-f5480d0ac149",
   "metadata": {},
   "source": [
    "# Generating datetimes "
   ]
  },
  {
   "cell_type": "code",
   "execution_count": 94,
   "id": "2567032a-89a4-465b-87d5-da8296410e4d",
   "metadata": {},
   "outputs": [],
   "source": [
    "import pandas as pd, numpy as np "
   ]
  },
  {
   "cell_type": "code",
   "execution_count": 95,
   "id": "4bd8e5d0-ed35-4d80-b6f5-504f584a49af",
   "metadata": {},
   "outputs": [],
   "source": [
    "n_examples = 10\n",
    "n_dates = 2\n",
    "\n",
    "generator = np.random.default_rng()\n",
    "start_timestamp = pd.Timestamp('2000-01-01 00:00:00').timestamp()\n",
    "end_timestamp = pd.Timestamp('2020-12-31 23:59:59').timestamp()\n",
    "random_timestamps = generator.integers(start_timestamp, end_timestamp, (n_examples, n_dates))\n",
    "random_datetimes = pd.to_datetime(random_timestamps, unit='s')"
   ]
  },
  {
   "cell_type": "code",
   "execution_count": 96,
   "id": "38f8cddd-7851-47de-867d-025e7dbe1b7c",
   "metadata": {},
   "outputs": [
    {
     "data": {
      "text/plain": [
       "[('2000-10-21 09:56:41', '2008-12-07 14:44:36'),\n",
       " ('2013-01-29 19:20:23', '2005-07-12 10:34:12'),\n",
       " ('2015-03-10 11:34:47', '2006-06-02 14:37:31'),\n",
       " ('2014-04-03 06:44:35', '2015-05-28 04:21:37'),\n",
       " ('2007-11-08 16:52:30', '2014-12-08 15:08:41'),\n",
       " ('2001-05-03 22:28:28', '2013-11-14 16:14:37'),\n",
       " ('2014-06-24 13:13:44', '2002-08-01 09:57:45'),\n",
       " ('2010-11-15 21:30:38', '2016-11-15 20:41:27'),\n",
       " ('2006-01-21 07:52:15', '2002-07-21 19:57:06'),\n",
       " ('2005-09-29 09:22:11', '2020-03-22 15:21:00')]"
      ]
     },
     "execution_count": 96,
     "metadata": {},
     "output_type": "execute_result"
    }
   ],
   "source": [
    "list(random_datetimes.astype(\"str\"))"
   ]
  },
  {
   "cell_type": "code",
   "execution_count": 97,
   "id": "7c2e0145-ebfe-4f86-9425-bfe9853024f1",
   "metadata": {},
   "outputs": [
    {
     "data": {
      "text/html": [
       "<div>\n",
       "<style scoped>\n",
       "    .dataframe tbody tr th:only-of-type {\n",
       "        vertical-align: middle;\n",
       "    }\n",
       "\n",
       "    .dataframe tbody tr th {\n",
       "        vertical-align: top;\n",
       "    }\n",
       "\n",
       "    .dataframe thead th {\n",
       "        text-align: right;\n",
       "    }\n",
       "</style>\n",
       "<table border=\"1\" class=\"dataframe\">\n",
       "  <thead>\n",
       "    <tr style=\"text-align: right;\">\n",
       "      <th></th>\n",
       "      <th>0</th>\n",
       "      <th>1</th>\n",
       "    </tr>\n",
       "  </thead>\n",
       "  <tbody>\n",
       "    <tr>\n",
       "      <th>0</th>\n",
       "      <td>2000-10-21 09:56:41</td>\n",
       "      <td>2008-12-07 14:44:36</td>\n",
       "    </tr>\n",
       "    <tr>\n",
       "      <th>1</th>\n",
       "      <td>2013-01-29 19:20:23</td>\n",
       "      <td>2005-07-12 10:34:12</td>\n",
       "    </tr>\n",
       "    <tr>\n",
       "      <th>2</th>\n",
       "      <td>2015-03-10 11:34:47</td>\n",
       "      <td>2006-06-02 14:37:31</td>\n",
       "    </tr>\n",
       "    <tr>\n",
       "      <th>3</th>\n",
       "      <td>2014-04-03 06:44:35</td>\n",
       "      <td>2015-05-28 04:21:37</td>\n",
       "    </tr>\n",
       "    <tr>\n",
       "      <th>4</th>\n",
       "      <td>2007-11-08 16:52:30</td>\n",
       "      <td>2014-12-08 15:08:41</td>\n",
       "    </tr>\n",
       "    <tr>\n",
       "      <th>5</th>\n",
       "      <td>2001-05-03 22:28:28</td>\n",
       "      <td>2013-11-14 16:14:37</td>\n",
       "    </tr>\n",
       "    <tr>\n",
       "      <th>6</th>\n",
       "      <td>2014-06-24 13:13:44</td>\n",
       "      <td>2002-08-01 09:57:45</td>\n",
       "    </tr>\n",
       "    <tr>\n",
       "      <th>7</th>\n",
       "      <td>2010-11-15 21:30:38</td>\n",
       "      <td>2016-11-15 20:41:27</td>\n",
       "    </tr>\n",
       "    <tr>\n",
       "      <th>8</th>\n",
       "      <td>2006-01-21 07:52:15</td>\n",
       "      <td>2002-07-21 19:57:06</td>\n",
       "    </tr>\n",
       "    <tr>\n",
       "      <th>9</th>\n",
       "      <td>2005-09-29 09:22:11</td>\n",
       "      <td>2020-03-22 15:21:00</td>\n",
       "    </tr>\n",
       "  </tbody>\n",
       "</table>\n",
       "</div>"
      ],
      "text/plain": [
       "                    0                   1\n",
       "0 2000-10-21 09:56:41 2008-12-07 14:44:36\n",
       "1 2013-01-29 19:20:23 2005-07-12 10:34:12\n",
       "2 2015-03-10 11:34:47 2006-06-02 14:37:31\n",
       "3 2014-04-03 06:44:35 2015-05-28 04:21:37\n",
       "4 2007-11-08 16:52:30 2014-12-08 15:08:41\n",
       "5 2001-05-03 22:28:28 2013-11-14 16:14:37\n",
       "6 2014-06-24 13:13:44 2002-08-01 09:57:45\n",
       "7 2010-11-15 21:30:38 2016-11-15 20:41:27\n",
       "8 2006-01-21 07:52:15 2002-07-21 19:57:06\n",
       "9 2005-09-29 09:22:11 2020-03-22 15:21:00"
      ]
     },
     "execution_count": 97,
     "metadata": {},
     "output_type": "execute_result"
    }
   ],
   "source": [
    "pd.DataFrame(random_datetimes)"
   ]
  },
  {
   "cell_type": "code",
   "execution_count": 98,
   "id": "3d3d37de-2bb0-4c75-ae97-1757ee310483",
   "metadata": {},
   "outputs": [
    {
     "data": {
      "text/plain": [
       "(10, 2)"
      ]
     },
     "execution_count": 98,
     "metadata": {},
     "output_type": "execute_result"
    }
   ],
   "source": [
    "rand_timestamps = generator.integers(\n",
    "    pd.Timestamp(\"2000-01-01 00:00:00\").timestamp(),\n",
    "    pd.Timestamp(\"2020-12-31 23:59:59\").timestamp(),\n",
    "    (n_examples, n_dates),\n",
    ")\n",
    "dt_features = pd.DataFrame(\n",
    "    pd.to_datetime(rand_timestamps, unit=\"s\"),\n",
    "    columns=[f\"date_{i}\" for i in range(n_dates)],\n",
    ")\n",
    "dt_features.shape"
   ]
  },
  {
   "cell_type": "markdown",
   "id": "05f0ccc4-6a31-400c-97ca-29402bdf478a",
   "metadata": {},
   "source": [
    "# Generating ids (permutations) "
   ]
  },
  {
   "cell_type": "code",
   "execution_count": 99,
   "id": "16642766-c1ec-4ae0-aa7d-7be9e4726a81",
   "metadata": {},
   "outputs": [],
   "source": [
    "import numpy as np "
   ]
  },
  {
   "cell_type": "code",
   "execution_count": 100,
   "id": "81fc83a5-e81d-492b-8172-ac9445400630",
   "metadata": {},
   "outputs": [
    {
     "data": {
      "text/plain": [
       "array([[6, 1, 9, 3, 0, 2, 8, 4, 5, 7],\n",
       "       [6, 8, 7, 5, 0, 1, 4, 3, 2, 9],\n",
       "       [6, 7, 9, 3, 0, 4, 5, 8, 2, 1]])"
      ]
     },
     "execution_count": 100,
     "metadata": {},
     "output_type": "execute_result"
    }
   ],
   "source": [
    "generator = np.random.default_rng()\n",
    "np.array([generator.permutation(10) for _ in range(3)])"
   ]
  },
  {
   "cell_type": "code",
   "execution_count": 101,
   "id": "bc6d35fa-275e-4d3f-9b03-5b496ed90b90",
   "metadata": {},
   "outputs": [
    {
     "data": {
      "text/html": [
       "<div>\n",
       "<style scoped>\n",
       "    .dataframe tbody tr th:only-of-type {\n",
       "        vertical-align: middle;\n",
       "    }\n",
       "\n",
       "    .dataframe tbody tr th {\n",
       "        vertical-align: top;\n",
       "    }\n",
       "\n",
       "    .dataframe thead th {\n",
       "        text-align: right;\n",
       "    }\n",
       "</style>\n",
       "<table border=\"1\" class=\"dataframe\">\n",
       "  <thead>\n",
       "    <tr style=\"text-align: right;\">\n",
       "      <th></th>\n",
       "      <th>id_0</th>\n",
       "      <th>id_1</th>\n",
       "      <th>id_2</th>\n",
       "      <th>id_3</th>\n",
       "      <th>id_4</th>\n",
       "    </tr>\n",
       "  </thead>\n",
       "  <tbody>\n",
       "    <tr>\n",
       "      <th>0</th>\n",
       "      <td>5</td>\n",
       "      <td>5</td>\n",
       "      <td>2</td>\n",
       "      <td>2</td>\n",
       "      <td>2</td>\n",
       "    </tr>\n",
       "    <tr>\n",
       "      <th>1</th>\n",
       "      <td>1</td>\n",
       "      <td>4</td>\n",
       "      <td>0</td>\n",
       "      <td>1</td>\n",
       "      <td>1</td>\n",
       "    </tr>\n",
       "    <tr>\n",
       "      <th>2</th>\n",
       "      <td>9</td>\n",
       "      <td>8</td>\n",
       "      <td>7</td>\n",
       "      <td>6</td>\n",
       "      <td>4</td>\n",
       "    </tr>\n",
       "    <tr>\n",
       "      <th>3</th>\n",
       "      <td>3</td>\n",
       "      <td>3</td>\n",
       "      <td>9</td>\n",
       "      <td>5</td>\n",
       "      <td>7</td>\n",
       "    </tr>\n",
       "    <tr>\n",
       "      <th>4</th>\n",
       "      <td>4</td>\n",
       "      <td>2</td>\n",
       "      <td>1</td>\n",
       "      <td>0</td>\n",
       "      <td>9</td>\n",
       "    </tr>\n",
       "    <tr>\n",
       "      <th>5</th>\n",
       "      <td>0</td>\n",
       "      <td>7</td>\n",
       "      <td>4</td>\n",
       "      <td>4</td>\n",
       "      <td>6</td>\n",
       "    </tr>\n",
       "    <tr>\n",
       "      <th>6</th>\n",
       "      <td>7</td>\n",
       "      <td>0</td>\n",
       "      <td>6</td>\n",
       "      <td>3</td>\n",
       "      <td>5</td>\n",
       "    </tr>\n",
       "    <tr>\n",
       "      <th>7</th>\n",
       "      <td>6</td>\n",
       "      <td>6</td>\n",
       "      <td>3</td>\n",
       "      <td>9</td>\n",
       "      <td>8</td>\n",
       "    </tr>\n",
       "    <tr>\n",
       "      <th>8</th>\n",
       "      <td>2</td>\n",
       "      <td>1</td>\n",
       "      <td>8</td>\n",
       "      <td>8</td>\n",
       "      <td>3</td>\n",
       "    </tr>\n",
       "    <tr>\n",
       "      <th>9</th>\n",
       "      <td>8</td>\n",
       "      <td>9</td>\n",
       "      <td>5</td>\n",
       "      <td>7</td>\n",
       "      <td>0</td>\n",
       "    </tr>\n",
       "  </tbody>\n",
       "</table>\n",
       "</div>"
      ],
      "text/plain": [
       "   id_0  id_1  id_2  id_3  id_4\n",
       "0     5     5     2     2     2\n",
       "1     1     4     0     1     1\n",
       "2     9     8     7     6     4\n",
       "3     3     3     9     5     7\n",
       "4     4     2     1     0     9\n",
       "5     0     7     4     4     6\n",
       "6     7     0     6     3     5\n",
       "7     6     6     3     9     8\n",
       "8     2     1     8     8     3\n",
       "9     8     9     5     7     0"
      ]
     },
     "execution_count": 101,
     "metadata": {},
     "output_type": "execute_result"
    }
   ],
   "source": [
    "n_ids=5\n",
    "n_examples=10\n",
    "id_features =  pd.DataFrame(\n",
    "    np.array([generator.permutation(n_examples) for _ in range(n_ids)]).T,\n",
    "    columns=[f\"id_{i}\" for i in range(n_ids)],\n",
    ")\n",
    "id_features"
   ]
  },
  {
   "cell_type": "markdown",
   "id": "91cbd09e-f79b-4236-8526-864599537564",
   "metadata": {},
   "source": [
    "# pandas masks 😷"
   ]
  },
  {
   "cell_type": "code",
   "execution_count": 102,
   "id": "17c67f7b-b33a-48d1-973f-dd1a084bafa9",
   "metadata": {},
   "outputs": [
    {
     "data": {
      "text/html": [
       "<div>\n",
       "<style scoped>\n",
       "    .dataframe tbody tr th:only-of-type {\n",
       "        vertical-align: middle;\n",
       "    }\n",
       "\n",
       "    .dataframe tbody tr th {\n",
       "        vertical-align: top;\n",
       "    }\n",
       "\n",
       "    .dataframe thead th {\n",
       "        text-align: right;\n",
       "    }\n",
       "</style>\n",
       "<table border=\"1\" class=\"dataframe\">\n",
       "  <thead>\n",
       "    <tr style=\"text-align: right;\">\n",
       "      <th></th>\n",
       "      <th>0</th>\n",
       "      <th>1</th>\n",
       "      <th>2</th>\n",
       "    </tr>\n",
       "  </thead>\n",
       "  <tbody>\n",
       "    <tr>\n",
       "      <th>0</th>\n",
       "      <td>7</td>\n",
       "      <td>0</td>\n",
       "      <td>3</td>\n",
       "    </tr>\n",
       "    <tr>\n",
       "      <th>1</th>\n",
       "      <td>9</td>\n",
       "      <td>2</td>\n",
       "      <td>4</td>\n",
       "    </tr>\n",
       "    <tr>\n",
       "      <th>2</th>\n",
       "      <td>5</td>\n",
       "      <td>5</td>\n",
       "      <td>6</td>\n",
       "    </tr>\n",
       "    <tr>\n",
       "      <th>3</th>\n",
       "      <td>6</td>\n",
       "      <td>3</td>\n",
       "      <td>9</td>\n",
       "    </tr>\n",
       "    <tr>\n",
       "      <th>4</th>\n",
       "      <td>2</td>\n",
       "      <td>9</td>\n",
       "      <td>5</td>\n",
       "    </tr>\n",
       "    <tr>\n",
       "      <th>5</th>\n",
       "      <td>3</td>\n",
       "      <td>7</td>\n",
       "      <td>8</td>\n",
       "    </tr>\n",
       "    <tr>\n",
       "      <th>6</th>\n",
       "      <td>4</td>\n",
       "      <td>1</td>\n",
       "      <td>7</td>\n",
       "    </tr>\n",
       "    <tr>\n",
       "      <th>7</th>\n",
       "      <td>1</td>\n",
       "      <td>4</td>\n",
       "      <td>1</td>\n",
       "    </tr>\n",
       "    <tr>\n",
       "      <th>8</th>\n",
       "      <td>8</td>\n",
       "      <td>6</td>\n",
       "      <td>0</td>\n",
       "    </tr>\n",
       "    <tr>\n",
       "      <th>9</th>\n",
       "      <td>0</td>\n",
       "      <td>8</td>\n",
       "      <td>2</td>\n",
       "    </tr>\n",
       "  </tbody>\n",
       "</table>\n",
       "</div>"
      ],
      "text/plain": [
       "   0  1  2\n",
       "0  7  0  3\n",
       "1  9  2  4\n",
       "2  5  5  6\n",
       "3  6  3  9\n",
       "4  2  9  5\n",
       "5  3  7  8\n",
       "6  4  1  7\n",
       "7  1  4  1\n",
       "8  8  6  0\n",
       "9  0  8  2"
      ]
     },
     "execution_count": 102,
     "metadata": {},
     "output_type": "execute_result"
    }
   ],
   "source": [
    "import pandas as pd \n",
    "import numpy as np \n",
    "\n",
    "generator = np.random.default_rng()\n",
    "nrows =10\n",
    "ncols = 3\n",
    "df = pd.DataFrame(np.array([generator.permutation(nrows) for _ in range(ncols)])).T\n",
    "df"
   ]
  },
  {
   "cell_type": "code",
   "execution_count": 103,
   "id": "efc0354e-5012-4a52-96ce-07f01074ae70",
   "metadata": {},
   "outputs": [
    {
     "data": {
      "text/plain": [
       "0    0\n",
       "1    2\n",
       "2    5\n",
       "3    3\n",
       "4    9\n",
       "5    7\n",
       "6    1\n",
       "7    4\n",
       "8    6\n",
       "9    8\n",
       "Name: 1, dtype: int64"
      ]
     },
     "execution_count": 103,
     "metadata": {},
     "output_type": "execute_result"
    }
   ],
   "source": [
    "df[1]"
   ]
  },
  {
   "cell_type": "code",
   "execution_count": 104,
   "id": "f2d4bcce-64b7-4181-b5df-b79c1d3cb7dc",
   "metadata": {},
   "outputs": [],
   "source": [
    "mask = [True] * len(df)\n",
    "mask &= df[1].notnull().all()"
   ]
  },
  {
   "cell_type": "code",
   "execution_count": 105,
   "id": "e91bfae4-8335-464e-bcc9-600ef336f453",
   "metadata": {},
   "outputs": [
    {
     "data": {
      "text/plain": [
       "array([ True,  True,  True,  True,  True,  True,  True,  True,  True,\n",
       "        True])"
      ]
     },
     "execution_count": 105,
     "metadata": {},
     "output_type": "execute_result"
    }
   ],
   "source": [
    "mask"
   ]
  },
  {
   "cell_type": "code",
   "execution_count": 106,
   "id": "d49fb5dc-9a69-4e99-bca5-0d9473f6d02a",
   "metadata": {},
   "outputs": [
    {
     "data": {
      "text/html": [
       "<div>\n",
       "<style scoped>\n",
       "    .dataframe tbody tr th:only-of-type {\n",
       "        vertical-align: middle;\n",
       "    }\n",
       "\n",
       "    .dataframe tbody tr th {\n",
       "        vertical-align: top;\n",
       "    }\n",
       "\n",
       "    .dataframe thead th {\n",
       "        text-align: right;\n",
       "    }\n",
       "</style>\n",
       "<table border=\"1\" class=\"dataframe\">\n",
       "  <thead>\n",
       "    <tr style=\"text-align: right;\">\n",
       "      <th></th>\n",
       "      <th>0</th>\n",
       "      <th>1</th>\n",
       "      <th>2</th>\n",
       "    </tr>\n",
       "  </thead>\n",
       "  <tbody>\n",
       "    <tr>\n",
       "      <th>0</th>\n",
       "      <td>7</td>\n",
       "      <td>0</td>\n",
       "      <td>3</td>\n",
       "    </tr>\n",
       "    <tr>\n",
       "      <th>1</th>\n",
       "      <td>9</td>\n",
       "      <td>2</td>\n",
       "      <td>4</td>\n",
       "    </tr>\n",
       "    <tr>\n",
       "      <th>2</th>\n",
       "      <td>5</td>\n",
       "      <td>5</td>\n",
       "      <td>6</td>\n",
       "    </tr>\n",
       "    <tr>\n",
       "      <th>3</th>\n",
       "      <td>6</td>\n",
       "      <td>3</td>\n",
       "      <td>9</td>\n",
       "    </tr>\n",
       "    <tr>\n",
       "      <th>4</th>\n",
       "      <td>2</td>\n",
       "      <td>9</td>\n",
       "      <td>5</td>\n",
       "    </tr>\n",
       "    <tr>\n",
       "      <th>5</th>\n",
       "      <td>3</td>\n",
       "      <td>7</td>\n",
       "      <td>8</td>\n",
       "    </tr>\n",
       "    <tr>\n",
       "      <th>6</th>\n",
       "      <td>4</td>\n",
       "      <td>1</td>\n",
       "      <td>7</td>\n",
       "    </tr>\n",
       "    <tr>\n",
       "      <th>7</th>\n",
       "      <td>1</td>\n",
       "      <td>4</td>\n",
       "      <td>1</td>\n",
       "    </tr>\n",
       "    <tr>\n",
       "      <th>8</th>\n",
       "      <td>8</td>\n",
       "      <td>6</td>\n",
       "      <td>0</td>\n",
       "    </tr>\n",
       "    <tr>\n",
       "      <th>9</th>\n",
       "      <td>0</td>\n",
       "      <td>8</td>\n",
       "      <td>2</td>\n",
       "    </tr>\n",
       "  </tbody>\n",
       "</table>\n",
       "</div>"
      ],
      "text/plain": [
       "   0  1  2\n",
       "0  7  0  3\n",
       "1  9  2  4\n",
       "2  5  5  6\n",
       "3  6  3  9\n",
       "4  2  9  5\n",
       "5  3  7  8\n",
       "6  4  1  7\n",
       "7  1  4  1\n",
       "8  8  6  0\n",
       "9  0  8  2"
      ]
     },
     "execution_count": 106,
     "metadata": {},
     "output_type": "execute_result"
    }
   ],
   "source": [
    "df[mask]"
   ]
  },
  {
   "cell_type": "markdown",
   "id": "d7dea2e4-931a-4a2d-b6ae-71773088d287",
   "metadata": {},
   "source": [
    "# Inspect signature "
   ]
  },
  {
   "cell_type": "code",
   "execution_count": 9,
   "id": "7650672e-352a-4191-a03a-edf12e8f5398",
   "metadata": {},
   "outputs": [],
   "source": [
    "import inspect \n",
    "from pathlib import Path\n",
    "from cloudpathlib import AnyPath"
   ]
  },
  {
   "cell_type": "code",
   "execution_count": 4,
   "id": "a7f40781-9bf8-44df-93ae-64aadffb0f81",
   "metadata": {},
   "outputs": [],
   "source": [
    "def myfunc(a: int, b: str): print(f\"{a}: {b}\")"
   ]
  },
  {
   "cell_type": "code",
   "execution_count": 5,
   "id": "3a920581-49a1-46c6-97b6-76c247c18caf",
   "metadata": {},
   "outputs": [
    {
     "data": {
      "text/plain": [
       "\u001b[0;31mSignature:\u001b[0m\n",
       "\u001b[0minspect\u001b[0m\u001b[0;34m.\u001b[0m\u001b[0msignature\u001b[0m\u001b[0;34m(\u001b[0m\u001b[0;34m\u001b[0m\n",
       "\u001b[0;34m\u001b[0m    \u001b[0mobj\u001b[0m\u001b[0;34m,\u001b[0m\u001b[0;34m\u001b[0m\n",
       "\u001b[0;34m\u001b[0m    \u001b[0;34m*\u001b[0m\u001b[0;34m,\u001b[0m\u001b[0;34m\u001b[0m\n",
       "\u001b[0;34m\u001b[0m    \u001b[0mfollow_wrapped\u001b[0m\u001b[0;34m=\u001b[0m\u001b[0;32mTrue\u001b[0m\u001b[0;34m,\u001b[0m\u001b[0;34m\u001b[0m\n",
       "\u001b[0;34m\u001b[0m    \u001b[0mglobals\u001b[0m\u001b[0;34m=\u001b[0m\u001b[0;32mNone\u001b[0m\u001b[0;34m,\u001b[0m\u001b[0;34m\u001b[0m\n",
       "\u001b[0;34m\u001b[0m    \u001b[0mlocals\u001b[0m\u001b[0;34m=\u001b[0m\u001b[0;32mNone\u001b[0m\u001b[0;34m,\u001b[0m\u001b[0;34m\u001b[0m\n",
       "\u001b[0;34m\u001b[0m    \u001b[0meval_str\u001b[0m\u001b[0;34m=\u001b[0m\u001b[0;32mFalse\u001b[0m\u001b[0;34m,\u001b[0m\u001b[0;34m\u001b[0m\n",
       "\u001b[0;34m\u001b[0m\u001b[0;34m)\u001b[0m\u001b[0;34m\u001b[0m\u001b[0;34m\u001b[0m\u001b[0m\n",
       "\u001b[0;31mSource:\u001b[0m   \n",
       "\u001b[0;32mdef\u001b[0m \u001b[0msignature\u001b[0m\u001b[0;34m(\u001b[0m\u001b[0mobj\u001b[0m\u001b[0;34m,\u001b[0m \u001b[0;34m*\u001b[0m\u001b[0;34m,\u001b[0m \u001b[0mfollow_wrapped\u001b[0m\u001b[0;34m=\u001b[0m\u001b[0;32mTrue\u001b[0m\u001b[0;34m,\u001b[0m \u001b[0mglobals\u001b[0m\u001b[0;34m=\u001b[0m\u001b[0;32mNone\u001b[0m\u001b[0;34m,\u001b[0m \u001b[0mlocals\u001b[0m\u001b[0;34m=\u001b[0m\u001b[0;32mNone\u001b[0m\u001b[0;34m,\u001b[0m \u001b[0meval_str\u001b[0m\u001b[0;34m=\u001b[0m\u001b[0;32mFalse\u001b[0m\u001b[0;34m)\u001b[0m\u001b[0;34m:\u001b[0m\u001b[0;34m\u001b[0m\n",
       "\u001b[0;34m\u001b[0m    \u001b[0;34m\"\"\"Get a signature object for the passed callable.\"\"\"\u001b[0m\u001b[0;34m\u001b[0m\n",
       "\u001b[0;34m\u001b[0m    \u001b[0;32mreturn\u001b[0m \u001b[0mSignature\u001b[0m\u001b[0;34m.\u001b[0m\u001b[0mfrom_callable\u001b[0m\u001b[0;34m(\u001b[0m\u001b[0mobj\u001b[0m\u001b[0;34m,\u001b[0m \u001b[0mfollow_wrapped\u001b[0m\u001b[0;34m=\u001b[0m\u001b[0mfollow_wrapped\u001b[0m\u001b[0;34m,\u001b[0m\u001b[0;34m\u001b[0m\n",
       "\u001b[0;34m\u001b[0m                                   \u001b[0mglobals\u001b[0m\u001b[0;34m=\u001b[0m\u001b[0mglobals\u001b[0m\u001b[0;34m,\u001b[0m \u001b[0mlocals\u001b[0m\u001b[0;34m=\u001b[0m\u001b[0mlocals\u001b[0m\u001b[0;34m,\u001b[0m \u001b[0meval_str\u001b[0m\u001b[0;34m=\u001b[0m\u001b[0meval_str\u001b[0m\u001b[0;34m)\u001b[0m\u001b[0;34m\u001b[0m\u001b[0;34m\u001b[0m\u001b[0m\n",
       "\u001b[0;31mFile:\u001b[0m      ~/.asdf/installs/python/3.10.12/lib/python3.10/inspect.py\n",
       "\u001b[0;31mType:\u001b[0m      function"
      ]
     },
     "metadata": {},
     "output_type": "display_data"
    }
   ],
   "source": [
    "inspect.signature??"
   ]
  },
  {
   "cell_type": "code",
   "execution_count": 6,
   "id": "9a272f78-fb8a-49b1-b681-5c5240f0d83b",
   "metadata": {},
   "outputs": [
    {
     "data": {
      "text/plain": [
       "<Signature (a: int, b: str)>"
      ]
     },
     "execution_count": 6,
     "metadata": {},
     "output_type": "execute_result"
    }
   ],
   "source": [
    "inspect.signature(myfunc)"
   ]
  },
  {
   "cell_type": "code",
   "execution_count": 10,
   "id": "a43788e5-5c64-4d5f-86e8-f9d84207baf9",
   "metadata": {},
   "outputs": [
    {
     "ename": "TypeError",
     "evalue": "PosixPath('/home/mchristos') is not a callable object",
     "output_type": "error",
     "traceback": [
      "\u001b[0;31m---------------------------------------------------------------------------\u001b[0m",
      "\u001b[0;31mTypeError\u001b[0m                                 Traceback (most recent call last)",
      "Cell \u001b[0;32mIn[10], line 1\u001b[0m\n\u001b[0;32m----> 1\u001b[0m \u001b[43minspect\u001b[49m\u001b[38;5;241;43m.\u001b[39;49m\u001b[43msignature\u001b[49m\u001b[43m(\u001b[49m\u001b[43mAnyPath\u001b[49m\u001b[43m(\u001b[49m\u001b[38;5;124;43m\"\u001b[39;49m\u001b[38;5;124;43m/home/mchristos\u001b[39;49m\u001b[38;5;124;43m\"\u001b[39;49m\u001b[43m)\u001b[49m\u001b[43m)\u001b[49m\n",
      "File \u001b[0;32m~/.asdf/installs/python/3.10.12/lib/python3.10/inspect.py:3254\u001b[0m, in \u001b[0;36msignature\u001b[0;34m(obj, follow_wrapped, globals, locals, eval_str)\u001b[0m\n\u001b[1;32m   3252\u001b[0m \u001b[38;5;28;01mdef\u001b[39;00m \u001b[38;5;21msignature\u001b[39m(obj, \u001b[38;5;241m*\u001b[39m, follow_wrapped\u001b[38;5;241m=\u001b[39m\u001b[38;5;28;01mTrue\u001b[39;00m, \u001b[38;5;28mglobals\u001b[39m\u001b[38;5;241m=\u001b[39m\u001b[38;5;28;01mNone\u001b[39;00m, \u001b[38;5;28mlocals\u001b[39m\u001b[38;5;241m=\u001b[39m\u001b[38;5;28;01mNone\u001b[39;00m, eval_str\u001b[38;5;241m=\u001b[39m\u001b[38;5;28;01mFalse\u001b[39;00m):\n\u001b[1;32m   3253\u001b[0m \u001b[38;5;250m    \u001b[39m\u001b[38;5;124;03m\"\"\"Get a signature object for the passed callable.\"\"\"\u001b[39;00m\n\u001b[0;32m-> 3254\u001b[0m     \u001b[38;5;28;01mreturn\u001b[39;00m \u001b[43mSignature\u001b[49m\u001b[38;5;241;43m.\u001b[39;49m\u001b[43mfrom_callable\u001b[49m\u001b[43m(\u001b[49m\u001b[43mobj\u001b[49m\u001b[43m,\u001b[49m\u001b[43m \u001b[49m\u001b[43mfollow_wrapped\u001b[49m\u001b[38;5;241;43m=\u001b[39;49m\u001b[43mfollow_wrapped\u001b[49m\u001b[43m,\u001b[49m\n\u001b[1;32m   3255\u001b[0m \u001b[43m                                   \u001b[49m\u001b[38;5;28;43mglobals\u001b[39;49m\u001b[38;5;241;43m=\u001b[39;49m\u001b[38;5;28;43mglobals\u001b[39;49m\u001b[43m,\u001b[49m\u001b[43m \u001b[49m\u001b[38;5;28;43mlocals\u001b[39;49m\u001b[38;5;241;43m=\u001b[39;49m\u001b[38;5;28;43mlocals\u001b[39;49m\u001b[43m,\u001b[49m\u001b[43m \u001b[49m\u001b[43meval_str\u001b[49m\u001b[38;5;241;43m=\u001b[39;49m\u001b[43meval_str\u001b[49m\u001b[43m)\u001b[49m\n",
      "File \u001b[0;32m~/.asdf/installs/python/3.10.12/lib/python3.10/inspect.py:3002\u001b[0m, in \u001b[0;36mSignature.from_callable\u001b[0;34m(cls, obj, follow_wrapped, globals, locals, eval_str)\u001b[0m\n\u001b[1;32m   2998\u001b[0m \u001b[38;5;129m@classmethod\u001b[39m\n\u001b[1;32m   2999\u001b[0m \u001b[38;5;28;01mdef\u001b[39;00m \u001b[38;5;21mfrom_callable\u001b[39m(\u001b[38;5;28mcls\u001b[39m, obj, \u001b[38;5;241m*\u001b[39m,\n\u001b[1;32m   3000\u001b[0m                   follow_wrapped\u001b[38;5;241m=\u001b[39m\u001b[38;5;28;01mTrue\u001b[39;00m, \u001b[38;5;28mglobals\u001b[39m\u001b[38;5;241m=\u001b[39m\u001b[38;5;28;01mNone\u001b[39;00m, \u001b[38;5;28mlocals\u001b[39m\u001b[38;5;241m=\u001b[39m\u001b[38;5;28;01mNone\u001b[39;00m, eval_str\u001b[38;5;241m=\u001b[39m\u001b[38;5;28;01mFalse\u001b[39;00m):\n\u001b[1;32m   3001\u001b[0m \u001b[38;5;250m    \u001b[39m\u001b[38;5;124;03m\"\"\"Constructs Signature for the given callable object.\"\"\"\u001b[39;00m\n\u001b[0;32m-> 3002\u001b[0m     \u001b[38;5;28;01mreturn\u001b[39;00m \u001b[43m_signature_from_callable\u001b[49m\u001b[43m(\u001b[49m\u001b[43mobj\u001b[49m\u001b[43m,\u001b[49m\u001b[43m \u001b[49m\u001b[43msigcls\u001b[49m\u001b[38;5;241;43m=\u001b[39;49m\u001b[38;5;28;43mcls\u001b[39;49m\u001b[43m,\u001b[49m\n\u001b[1;32m   3003\u001b[0m \u001b[43m                                    \u001b[49m\u001b[43mfollow_wrapper_chains\u001b[49m\u001b[38;5;241;43m=\u001b[39;49m\u001b[43mfollow_wrapped\u001b[49m\u001b[43m,\u001b[49m\n\u001b[1;32m   3004\u001b[0m \u001b[43m                                    \u001b[49m\u001b[38;5;28;43mglobals\u001b[39;49m\u001b[38;5;241;43m=\u001b[39;49m\u001b[38;5;28;43mglobals\u001b[39;49m\u001b[43m,\u001b[49m\u001b[43m \u001b[49m\u001b[38;5;28;43mlocals\u001b[39;49m\u001b[38;5;241;43m=\u001b[39;49m\u001b[38;5;28;43mlocals\u001b[39;49m\u001b[43m,\u001b[49m\u001b[43m \u001b[49m\u001b[43meval_str\u001b[49m\u001b[38;5;241;43m=\u001b[39;49m\u001b[43meval_str\u001b[49m\u001b[43m)\u001b[49m\n",
      "File \u001b[0;32m~/.asdf/installs/python/3.10.12/lib/python3.10/inspect.py:2396\u001b[0m, in \u001b[0;36m_signature_from_callable\u001b[0;34m(obj, follow_wrapper_chains, skip_bound_arg, globals, locals, eval_str, sigcls)\u001b[0m\n\u001b[1;32m   2387\u001b[0m _get_signature_of \u001b[38;5;241m=\u001b[39m functools\u001b[38;5;241m.\u001b[39mpartial(_signature_from_callable,\n\u001b[1;32m   2388\u001b[0m                             follow_wrapper_chains\u001b[38;5;241m=\u001b[39mfollow_wrapper_chains,\n\u001b[1;32m   2389\u001b[0m                             skip_bound_arg\u001b[38;5;241m=\u001b[39mskip_bound_arg,\n\u001b[0;32m   (...)\u001b[0m\n\u001b[1;32m   2392\u001b[0m                             sigcls\u001b[38;5;241m=\u001b[39msigcls,\n\u001b[1;32m   2393\u001b[0m                             eval_str\u001b[38;5;241m=\u001b[39meval_str)\n\u001b[1;32m   2395\u001b[0m \u001b[38;5;28;01mif\u001b[39;00m \u001b[38;5;129;01mnot\u001b[39;00m \u001b[38;5;28mcallable\u001b[39m(obj):\n\u001b[0;32m-> 2396\u001b[0m     \u001b[38;5;28;01mraise\u001b[39;00m \u001b[38;5;167;01mTypeError\u001b[39;00m(\u001b[38;5;124m'\u001b[39m\u001b[38;5;132;01m{!r}\u001b[39;00m\u001b[38;5;124m is not a callable object\u001b[39m\u001b[38;5;124m'\u001b[39m\u001b[38;5;241m.\u001b[39mformat(obj))\n\u001b[1;32m   2398\u001b[0m \u001b[38;5;28;01mif\u001b[39;00m \u001b[38;5;28misinstance\u001b[39m(obj, types\u001b[38;5;241m.\u001b[39mMethodType):\n\u001b[1;32m   2399\u001b[0m     \u001b[38;5;66;03m# In this case we skip the first parameter of the underlying\u001b[39;00m\n\u001b[1;32m   2400\u001b[0m     \u001b[38;5;66;03m# function (usually `self` or `cls`).\u001b[39;00m\n\u001b[1;32m   2401\u001b[0m     sig \u001b[38;5;241m=\u001b[39m _get_signature_of(obj\u001b[38;5;241m.\u001b[39m\u001b[38;5;18m__func__\u001b[39m)\n",
      "\u001b[0;31mTypeError\u001b[0m: PosixPath('/home/mchristos') is not a callable object"
     ]
    }
   ],
   "source": [
    "inspect.signature(AnyPath(\"/home/mchristos\"))"
   ]
  },
  {
   "cell_type": "markdown",
   "id": "7facf2c4-225e-4ff6-a760-e346ad7dc013",
   "metadata": {},
   "source": [
    "# pandas sampling and shuffling "
   ]
  },
  {
   "cell_type": "code",
   "execution_count": 15,
   "id": "42534e4b-4e25-4e4e-874e-516c28ba76a3",
   "metadata": {},
   "outputs": [
    {
     "ename": "ValueError",
     "evalue": "Cannot take a larger sample than population when 'replace=False'",
     "output_type": "error",
     "traceback": [
      "\u001b[0;31m---------------------------------------------------------------------------\u001b[0m",
      "\u001b[0;31mValueError\u001b[0m                                Traceback (most recent call last)",
      "Cell \u001b[0;32mIn[15], line 3\u001b[0m\n\u001b[1;32m      1\u001b[0m \u001b[38;5;28;01mimport\u001b[39;00m \u001b[38;5;21;01mpandas\u001b[39;00m \u001b[38;5;28;01mas\u001b[39;00m \u001b[38;5;21;01mpd\u001b[39;00m \n\u001b[0;32m----> 3\u001b[0m \u001b[43mpd\u001b[49m\u001b[38;5;241;43m.\u001b[39;49m\u001b[43mSeries\u001b[49m\u001b[43m(\u001b[49m\u001b[43m[\u001b[49m\u001b[38;5;241;43m1\u001b[39;49m\u001b[43m,\u001b[49m\u001b[38;5;241;43m2\u001b[39;49m\u001b[43m,\u001b[49m\u001b[38;5;241;43m3\u001b[39;49m\u001b[43m]\u001b[49m\u001b[43m)\u001b[49m\u001b[38;5;241;43m.\u001b[39;49m\u001b[43msample\u001b[49m\u001b[43m(\u001b[49m\u001b[38;5;241;43m5\u001b[39;49m\u001b[43m)\u001b[49m\n",
      "File \u001b[0;32m~/.asdf/installs/python/3.10.12/lib/python3.10/site-packages/pandas/core/generic.py:6029\u001b[0m, in \u001b[0;36mNDFrame.sample\u001b[0;34m(self, n, frac, replace, weights, random_state, axis, ignore_index)\u001b[0m\n\u001b[1;32m   6026\u001b[0m \u001b[38;5;28;01mif\u001b[39;00m weights \u001b[38;5;129;01mis\u001b[39;00m \u001b[38;5;129;01mnot\u001b[39;00m \u001b[38;5;28;01mNone\u001b[39;00m:\n\u001b[1;32m   6027\u001b[0m     weights \u001b[38;5;241m=\u001b[39m sample\u001b[38;5;241m.\u001b[39mpreprocess_weights(\u001b[38;5;28mself\u001b[39m, weights, axis)\n\u001b[0;32m-> 6029\u001b[0m sampled_indices \u001b[38;5;241m=\u001b[39m \u001b[43msample\u001b[49m\u001b[38;5;241;43m.\u001b[39;49m\u001b[43msample\u001b[49m\u001b[43m(\u001b[49m\u001b[43mobj_len\u001b[49m\u001b[43m,\u001b[49m\u001b[43m \u001b[49m\u001b[43msize\u001b[49m\u001b[43m,\u001b[49m\u001b[43m \u001b[49m\u001b[43mreplace\u001b[49m\u001b[43m,\u001b[49m\u001b[43m \u001b[49m\u001b[43mweights\u001b[49m\u001b[43m,\u001b[49m\u001b[43m \u001b[49m\u001b[43mrs\u001b[49m\u001b[43m)\u001b[49m\n\u001b[1;32m   6030\u001b[0m result \u001b[38;5;241m=\u001b[39m \u001b[38;5;28mself\u001b[39m\u001b[38;5;241m.\u001b[39mtake(sampled_indices, axis\u001b[38;5;241m=\u001b[39maxis)\n\u001b[1;32m   6032\u001b[0m \u001b[38;5;28;01mif\u001b[39;00m ignore_index:\n",
      "File \u001b[0;32m~/.asdf/installs/python/3.10.12/lib/python3.10/site-packages/pandas/core/sample.py:152\u001b[0m, in \u001b[0;36msample\u001b[0;34m(obj_len, size, replace, weights, random_state)\u001b[0m\n\u001b[1;32m    149\u001b[0m     \u001b[38;5;28;01melse\u001b[39;00m:\n\u001b[1;32m    150\u001b[0m         \u001b[38;5;28;01mraise\u001b[39;00m \u001b[38;5;167;01mValueError\u001b[39;00m(\u001b[38;5;124m\"\u001b[39m\u001b[38;5;124mInvalid weights: weights sum to zero\u001b[39m\u001b[38;5;124m\"\u001b[39m)\n\u001b[0;32m--> 152\u001b[0m \u001b[38;5;28;01mreturn\u001b[39;00m \u001b[43mrandom_state\u001b[49m\u001b[38;5;241;43m.\u001b[39;49m\u001b[43mchoice\u001b[49m\u001b[43m(\u001b[49m\u001b[43mobj_len\u001b[49m\u001b[43m,\u001b[49m\u001b[43m \u001b[49m\u001b[43msize\u001b[49m\u001b[38;5;241;43m=\u001b[39;49m\u001b[43msize\u001b[49m\u001b[43m,\u001b[49m\u001b[43m \u001b[49m\u001b[43mreplace\u001b[49m\u001b[38;5;241;43m=\u001b[39;49m\u001b[43mreplace\u001b[49m\u001b[43m,\u001b[49m\u001b[43m \u001b[49m\u001b[43mp\u001b[49m\u001b[38;5;241;43m=\u001b[39;49m\u001b[43mweights\u001b[49m\u001b[43m)\u001b[49m\u001b[38;5;241m.\u001b[39mastype(\n\u001b[1;32m    153\u001b[0m     np\u001b[38;5;241m.\u001b[39mintp, copy\u001b[38;5;241m=\u001b[39m\u001b[38;5;28;01mFalse\u001b[39;00m\n\u001b[1;32m    154\u001b[0m )\n",
      "File \u001b[0;32mmtrand.pyx:1000\u001b[0m, in \u001b[0;36mnumpy.random.mtrand.RandomState.choice\u001b[0;34m()\u001b[0m\n",
      "\u001b[0;31mValueError\u001b[0m: Cannot take a larger sample than population when 'replace=False'"
     ]
    }
   ],
   "source": [
    "import pandas as pd \n",
    "\n",
    "pd.Series([1,2,3]).sample(5)"
   ]
  },
  {
   "cell_type": "code",
   "execution_count": 16,
   "id": "5e1a1728-64b1-4e77-8f85-79c34e634756",
   "metadata": {},
   "outputs": [],
   "source": [
    "uris = [\"b;a\", \"bla\", \"hi\"]\n",
    "max_images=2\n",
    "if max_images and max_images < len(uris):\n",
    "    uris = list(pd.Series(uris).sample(max_images, random_state=0))"
   ]
  },
  {
   "cell_type": "code",
   "execution_count": 17,
   "id": "8ff34247-644c-4a90-97af-12de6c1cf944",
   "metadata": {},
   "outputs": [
    {
     "data": {
      "text/plain": [
       "['hi', 'bla']"
      ]
     },
     "execution_count": 17,
     "metadata": {},
     "output_type": "execute_result"
    }
   ],
   "source": [
    "uris"
   ]
  },
  {
   "cell_type": "code",
   "execution_count": 33,
   "id": "22e797b2-a7cb-4d7f-b5c1-e181ec6a06ea",
   "metadata": {
    "editable": true,
    "slideshow": {
     "slide_type": ""
    },
    "tags": []
   },
   "outputs": [
    {
     "data": {
      "text/plain": [
       "['hi', 'b;a', 'bla']"
      ]
     },
     "execution_count": 33,
     "metadata": {},
     "output_type": "execute_result"
    }
   ],
   "source": [
    "uris = [\"b;a\", \"bla\", \"hi\", \"gs://\", \"myuri\"]\n",
    "list(pd.Series(uris).sample(len(uris), random_state=0))[:3]"
   ]
  },
  {
   "cell_type": "code",
   "execution_count": 39,
   "id": "8297f725-183a-4839-b65b-9b8a6ee4f184",
   "metadata": {},
   "outputs": [
    {
     "data": {
      "text/plain": [
       "['b;a', 'gs://', 'myuri', 'hi', 'bla']"
      ]
     },
     "execution_count": 39,
     "metadata": {},
     "output_type": "execute_result"
    }
   ],
   "source": [
    "import random \n",
    "random.shuffle(uris)\n",
    "uris"
   ]
  },
  {
   "cell_type": "markdown",
   "id": "2d230366-f936-4946-b975-a8ddd514e341",
   "metadata": {},
   "source": [
    "# streaming into a csv file "
   ]
  },
  {
   "cell_type": "code",
   "execution_count": 42,
   "id": "bfc3a11b-0eb7-4fa1-bf55-74b1a6723d93",
   "metadata": {},
   "outputs": [],
   "source": [
    "import pandas as pd\n",
    "for data in iter([[\"Row1\", 1], [\"Row2\", 2], [\"Row3\", 3]]): pd.DataFrame([data]).to_csv('output.csv', mode='a', header=False, index=False)"
   ]
  },
  {
   "cell_type": "markdown",
   "id": "e75a985a-839d-416a-99ef-be057aad9866",
   "metadata": {},
   "source": [
    "# pydantic json serialization "
   ]
  },
  {
   "cell_type": "code",
   "execution_count": 43,
   "id": "dd836c24-4967-4cf8-9106-204523e66d0a",
   "metadata": {},
   "outputs": [],
   "source": [
    "import pydantic.json import pyda"
   ]
  },
  {
   "cell_type": "code",
   "execution_count": 44,
   "id": "4319daf7-f057-4af3-a38e-1dedac2a2985",
   "metadata": {},
   "outputs": [
    {
     "ename": "AttributeError",
     "evalue": "module 'pydantic.json' has no attribute 'ENCODERS_BY_TYPE'",
     "output_type": "error",
     "traceback": [
      "\u001b[0;31m---------------------------------------------------------------------------\u001b[0m",
      "\u001b[0;31mAttributeError\u001b[0m                            Traceback (most recent call last)",
      "Cell \u001b[0;32mIn[44], line 1\u001b[0m\n\u001b[0;32m----> 1\u001b[0m \u001b[43mpydantic\u001b[49m\u001b[38;5;241;43m.\u001b[39;49m\u001b[43mjson\u001b[49m\u001b[38;5;241;43m.\u001b[39;49m\u001b[43mENCODERS_BY_TYPE\u001b[49m\n",
      "File \u001b[0;32m~/.asdf/installs/python/3.10.12/lib/python3.10/site-packages/pydantic/_migration.py:306\u001b[0m, in \u001b[0;36mgetattr_migration.<locals>.wrapper\u001b[0;34m(name)\u001b[0m\n\u001b[1;32m    304\u001b[0m \u001b[38;5;28;01mif\u001b[39;00m name \u001b[38;5;129;01min\u001b[39;00m \u001b[38;5;28mglobals\u001b[39m:\n\u001b[1;32m    305\u001b[0m     \u001b[38;5;28;01mreturn\u001b[39;00m \u001b[38;5;28mglobals\u001b[39m[name]\n\u001b[0;32m--> 306\u001b[0m \u001b[38;5;28;01mraise\u001b[39;00m \u001b[38;5;167;01mAttributeError\u001b[39;00m(\u001b[38;5;124mf\u001b[39m\u001b[38;5;124m'\u001b[39m\u001b[38;5;124mmodule \u001b[39m\u001b[38;5;132;01m{\u001b[39;00mmodule\u001b[38;5;132;01m!r}\u001b[39;00m\u001b[38;5;124m has no attribute \u001b[39m\u001b[38;5;132;01m{\u001b[39;00mname\u001b[38;5;132;01m!r}\u001b[39;00m\u001b[38;5;124m'\u001b[39m)\n",
      "\u001b[0;31mAttributeError\u001b[0m: module 'pydantic.json' has no attribute 'ENCODERS_BY_TYPE'"
     ]
    }
   ],
   "source": [
    "pydantic.json.ENCODERS_BY_TYPE"
   ]
  },
  {
   "cell_type": "markdown",
   "id": "bf264bad-c372-42b6-bc7e-950676c8ef18",
   "metadata": {},
   "source": [
    "# reversing lists"
   ]
  },
  {
   "cell_type": "code",
   "execution_count": 1,
   "id": "625dbd50-8698-495b-a86d-377e4023af33",
   "metadata": {},
   "outputs": [],
   "source": [
    "x = [1,2,3]"
   ]
  },
  {
   "cell_type": "code",
   "execution_count": 8,
   "id": "568d7933-6680-4bea-9ad0-b40b42d9a0fd",
   "metadata": {},
   "outputs": [
    {
     "data": {
      "text/plain": [
       "[3, 2, 1]"
      ]
     },
     "execution_count": 8,
     "metadata": {},
     "output_type": "execute_result"
    }
   ],
   "source": [
    "list(reversed(x))"
   ]
  },
  {
   "cell_type": "code",
   "execution_count": 9,
   "id": "9bc0f317-ce74-412f-8797-6d507683c9d7",
   "metadata": {},
   "outputs": [
    {
     "data": {
      "text/plain": [
       "[1, 2, 3]"
      ]
     },
     "execution_count": 9,
     "metadata": {},
     "output_type": "execute_result"
    }
   ],
   "source": [
    "x"
   ]
  },
  {
   "cell_type": "markdown",
   "id": "61b430c8-fc5d-4642-ad81-d77782eb99a7",
   "metadata": {},
   "source": [
    "# os.environ "
   ]
  },
  {
   "cell_type": "code",
   "execution_count": 10,
   "id": "4157e329-c277-48ed-a548-67cba5c3c152",
   "metadata": {},
   "outputs": [
    {
     "data": {
      "text/plain": [
       "\u001b[0;31mSignature:\u001b[0m \u001b[0mos\u001b[0m\u001b[0;34m.\u001b[0m\u001b[0menviron\u001b[0m\u001b[0;34m.\u001b[0m\u001b[0mget\u001b[0m\u001b[0;34m(\u001b[0m\u001b[0mkey\u001b[0m\u001b[0;34m,\u001b[0m \u001b[0mdefault\u001b[0m\u001b[0;34m=\u001b[0m\u001b[0;32mNone\u001b[0m\u001b[0;34m)\u001b[0m\u001b[0;34m\u001b[0m\u001b[0;34m\u001b[0m\u001b[0m\n",
       "\u001b[0;31mSource:\u001b[0m   \n",
       "    \u001b[0;32mdef\u001b[0m \u001b[0mget\u001b[0m\u001b[0;34m(\u001b[0m\u001b[0mself\u001b[0m\u001b[0;34m,\u001b[0m \u001b[0mkey\u001b[0m\u001b[0;34m,\u001b[0m \u001b[0mdefault\u001b[0m\u001b[0;34m=\u001b[0m\u001b[0;32mNone\u001b[0m\u001b[0;34m)\u001b[0m\u001b[0;34m:\u001b[0m\u001b[0;34m\u001b[0m\n",
       "\u001b[0;34m\u001b[0m        \u001b[0;34m'D.get(k[,d]) -> D[k] if k in D, else d.  d defaults to None.'\u001b[0m\u001b[0;34m\u001b[0m\n",
       "\u001b[0;34m\u001b[0m        \u001b[0;32mtry\u001b[0m\u001b[0;34m:\u001b[0m\u001b[0;34m\u001b[0m\n",
       "\u001b[0;34m\u001b[0m            \u001b[0;32mreturn\u001b[0m \u001b[0mself\u001b[0m\u001b[0;34m[\u001b[0m\u001b[0mkey\u001b[0m\u001b[0;34m]\u001b[0m\u001b[0;34m\u001b[0m\n",
       "\u001b[0;34m\u001b[0m        \u001b[0;32mexcept\u001b[0m \u001b[0mKeyError\u001b[0m\u001b[0;34m:\u001b[0m\u001b[0;34m\u001b[0m\n",
       "\u001b[0;34m\u001b[0m            \u001b[0;32mreturn\u001b[0m \u001b[0mdefault\u001b[0m\u001b[0;34m\u001b[0m\u001b[0;34m\u001b[0m\u001b[0m\n",
       "\u001b[0;31mFile:\u001b[0m      ~/.asdf/installs/python/3.10.12/lib/python3.10/_collections_abc.py\n",
       "\u001b[0;31mType:\u001b[0m      method"
      ]
     },
     "metadata": {},
     "output_type": "display_data"
    }
   ],
   "source": [
    "import os \n",
    "os.environ.get??"
   ]
  },
  {
   "cell_type": "code",
   "execution_count": 12,
   "id": "83ac4d20-3ac8-4027-b14f-2fb96e2b05b9",
   "metadata": {},
   "outputs": [
    {
     "data": {
      "text/plain": [
       "'hello!'"
      ]
     },
     "execution_count": 12,
     "metadata": {},
     "output_type": "execute_result"
    }
   ],
   "source": [
    "myvar = os.environ.get(\"MYVAR\") or \"hello!\"\n",
    "myvar"
   ]
  },
  {
   "cell_type": "markdown",
   "id": "8625f335-cf53-4d7e-b835-8b307dcf694b",
   "metadata": {},
   "source": [
    "# checking if urls exist "
   ]
  },
  {
   "cell_type": "code",
   "execution_count": 13,
   "id": "e854201f-81f6-4a10-b2ac-282d5249fd6f",
   "metadata": {},
   "outputs": [],
   "source": [
    "import requests\n",
    "\n",
    "def is_url_image(image_url):\n",
    "   image_formats = (\"image/png\", \"image/jpeg\", \"image/jpg\")\n",
    "   r = requests.head(image_url)\n",
    "   if r.headers[\"content-type\"] in image_formats:\n",
    "      return True\n",
    "   return False"
   ]
  },
  {
   "cell_type": "code",
   "execution_count": 18,
   "id": "65e5dc9d-d8ed-4e4d-9a58-e03fc7331e43",
   "metadata": {},
   "outputs": [],
   "source": [
    "im_url = \"https://www.princeton.edu/sites/default/files/styles/1x_full_2x_half_crop/public/images/2022/02/KOA_Nassau_2697x1517.jpg?itok=Bg2K7j7J\""
   ]
  },
  {
   "cell_type": "code",
   "execution_count": 19,
   "id": "930f2883-20c9-40a2-9b8c-8150874f2715",
   "metadata": {},
   "outputs": [
    {
     "data": {
      "text/plain": [
       "True"
      ]
     },
     "execution_count": 19,
     "metadata": {},
     "output_type": "execute_result"
    }
   ],
   "source": [
    "is_url_image(im_url)"
   ]
  },
  {
   "cell_type": "code",
   "execution_count": 15,
   "id": "b856a108-c6d4-4fca-80cb-64ee3f858e9c",
   "metadata": {},
   "outputs": [
    {
     "data": {
      "text/plain": [
       "False"
      ]
     },
     "execution_count": 15,
     "metadata": {},
     "output_type": "execute_result"
    }
   ],
   "source": [
    "is_url_image(\"https://www.princeton.edu/fake.png\")"
   ]
  },
  {
   "cell_type": "code",
   "execution_count": 16,
   "id": "1c9c352d-1783-4e15-9514-97b1b421c8d2",
   "metadata": {},
   "outputs": [
    {
     "data": {
      "text/plain": [
       "<Response [404]>"
      ]
     },
     "execution_count": 16,
     "metadata": {},
     "output_type": "execute_result"
    }
   ],
   "source": [
    "requests.head(\"https://www.princeton.edu/fake.png\")"
   ]
  },
  {
   "cell_type": "code",
   "execution_count": 17,
   "id": "7612c7a4-eb14-4412-8f85-958b68590bf8",
   "metadata": {},
   "outputs": [
    {
     "data": {
      "text/plain": [
       "\u001b[0;31mSignature:\u001b[0m \u001b[0mrequests\u001b[0m\u001b[0;34m.\u001b[0m\u001b[0mhead\u001b[0m\u001b[0;34m(\u001b[0m\u001b[0murl\u001b[0m\u001b[0;34m,\u001b[0m \u001b[0;34m**\u001b[0m\u001b[0mkwargs\u001b[0m\u001b[0;34m)\u001b[0m\u001b[0;34m\u001b[0m\u001b[0;34m\u001b[0m\u001b[0m\n",
       "\u001b[0;31mSource:\u001b[0m   \n",
       "\u001b[0;32mdef\u001b[0m \u001b[0mhead\u001b[0m\u001b[0;34m(\u001b[0m\u001b[0murl\u001b[0m\u001b[0;34m,\u001b[0m \u001b[0;34m**\u001b[0m\u001b[0mkwargs\u001b[0m\u001b[0;34m)\u001b[0m\u001b[0;34m:\u001b[0m\u001b[0;34m\u001b[0m\n",
       "\u001b[0;34m\u001b[0m    \u001b[0;34mr\"\"\"Sends a HEAD request.\u001b[0m\n",
       "\u001b[0;34m\u001b[0m\n",
       "\u001b[0;34m    :param url: URL for the new :class:`Request` object.\u001b[0m\n",
       "\u001b[0;34m    :param \\*\\*kwargs: Optional arguments that ``request`` takes. If\u001b[0m\n",
       "\u001b[0;34m        `allow_redirects` is not provided, it will be set to `False` (as\u001b[0m\n",
       "\u001b[0;34m        opposed to the default :meth:`request` behavior).\u001b[0m\n",
       "\u001b[0;34m    :return: :class:`Response <Response>` object\u001b[0m\n",
       "\u001b[0;34m    :rtype: requests.Response\u001b[0m\n",
       "\u001b[0;34m    \"\"\"\u001b[0m\u001b[0;34m\u001b[0m\n",
       "\u001b[0;34m\u001b[0m\u001b[0;34m\u001b[0m\n",
       "\u001b[0;34m\u001b[0m    \u001b[0mkwargs\u001b[0m\u001b[0;34m.\u001b[0m\u001b[0msetdefault\u001b[0m\u001b[0;34m(\u001b[0m\u001b[0;34m\"allow_redirects\"\u001b[0m\u001b[0;34m,\u001b[0m \u001b[0;32mFalse\u001b[0m\u001b[0;34m)\u001b[0m\u001b[0;34m\u001b[0m\n",
       "\u001b[0;34m\u001b[0m    \u001b[0;32mreturn\u001b[0m \u001b[0mrequest\u001b[0m\u001b[0;34m(\u001b[0m\u001b[0;34m\"head\"\u001b[0m\u001b[0;34m,\u001b[0m \u001b[0murl\u001b[0m\u001b[0;34m,\u001b[0m \u001b[0;34m**\u001b[0m\u001b[0mkwargs\u001b[0m\u001b[0;34m)\u001b[0m\u001b[0;34m\u001b[0m\u001b[0;34m\u001b[0m\u001b[0m\n",
       "\u001b[0;31mFile:\u001b[0m      ~/.local/lib/python3.10/site-packages/requests/api.py\n",
       "\u001b[0;31mType:\u001b[0m      function"
      ]
     },
     "metadata": {},
     "output_type": "display_data"
    }
   ],
   "source": [
    "requests.head??"
   ]
  },
  {
   "cell_type": "code",
   "execution_count": 22,
   "id": "65311004-1584-4763-8cc9-6368a230f5d8",
   "metadata": {},
   "outputs": [],
   "source": [
    "from cloudpathlib import AnyPath"
   ]
  },
  {
   "cell_type": "code",
   "execution_count": 24,
   "id": "21f8ac80-ce8d-49a9-90b6-715e5c12ed2d",
   "metadata": {},
   "outputs": [],
   "source": [
    "p = AnyPath(im_url)"
   ]
  },
  {
   "cell_type": "code",
   "execution_count": 25,
   "id": "e7310b96-a207-4a89-be7c-064d07de228d",
   "metadata": {},
   "outputs": [
    {
     "data": {
      "text/plain": [
       "PosixPath('https:/www.princeton.edu/sites/default/files/styles/1x_full_2x_half_crop/public/images/2022/02/KOA_Nassau_2697x1517.jpg?itok=Bg2K7j7J')"
      ]
     },
     "execution_count": 25,
     "metadata": {},
     "output_type": "execute_result"
    }
   ],
   "source": [
    "p"
   ]
  },
  {
   "cell_type": "code",
   "execution_count": 26,
   "id": "a33b1ad8-aebc-417d-824e-cc4f51bdd6a9",
   "metadata": {},
   "outputs": [
    {
     "data": {
      "text/plain": [
       "False"
      ]
     },
     "execution_count": 26,
     "metadata": {},
     "output_type": "execute_result"
    }
   ],
   "source": [
    "p.exists()"
   ]
  },
  {
   "cell_type": "code",
   "execution_count": null,
   "id": "82b334f5-8732-4028-8ea4-51e930184bfa",
   "metadata": {},
   "outputs": [],
   "source": [
    "p.startwith()"
   ]
  },
  {
   "cell_type": "code",
   "execution_count": 6,
   "id": "cc63b333-4643-4fc7-a9d3-9c87276f8c72",
   "metadata": {},
   "outputs": [
    {
     "data": {
      "text/plain": [
       "['a', 'b', 'c']"
      ]
     },
     "execution_count": 6,
     "metadata": {},
     "output_type": "execute_result"
    }
   ],
   "source": [
    "lst = \n",
    "[*dict.fromkeys(['a','b','c', 'a', 'c'])]"
   ]
  },
  {
   "cell_type": "code",
   "execution_count": null,
   "id": "66da8a1d-0d3e-4d6a-80e5-215a28b1cf90",
   "metadata": {},
   "outputs": [],
   "source": []
  }
 ],
 "metadata": {
  "kernelspec": {
   "display_name": "Python 3 (ipykernel)",
   "language": "python",
   "name": "python3"
  },
  "language_info": {
   "codemirror_mode": {
    "name": "ipython",
    "version": 3
   },
   "file_extension": ".py",
   "mimetype": "text/x-python",
   "name": "python",
   "nbconvert_exporter": "python",
   "pygments_lexer": "ipython3",
   "version": "3.11.6"
  }
 },
 "nbformat": 4,
 "nbformat_minor": 5
}
